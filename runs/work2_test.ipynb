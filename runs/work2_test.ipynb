{
 "cells": [
  {
   "cell_type": "code",
   "execution_count": 1,
   "metadata": {
    "collapsed": false
   },
   "outputs": [],
   "source": [
    "from work_2.helper import *\n",
    "import tensorflow as tf \n",
    "import numpy as np \n",
    "from work_2.model2 import *\n",
    "import pandas as pd\n",
    "\n",
    "import matplotlib.pyplot as plt\n",
    "%matplotlib inline\n",
    "from sklearn.utils import shuffle\n",
    "from tqdm import tnrange,tqdm_notebook"
   ]
  },
  {
   "cell_type": "code",
   "execution_count": 2,
   "metadata": {
    "collapsed": true
   },
   "outputs": [],
   "source": [
    "epochs = 50\n",
    "batch_size = 8\n",
    "logs_path = \"tensorflow_logs/fish2\"\n",
    "model_path = \"models/t1\""
   ]
  },
  {
   "cell_type": "code",
   "execution_count": 3,
   "metadata": {
    "collapsed": true
   },
   "outputs": [],
   "source": [
    "imglist = img_location_reader(\"data\")\n",
    "train,test = train_test_split(imglist,test_size=0.3,random_state=0)\n",
    "train,valid = train_test_split(train,test_size=0.1,random_state=0)"
   ]
  },
  {
   "cell_type": "code",
   "execution_count": 4,
   "metadata": {
    "collapsed": false
   },
   "outputs": [
    {
     "name": "stdout",
     "output_type": "stream",
     "text": [
      "9224\n"
     ]
    }
   ],
   "source": [
    "x_dev = img_location_list(train,over_sample=True)\n",
    "print(len(x_dev))"
   ]
  },
  {
   "cell_type": "code",
   "execution_count": 5,
   "metadata": {
    "collapsed": false
   },
   "outputs": [],
   "source": [
    "img_dummy_label = pd.get_dummies(list(image_label(x_dev).keys()))"
   ]
  },
  {
   "cell_type": "code",
   "execution_count": 6,
   "metadata": {
    "collapsed": false
   },
   "outputs": [
    {
     "name": "stderr",
     "output_type": "stream",
     "text": [
      "100%|██████████| 274/274 [00:11<00:00, 24.34it/s]\n"
     ]
    }
   ],
   "source": [
    "x_val,y_val = val_test_image_reader(valid,size=(256,256),normalize = True)\n",
    "# x_test,y_test = val_test_image_reader(test,size=(256,256))"
   ]
  },
  {
   "cell_type": "code",
   "execution_count": 8,
   "metadata": {
    "collapsed": false
   },
   "outputs": [
    {
     "name": "stdout",
     "output_type": "stream",
     "text": [
      "(274, 256, 256, 3)\n"
     ]
    }
   ],
   "source": [
    "print (x_val.shape)"
   ]
  },
  {
   "cell_type": "code",
   "execution_count": 9,
   "metadata": {
    "collapsed": true
   },
   "outputs": [],
   "source": [
    "X = tf.placeholder(tf.float32,[None,256,256,3],name = \"Input_data\")\n",
    "Y = tf.placeholder(tf.float32,[None,8], name = \"InputLabels\")"
   ]
  },
  {
   "cell_type": "code",
   "execution_count": 10,
   "metadata": {
    "collapsed": true
   },
   "outputs": [],
   "source": [
    "\n",
    "weights = {\n",
    "\"w1\": init_weights([3,3,3,16]),\n",
    "\"w2\": init_weights([3,3,16,16]),\n",
    "\"w3\": init_weights([3,3,16,32]),\n",
    "\"w4\": init_weights([3,3,32,32]),\n",
    "\"w5\": init_weights([3,3,32,64]),\n",
    "\"w6\": init_weights([3,3,64,64]),\n",
    "\"w7\": init_weights([3,3,64,128]),\n",
    "\"w8\": init_weights([3,3,128,128]),\n",
    "\"w9\": init_weights([3,3,128,192]),\n",
    "\"w10\": init_weights([3,3,192,192]),\n",
    "\"w11\": init_weights([3,3,192,256]),\n",
    "\"w12\": init_weights([3,3,256,256]),\n",
    "\"w13\": init_weights([3,3,256,384]),\n",
    "\"w14\": init_weights([384,1024]),\n",
    "\"w15\": init_weights([1024,1024]),\n",
    "\"w16\": init_weights([1024,8])\n",
    "}\n",
    "\n",
    "bias = {\n",
    "\"b1\":init_bias([16]),\n",
    "\"b2\":init_bias([16]),\n",
    "\"b3\":init_bias([32]),\n",
    "\"b4\":init_bias([32]),\n",
    "\"b5\":init_bias([64]),\n",
    "\"b6\":init_bias([64]),\n",
    "\"b7\":init_bias([128]),\n",
    "\"b8\":init_bias([128]),\n",
    "\"b9\":init_bias([192]),\n",
    "\"b10\":init_bias([192]),\n",
    "\"b11\":init_bias([256]),\n",
    "\"b12\":init_bias([256]),\n",
    "\"b13\":init_bias([384]),\n",
    "\"b14\":init_bias([1024]),\n",
    "\"b15\":init_bias([1024])\n",
    "}"
   ]
  },
  {
   "cell_type": "code",
   "execution_count": 11,
   "metadata": {
    "collapsed": true
   },
   "outputs": [],
   "source": [
    "pred = model(X,weights,bias)"
   ]
  },
  {
   "cell_type": "code",
   "execution_count": 12,
   "metadata": {
    "collapsed": true
   },
   "outputs": [],
   "source": [
    "cost = tf.reduce_mean(tf.nn.softmax_cross_entropy_with_logits(pred,Y))\n",
    "#optimizer = tf.train.AdamOptimizer(learning_rate=0.00001).minimize(cost)\n",
    "optimizer = tf.train.RMSPropOptimizer(0.001,decay=0.9,momentum=0.9,epsilon=1e-10).minimize(cost)"
   ]
  },
  {
   "cell_type": "code",
   "execution_count": 13,
   "metadata": {
    "collapsed": true
   },
   "outputs": [],
   "source": [
    "#Evaluate the model\n",
    "correct_pred= tf.equal(tf.argmax(pred,1),tf.argmax(Y,1))\n",
    "accuracy = tf.reduce_mean(tf.cast(correct_pred,tf.float32))\n",
    "\n",
    "#Initialize all the variables\n",
    "init = tf.initialize_all_variables()\n",
    "\n",
    "saver = tf.train.Saver()\n",
    "\n",
    "# Create summary to monitor cost tensor , accuracy tensor\n",
    "tf.scalar_summary(\"loss\",cost)\n",
    "tf.scalar_summary(\"accuracy\",accuracy)\n",
    "\n",
    "merged_summary_op = tf.merge_all_summaries()"
   ]
  },
  {
   "cell_type": "code",
   "execution_count": 14,
   "metadata": {
    "collapsed": false,
    "scrolled": false
   },
   "outputs": [
    {
     "name": "stdout",
     "output_type": "stream",
     "text": [
      "Train loss =2.079437 Train acc =0.375000 valid acc =0.463504\n",
      "Train loss =2.078850 Train acc =0.125000 valid acc =0.014599\n",
      "Train loss =13.001286 Train acc =0.250000 valid acc =0.463504\n",
      "Train loss =2.107880 Train acc =0.000000 valid acc =0.051095\n",
      "Train loss =2.121645 Train acc =0.000000 valid acc =0.080292\n",
      "Train loss =2.068198 Train acc =0.250000 valid acc =0.080292\n",
      "Train loss =2.079696 Train acc =0.000000 valid acc =0.040146\n",
      "Train loss =2.080754 Train acc =0.000000 valid acc =0.197080\n",
      "Train loss =2.079442 Train acc =0.000000 valid acc =0.197080\n",
      "Train loss =2.079442 Train acc =0.500000 valid acc =0.197080\n",
      "Train loss =2.079442 Train acc =0.125000 valid acc =0.197080\n",
      "Train loss =2.079442 Train acc =0.125000 valid acc =0.197080\n",
      "epoch:  0\n",
      "Train loss =2.079442 Train acc =0.250000 valid acc =0.197080\n",
      "Train loss =2.079442 Train acc =0.250000 valid acc =0.197080\n",
      "Train loss =2.079442 Train acc =0.000000 valid acc =0.197080\n",
      "Train loss =2.079442 Train acc =0.125000 valid acc =0.197080\n",
      "Train loss =2.079442 Train acc =0.000000 valid acc =0.197080\n",
      "Train loss =2.079442 Train acc =0.125000 valid acc =0.197080\n",
      "Train loss =2.079442 Train acc =0.000000 valid acc =0.197080\n",
      "Train loss =2.079442 Train acc =0.000000 valid acc =0.197080\n",
      "Train loss =2.079442 Train acc =0.000000 valid acc =0.197080\n",
      "Train loss =2.079442 Train acc =0.500000 valid acc =0.197080\n",
      "Train loss =2.079442 Train acc =0.125000 valid acc =0.197080\n",
      "Train loss =2.079442 Train acc =0.125000 valid acc =0.197080\n",
      "epoch:  1\n",
      "Train loss =2.079442 Train acc =0.250000 valid acc =0.197080\n",
      "Train loss =2.079442 Train acc =0.250000 valid acc =0.197080\n",
      "Train loss =2.079442 Train acc =0.000000 valid acc =0.197080\n",
      "Train loss =2.079442 Train acc =0.125000 valid acc =0.197080\n",
      "Train loss =2.079442 Train acc =0.000000 valid acc =0.197080\n",
      "Train loss =2.079442 Train acc =0.125000 valid acc =0.197080\n",
      "Train loss =2.079442 Train acc =0.000000 valid acc =0.197080\n",
      "Train loss =2.079442 Train acc =0.000000 valid acc =0.197080\n",
      "Train loss =2.079442 Train acc =0.000000 valid acc =0.197080\n",
      "Train loss =2.079442 Train acc =0.500000 valid acc =0.197080\n",
      "Train loss =2.079442 Train acc =0.125000 valid acc =0.197080\n",
      "Train loss =2.079442 Train acc =0.125000 valid acc =0.197080\n",
      "epoch:  2\n",
      "Train loss =2.079442 Train acc =0.250000 valid acc =0.197080\n",
      "Train loss =2.079442 Train acc =0.250000 valid acc =0.197080\n",
      "Train loss =2.079442 Train acc =0.000000 valid acc =0.197080\n",
      "Train loss =2.079442 Train acc =0.125000 valid acc =0.197080\n",
      "Train loss =2.079442 Train acc =0.000000 valid acc =0.197080\n",
      "Train loss =2.079442 Train acc =0.125000 valid acc =0.197080\n",
      "Train loss =2.079442 Train acc =0.000000 valid acc =0.197080\n",
      "Train loss =2.079442 Train acc =0.000000 valid acc =0.197080\n",
      "Train loss =2.079442 Train acc =0.000000 valid acc =0.197080\n",
      "Train loss =2.079442 Train acc =0.500000 valid acc =0.197080\n",
      "Train loss =2.079442 Train acc =0.125000 valid acc =0.197080\n",
      "Train loss =2.079442 Train acc =0.125000 valid acc =0.197080\n",
      "epoch:  3\n",
      "Train loss =2.079442 Train acc =0.250000 valid acc =0.197080\n",
      "Train loss =2.079442 Train acc =0.250000 valid acc =0.197080\n",
      "Train loss =2.079442 Train acc =0.000000 valid acc =0.197080\n",
      "Train loss =2.079442 Train acc =0.125000 valid acc =0.197080\n"
     ]
    },
    {
     "ename": "KeyboardInterrupt",
     "evalue": "",
     "output_type": "error",
     "traceback": [
      "\u001b[0;31m---------------------------------------------------------------------------\u001b[0m",
      "\u001b[0;31mKeyboardInterrupt\u001b[0m                         Traceback (most recent call last)",
      "\u001b[0;32m<ipython-input-14-2c8f34f03f40>\u001b[0m in \u001b[0;36m<module>\u001b[0;34m()\u001b[0m\n\u001b[1;32m      7\u001b[0m         \u001b[0;32mfor\u001b[0m \u001b[0mi\u001b[0m \u001b[0;32min\u001b[0m \u001b[0mtqdm_notebook\u001b[0m\u001b[0;34m(\u001b[0m\u001b[0mrange\u001b[0m\u001b[0;34m(\u001b[0m\u001b[0mint\u001b[0m\u001b[0;34m(\u001b[0m\u001b[0mlen\u001b[0m\u001b[0;34m(\u001b[0m\u001b[0mimg_list\u001b[0m\u001b[0;34m)\u001b[0m\u001b[0;34m/\u001b[0m\u001b[0mbatch_size\u001b[0m\u001b[0;34m)\u001b[0m\u001b[0;34m)\u001b[0m\u001b[0;34m,\u001b[0m\u001b[0mdesc\u001b[0m\u001b[0;34m=\u001b[0m\u001b[0;34m\"2nd loop\"\u001b[0m\u001b[0;34m,\u001b[0m\u001b[0mleave\u001b[0m\u001b[0;34m=\u001b[0m\u001b[0;32mFalse\u001b[0m\u001b[0;34m)\u001b[0m\u001b[0;34m:\u001b[0m\u001b[0;34m\u001b[0m\u001b[0m\n\u001b[1;32m      8\u001b[0m             \u001b[0mimg_loc\u001b[0m \u001b[0;34m=\u001b[0m \u001b[0mimg_list\u001b[0m\u001b[0;34m[\u001b[0m\u001b[0mi\u001b[0m\u001b[0;34m*\u001b[0m\u001b[0mbatch_size\u001b[0m\u001b[0;34m:\u001b[0m\u001b[0;34m(\u001b[0m\u001b[0mi\u001b[0m\u001b[0;34m+\u001b[0m\u001b[0;36m1\u001b[0m\u001b[0;34m)\u001b[0m\u001b[0;34m*\u001b[0m\u001b[0mbatch_size\u001b[0m\u001b[0;34m]\u001b[0m\u001b[0;34m\u001b[0m\u001b[0m\n\u001b[0;32m----> 9\u001b[0;31m             \u001b[0mX_image\u001b[0m\u001b[0;34m,\u001b[0m \u001b[0mY_image\u001b[0m \u001b[0;34m=\u001b[0m \u001b[0mdev_image_reader\u001b[0m\u001b[0;34m(\u001b[0m\u001b[0mimg_loc\u001b[0m\u001b[0;34m,\u001b[0m\u001b[0mimg_dummy_label\u001b[0m\u001b[0;34m,\u001b[0m\u001b[0msize\u001b[0m \u001b[0;34m=\u001b[0m \u001b[0;34m(\u001b[0m\u001b[0;36m256\u001b[0m\u001b[0;34m,\u001b[0m\u001b[0;36m256\u001b[0m\u001b[0;34m)\u001b[0m\u001b[0;34m,\u001b[0m\u001b[0mnormalize\u001b[0m \u001b[0;34m=\u001b[0m \u001b[0;32mTrue\u001b[0m\u001b[0;34m)\u001b[0m\u001b[0;34m\u001b[0m\u001b[0m\n\u001b[0m\u001b[1;32m     10\u001b[0m             \u001b[0m_\u001b[0m\u001b[0;34m,\u001b[0m\u001b[0mc\u001b[0m\u001b[0;34m,\u001b[0m\u001b[0msummary\u001b[0m \u001b[0;34m=\u001b[0m \u001b[0msess\u001b[0m\u001b[0;34m.\u001b[0m\u001b[0mrun\u001b[0m\u001b[0;34m(\u001b[0m\u001b[0;34m[\u001b[0m\u001b[0moptimizer\u001b[0m\u001b[0;34m,\u001b[0m\u001b[0mcost\u001b[0m\u001b[0;34m,\u001b[0m\u001b[0mmerged_summary_op\u001b[0m\u001b[0;34m]\u001b[0m\u001b[0;34m,\u001b[0m\u001b[0mfeed_dict\u001b[0m\u001b[0;34m=\u001b[0m\u001b[0;34m{\u001b[0m\u001b[0mX\u001b[0m \u001b[0;34m:\u001b[0m \u001b[0mnp\u001b[0m\u001b[0;34m.\u001b[0m\u001b[0mfloat32\u001b[0m\u001b[0;34m(\u001b[0m\u001b[0mX_image\u001b[0m\u001b[0;34m)\u001b[0m\u001b[0;34m,\u001b[0m \u001b[0mY\u001b[0m \u001b[0;34m:\u001b[0m \u001b[0mnp\u001b[0m\u001b[0;34m.\u001b[0m\u001b[0mfloat32\u001b[0m\u001b[0;34m(\u001b[0m\u001b[0mY_image\u001b[0m\u001b[0;34m)\u001b[0m\u001b[0;34m}\u001b[0m\u001b[0;34m)\u001b[0m\u001b[0;34m\u001b[0m\u001b[0m\n\u001b[1;32m     11\u001b[0m             \u001b[0mtrain_loss\u001b[0m\u001b[0;34m,\u001b[0m \u001b[0mtrain_acc\u001b[0m \u001b[0;34m=\u001b[0m \u001b[0msess\u001b[0m\u001b[0;34m.\u001b[0m\u001b[0mrun\u001b[0m\u001b[0;34m(\u001b[0m\u001b[0;34m[\u001b[0m\u001b[0mcost\u001b[0m\u001b[0;34m,\u001b[0m\u001b[0maccuracy\u001b[0m\u001b[0;34m]\u001b[0m\u001b[0;34m,\u001b[0m \u001b[0mfeed_dict\u001b[0m\u001b[0;34m=\u001b[0m\u001b[0;34m{\u001b[0m\u001b[0mX\u001b[0m \u001b[0;34m:\u001b[0m \u001b[0mnp\u001b[0m\u001b[0;34m.\u001b[0m\u001b[0mfloat32\u001b[0m\u001b[0;34m(\u001b[0m\u001b[0mX_image\u001b[0m\u001b[0;34m)\u001b[0m\u001b[0;34m,\u001b[0m \u001b[0mY\u001b[0m \u001b[0;34m:\u001b[0m \u001b[0mnp\u001b[0m\u001b[0;34m.\u001b[0m\u001b[0mfloat32\u001b[0m\u001b[0;34m(\u001b[0m\u001b[0mY_image\u001b[0m\u001b[0;34m)\u001b[0m\u001b[0;34m}\u001b[0m\u001b[0;34m)\u001b[0m\u001b[0;34m\u001b[0m\u001b[0m\n",
      "\u001b[0;32m/home/prakash/kaggle-fish/fish/work_2/helper.py\u001b[0m in \u001b[0;36mdev_image_reader\u001b[0;34m(filelist, img_dummy_label, size, normalize)\u001b[0m\n\u001b[1;32m    142\u001b[0m         \u001b[0mx_image\u001b[0m\u001b[0;34m,\u001b[0m\u001b[0my_label\u001b[0m\u001b[0;34m=\u001b[0m \u001b[0mimage_read\u001b[0m\u001b[0;34m(\u001b[0m\u001b[0mfilelist\u001b[0m\u001b[0;34m[\u001b[0m\u001b[0mj\u001b[0m\u001b[0;34m]\u001b[0m\u001b[0;34m)\u001b[0m\u001b[0;34m\u001b[0m\u001b[0m\n\u001b[1;32m    143\u001b[0m         \u001b[0mx_images\u001b[0m \u001b[0;34m=\u001b[0m \u001b[0magument_data\u001b[0m\u001b[0;34m(\u001b[0m\u001b[0mx_image\u001b[0m\u001b[0;34m)\u001b[0m\u001b[0;34m\u001b[0m\u001b[0m\n\u001b[0;32m--> 144\u001b[0;31m         \u001b[0mx_images\u001b[0m \u001b[0;34m=\u001b[0m \u001b[0mnp\u001b[0m\u001b[0;34m.\u001b[0m\u001b[0mconcatenate\u001b[0m\u001b[0;34m(\u001b[0m\u001b[0;34m[\u001b[0m\u001b[0mresize\u001b[0m\u001b[0;34m(\u001b[0m\u001b[0mx_images\u001b[0m\u001b[0;34m[\u001b[0m\u001b[0mi\u001b[0m\u001b[0;34m]\u001b[0m\u001b[0;34m,\u001b[0m\u001b[0msize\u001b[0m\u001b[0;34m)\u001b[0m\u001b[0;34m[\u001b[0m\u001b[0mnp\u001b[0m\u001b[0;34m.\u001b[0m\u001b[0mnewaxis\u001b[0m\u001b[0;34m,\u001b[0m\u001b[0;34m:\u001b[0m\u001b[0;34m,\u001b[0m\u001b[0;34m:\u001b[0m\u001b[0;34m,\u001b[0m\u001b[0;34m:\u001b[0m\u001b[0;34m]\u001b[0m \u001b[0;32mfor\u001b[0m \u001b[0mi\u001b[0m \u001b[0;32min\u001b[0m \u001b[0mrange\u001b[0m\u001b[0;34m(\u001b[0m\u001b[0mlen\u001b[0m\u001b[0;34m(\u001b[0m\u001b[0mx_images\u001b[0m\u001b[0;34m)\u001b[0m\u001b[0;34m)\u001b[0m\u001b[0;34m]\u001b[0m\u001b[0;34m)\u001b[0m\u001b[0;34m\u001b[0m\u001b[0m\n\u001b[0m\u001b[1;32m    145\u001b[0m         \u001b[0mimages\u001b[0m\u001b[0;34m.\u001b[0m\u001b[0mappend\u001b[0m\u001b[0;34m(\u001b[0m\u001b[0mx_images\u001b[0m\u001b[0;34m)\u001b[0m\u001b[0;34m\u001b[0m\u001b[0m\n\u001b[1;32m    146\u001b[0m         \u001b[0mimages_label\u001b[0m\u001b[0;34m.\u001b[0m\u001b[0mappend\u001b[0m\u001b[0;34m(\u001b[0m\u001b[0;34m[\u001b[0m\u001b[0mimg_dummy_label\u001b[0m\u001b[0;34m[\u001b[0m\u001b[0my_label\u001b[0m\u001b[0;34m]\u001b[0m \u001b[0;32mfor\u001b[0m \u001b[0mx\u001b[0m \u001b[0;32min\u001b[0m \u001b[0mrange\u001b[0m\u001b[0;34m(\u001b[0m\u001b[0mlen\u001b[0m\u001b[0;34m(\u001b[0m\u001b[0mx_images\u001b[0m\u001b[0;34m)\u001b[0m\u001b[0;34m)\u001b[0m\u001b[0;34m]\u001b[0m\u001b[0;34m)\u001b[0m\u001b[0;34m\u001b[0m\u001b[0m\n",
      "\u001b[0;32m/home/prakash/kaggle-fish/fish/work_2/helper.py\u001b[0m in \u001b[0;36m<listcomp>\u001b[0;34m(.0)\u001b[0m\n\u001b[1;32m    142\u001b[0m         \u001b[0mx_image\u001b[0m\u001b[0;34m,\u001b[0m\u001b[0my_label\u001b[0m\u001b[0;34m=\u001b[0m \u001b[0mimage_read\u001b[0m\u001b[0;34m(\u001b[0m\u001b[0mfilelist\u001b[0m\u001b[0;34m[\u001b[0m\u001b[0mj\u001b[0m\u001b[0;34m]\u001b[0m\u001b[0;34m)\u001b[0m\u001b[0;34m\u001b[0m\u001b[0m\n\u001b[1;32m    143\u001b[0m         \u001b[0mx_images\u001b[0m \u001b[0;34m=\u001b[0m \u001b[0magument_data\u001b[0m\u001b[0;34m(\u001b[0m\u001b[0mx_image\u001b[0m\u001b[0;34m)\u001b[0m\u001b[0;34m\u001b[0m\u001b[0m\n\u001b[0;32m--> 144\u001b[0;31m         \u001b[0mx_images\u001b[0m \u001b[0;34m=\u001b[0m \u001b[0mnp\u001b[0m\u001b[0;34m.\u001b[0m\u001b[0mconcatenate\u001b[0m\u001b[0;34m(\u001b[0m\u001b[0;34m[\u001b[0m\u001b[0mresize\u001b[0m\u001b[0;34m(\u001b[0m\u001b[0mx_images\u001b[0m\u001b[0;34m[\u001b[0m\u001b[0mi\u001b[0m\u001b[0;34m]\u001b[0m\u001b[0;34m,\u001b[0m\u001b[0msize\u001b[0m\u001b[0;34m)\u001b[0m\u001b[0;34m[\u001b[0m\u001b[0mnp\u001b[0m\u001b[0;34m.\u001b[0m\u001b[0mnewaxis\u001b[0m\u001b[0;34m,\u001b[0m\u001b[0;34m:\u001b[0m\u001b[0;34m,\u001b[0m\u001b[0;34m:\u001b[0m\u001b[0;34m,\u001b[0m\u001b[0;34m:\u001b[0m\u001b[0;34m]\u001b[0m \u001b[0;32mfor\u001b[0m \u001b[0mi\u001b[0m \u001b[0;32min\u001b[0m \u001b[0mrange\u001b[0m\u001b[0;34m(\u001b[0m\u001b[0mlen\u001b[0m\u001b[0;34m(\u001b[0m\u001b[0mx_images\u001b[0m\u001b[0;34m)\u001b[0m\u001b[0;34m)\u001b[0m\u001b[0;34m]\u001b[0m\u001b[0;34m)\u001b[0m\u001b[0;34m\u001b[0m\u001b[0m\n\u001b[0m\u001b[1;32m    145\u001b[0m         \u001b[0mimages\u001b[0m\u001b[0;34m.\u001b[0m\u001b[0mappend\u001b[0m\u001b[0;34m(\u001b[0m\u001b[0mx_images\u001b[0m\u001b[0;34m)\u001b[0m\u001b[0;34m\u001b[0m\u001b[0m\n\u001b[1;32m    146\u001b[0m         \u001b[0mimages_label\u001b[0m\u001b[0;34m.\u001b[0m\u001b[0mappend\u001b[0m\u001b[0;34m(\u001b[0m\u001b[0;34m[\u001b[0m\u001b[0mimg_dummy_label\u001b[0m\u001b[0;34m[\u001b[0m\u001b[0my_label\u001b[0m\u001b[0;34m]\u001b[0m \u001b[0;32mfor\u001b[0m \u001b[0mx\u001b[0m \u001b[0;32min\u001b[0m \u001b[0mrange\u001b[0m\u001b[0;34m(\u001b[0m\u001b[0mlen\u001b[0m\u001b[0;34m(\u001b[0m\u001b[0mx_images\u001b[0m\u001b[0;34m)\u001b[0m\u001b[0;34m)\u001b[0m\u001b[0;34m]\u001b[0m\u001b[0;34m)\u001b[0m\u001b[0;34m\u001b[0m\u001b[0m\n",
      "\u001b[0;32m/home/prakash/kaggle-fish/fish/work_2/helper.py\u001b[0m in \u001b[0;36mresize\u001b[0;34m(image, size)\u001b[0m\n\u001b[1;32m    113\u001b[0m     \u001b[0mh\u001b[0m \u001b[0;34m=\u001b[0m \u001b[0msize\u001b[0m\u001b[0;34m[\u001b[0m\u001b[0;36m0\u001b[0m\u001b[0;34m]\u001b[0m\u001b[0;34m\u001b[0m\u001b[0m\n\u001b[1;32m    114\u001b[0m     \u001b[0ml\u001b[0m \u001b[0;34m=\u001b[0m \u001b[0mint\u001b[0m\u001b[0;34m(\u001b[0m\u001b[0mimage\u001b[0m\u001b[0;34m.\u001b[0m\u001b[0mshape\u001b[0m\u001b[0;34m[\u001b[0m\u001b[0;36m1\u001b[0m\u001b[0;34m]\u001b[0m\u001b[0;34m*\u001b[0m\u001b[0mh\u001b[0m\u001b[0;34m/\u001b[0m\u001b[0mimage\u001b[0m\u001b[0;34m.\u001b[0m\u001b[0mshape\u001b[0m\u001b[0;34m[\u001b[0m\u001b[0;36m0\u001b[0m\u001b[0;34m]\u001b[0m\u001b[0;34m)\u001b[0m\u001b[0;34m\u001b[0m\u001b[0m\n\u001b[0;32m--> 115\u001b[0;31m     \u001b[0mresize\u001b[0m \u001b[0;34m=\u001b[0m \u001b[0mcv2\u001b[0m\u001b[0;34m.\u001b[0m\u001b[0mresize\u001b[0m\u001b[0;34m(\u001b[0m\u001b[0mimage\u001b[0m\u001b[0;34m,\u001b[0m\u001b[0;34m(\u001b[0m\u001b[0ml\u001b[0m\u001b[0;34m,\u001b[0m\u001b[0mh\u001b[0m\u001b[0;34m)\u001b[0m\u001b[0;34m,\u001b[0m\u001b[0minterpolation\u001b[0m\u001b[0;34m=\u001b[0m\u001b[0mcv2\u001b[0m\u001b[0;34m.\u001b[0m\u001b[0mINTER_AREA\u001b[0m\u001b[0;34m)\u001b[0m\u001b[0;34m\u001b[0m\u001b[0m\n\u001b[0m\u001b[1;32m    116\u001b[0m     \u001b[0mnum\u001b[0m \u001b[0;34m=\u001b[0m \u001b[0mrandom\u001b[0m\u001b[0;34m.\u001b[0m\u001b[0mchoice\u001b[0m\u001b[0;34m(\u001b[0m\u001b[0mrange\u001b[0m\u001b[0;34m(\u001b[0m\u001b[0mresize\u001b[0m\u001b[0;34m.\u001b[0m\u001b[0mshape\u001b[0m\u001b[0;34m[\u001b[0m\u001b[0;36m1\u001b[0m\u001b[0;34m]\u001b[0m\u001b[0;34m-\u001b[0m\u001b[0mh\u001b[0m\u001b[0;34m)\u001b[0m\u001b[0;34m)\u001b[0m\u001b[0;34m\u001b[0m\u001b[0m\n\u001b[1;32m    117\u001b[0m     \u001b[0mresize\u001b[0m \u001b[0;34m=\u001b[0m \u001b[0mresize\u001b[0m\u001b[0;34m[\u001b[0m\u001b[0;34m:\u001b[0m\u001b[0;34m,\u001b[0m\u001b[0mnum\u001b[0m\u001b[0;34m:\u001b[0m\u001b[0mnum\u001b[0m\u001b[0;34m+\u001b[0m\u001b[0mh\u001b[0m\u001b[0;34m,\u001b[0m\u001b[0;34m:\u001b[0m\u001b[0;34m]\u001b[0m\u001b[0;34m\u001b[0m\u001b[0m\n",
      "\u001b[0;31mKeyboardInterrupt\u001b[0m: "
     ]
    }
   ],
   "source": [
    "with tf.Session() as sess:\n",
    "    sess.run(init)\n",
    "    summary_writer = tf.train.SummaryWriter(logs_path,graph=tf.get_default_graph())\n",
    "    val_acc = []\n",
    "    for ep in tqdm_notebook(range(epochs),desc=\"1st loop\"):\n",
    "        img_list = shuffle(x_dev,random_state=0)\n",
    "        for i in tqdm_notebook(range(int(len(img_list)/batch_size)),desc=\"2nd loop\",leave=False):\n",
    "            img_loc = img_list[i*batch_size:(i+1)*batch_size]\n",
    "            X_image, Y_image = dev_image_reader(img_loc,img_dummy_label,size = (256,256),normalize = True)\n",
    "            _,c,summary = sess.run([optimizer,cost,merged_summary_op],feed_dict={X : np.float32(X_image), Y : np.float32(Y_image)})\n",
    "            train_loss, train_acc = sess.run([cost,accuracy], feed_dict={X : np.float32(X_image), Y : np.float32(Y_image)})\n",
    "            if i % 100 == 0:\n",
    "                x = []\n",
    "                for j in tqdm_notebook(range(len(x_val)),desc=\"3rd loop\",leave=False):\n",
    "                    xx_val = x_val[j][np.newaxis,:,:,:]\n",
    "                    value = sess.run([tf.nn.softmax(pred)], feed_dict={X : np.float32(xx_val)})\n",
    "                    x.append(value[0])\n",
    "                x = np.concatenate(x)\n",
    "                valid_acc = sess.run([tf.reduce_mean(tf.cast(tf.equal(tf.argmax(x,1),tf.argmax(Y,1)),tf.float32))],\\\n",
    "                        feed_dict={Y : np.float32(y_val)})\n",
    "                print (\"Train loss =\"+\"{:.6f}\".format(train_loss),\\\n",
    "                       \"Train acc =\"+\"{:.6f}\".format(train_acc),\\\n",
    "                      \"valid acc =\"+\"{:.6f}\".format(valid_acc[0]))\n",
    "                val_acc.append(valid_acc[0])\n",
    "                if max(val_acc) == valid_acc[0]:\n",
    "                    saver.save(sess,os.getcwd()+model_path+\"_\"+str(ep)+\"_\"+str(i))\n",
    "        print (\"epoch: \", ep)\n",
    "    print(\"Optimization Finished!\")"
   ]
  },
  {
   "cell_type": "code",
   "execution_count": 14,
   "metadata": {
    "collapsed": false,
    "scrolled": true
   },
   "outputs": [],
   "source": [
    "# with tf.Session() as sess:\n",
    "#     sess.run(init)\n",
    "#     x =[]\n",
    "#     for i in tqdm(range(len(x_val))):\n",
    "#         xx_val = x_val[i][np.newaxis,:,:,:]\n",
    "#         value = sess.run([tf.nn.softmax(pred)], feed_dict={X : np.float32(xx_val)})\n",
    "#         x.append(value[0])\n",
    "#     x = np.concatenate(x)\n",
    "#     acc = sess.run([tf.reduce_mean(tf.cast(tf.equal(tf.argmax(x,1),tf.argmax(Y,1)),tf.float32))],\\\n",
    "#                         feed_dict={Y : np.float32(y_val)})\n",
    "#     print (acc)"
   ]
  }
 ],
 "metadata": {
  "anaconda-cloud": {},
  "kernelspec": {
   "display_name": "Python [conda root]",
   "language": "python",
   "name": "conda-root-py"
  },
  "language_info": {
   "codemirror_mode": {
    "name": "ipython",
    "version": 3
   },
   "file_extension": ".py",
   "mimetype": "text/x-python",
   "name": "python",
   "nbconvert_exporter": "python",
   "pygments_lexer": "ipython3",
   "version": "3.5.2"
  },
  "widgets": {
   "state": {
    "0122ae4c0b0e45e29f4fe28b2b9fdbbf": {
     "views": [
      {
       "cell_index": 12
      }
     ]
    },
    "032ae6a4b5104480863607d8d553080c": {
     "views": [
      {
       "cell_index": 12
      }
     ]
    },
    "049f6028c44441889060ede0ab09c758": {
     "views": [
      {
       "cell_index": 12
      }
     ]
    },
    "04dc8aaa9774418f85ecbf59c380172f": {
     "views": [
      {
       "cell_index": 12
      }
     ]
    },
    "04f044543b1f4ff39e3d05cf59c6b934": {
     "views": [
      {
       "cell_index": 12
      }
     ]
    },
    "07b57e0862864971a9a1840f3eafd711": {
     "views": [
      {
       "cell_index": 12
      }
     ]
    },
    "0842ac6921ce477db2eec4a8f3357e3f": {
     "views": [
      {
       "cell_index": 12
      }
     ]
    },
    "09e056d6b09340a6b125843c174caa0b": {
     "views": [
      {
       "cell_index": 12
      }
     ]
    },
    "0b7ad44ac38b4e35ae574d7c754eb03e": {
     "views": [
      {
       "cell_index": 12
      }
     ]
    },
    "0c18d0aed5404faca769d79e8e68b167": {
     "views": [
      {
       "cell_index": 12
      }
     ]
    },
    "0f320b8a78b342d8a5202f8d42f6a765": {
     "views": [
      {
       "cell_index": 12
      }
     ]
    },
    "113018ed1fd24f2f99149cb1ee36c507": {
     "views": [
      {
       "cell_index": 12
      }
     ]
    },
    "120aa30c30dd464c8ef38d04789c501f": {
     "views": [
      {
       "cell_index": 12
      }
     ]
    },
    "1468ab0af8c642b7a7e9418121c6d845": {
     "views": [
      {
       "cell_index": 12
      }
     ]
    },
    "154bccd60a454677bb6224242df390f9": {
     "views": [
      {
       "cell_index": 12
      }
     ]
    },
    "15a2af010bf04bc4845ebb487045a34e": {
     "views": [
      {
       "cell_index": 12
      }
     ]
    },
    "176328fbec0f42ada8729fbb9656ba66": {
     "views": [
      {
       "cell_index": 12
      }
     ]
    },
    "17e60e1a07dc496e82959e5abef3c267": {
     "views": [
      {
       "cell_index": 12
      }
     ]
    },
    "194e7e813c1c4d87aa6c85145b9c9215": {
     "views": [
      {
       "cell_index": 12
      }
     ]
    },
    "1ab9603c443d4cdb96a81821d307124f": {
     "views": [
      {
       "cell_index": 12
      }
     ]
    },
    "1b2c52414eb74fffbcf4b8115a0fbc06": {
     "views": [
      {
       "cell_index": 12
      }
     ]
    },
    "1bea26d661624ad387177be7c1505957": {
     "views": [
      {
       "cell_index": 12
      }
     ]
    },
    "1cda170fd04541d2bd7acfde6e824b9b": {
     "views": [
      {
       "cell_index": 12
      }
     ]
    },
    "1fd904a06fa142378927ae30ff6f445e": {
     "views": [
      {
       "cell_index": 12
      }
     ]
    },
    "20e8aecd20e241aab2c744ed0a921a18": {
     "views": [
      {
       "cell_index": 12
      }
     ]
    },
    "21cdf82f38024c72801295f87ea7d144": {
     "views": [
      {
       "cell_index": 12
      }
     ]
    },
    "274ba39d41a4462397c4fed73efc6fde": {
     "views": [
      {
       "cell_index": 12
      }
     ]
    },
    "286d32bafe5d4ed490d328da0c74f264": {
     "views": [
      {
       "cell_index": 12
      }
     ]
    },
    "29b417ce339e4d8493b1106644afbd83": {
     "views": [
      {
       "cell_index": 12
      }
     ]
    },
    "2b1ddae251714a768611c167c976c413": {
     "views": [
      {
       "cell_index": 12
      }
     ]
    },
    "3135f7f7a4f54fc3a42060c6a133d475": {
     "views": [
      {
       "cell_index": 12
      }
     ]
    },
    "32c70c400d904549aec8936e0f0d05a8": {
     "views": [
      {
       "cell_index": 12
      }
     ]
    },
    "343f89b1995f4cf2bf5fc975158128ba": {
     "views": [
      {
       "cell_index": 12
      }
     ]
    },
    "3463f9a659094280a53d587c44618ea5": {
     "views": [
      {
       "cell_index": 12
      }
     ]
    },
    "35bd37ee578a4969aa69248ea0fc6758": {
     "views": [
      {
       "cell_index": 12
      }
     ]
    },
    "365b4b691eae489da47753362a312220": {
     "views": [
      {
       "cell_index": 12
      }
     ]
    },
    "366fa6760d1943ae980b9048e4b154d5": {
     "views": [
      {
       "cell_index": 12
      }
     ]
    },
    "3959dc17a92948679916d34c499097e1": {
     "views": [
      {
       "cell_index": 12
      }
     ]
    },
    "39f8643f73e54d3d85cc401dee0e19a7": {
     "views": [
      {
       "cell_index": 12
      }
     ]
    },
    "3c1da0387ac749138af06ed9318dbbf6": {
     "views": [
      {
       "cell_index": 12
      }
     ]
    },
    "3c4c383265cc4ac7bfbe6c8dbb1c8622": {
     "views": [
      {
       "cell_index": 12
      }
     ]
    },
    "3d4d9dfe153e4e5dbcd33eb234211b4e": {
     "views": [
      {
       "cell_index": 12
      }
     ]
    },
    "45c742fb851541f2bbb242117dc1f065": {
     "views": [
      {
       "cell_index": 12
      }
     ]
    },
    "468316bbe1354fcf954bc308c994f7a5": {
     "views": [
      {
       "cell_index": 12
      }
     ]
    },
    "4a611c93f4d84cab8b091ee07122bfa3": {
     "views": [
      {
       "cell_index": 12
      }
     ]
    },
    "4a9fdb36a2304178adf052b3a9c05d32": {
     "views": [
      {
       "cell_index": 12
      }
     ]
    },
    "4b42b0e7f6874804bb3462254b39b3e7": {
     "views": [
      {
       "cell_index": 12
      }
     ]
    },
    "4b47976824fb4cd09d3ad42a0a206f5f": {
     "views": [
      {
       "cell_index": 12
      }
     ]
    },
    "4c8f846798fc4d19a4fe6d646d3c619a": {
     "views": [
      {
       "cell_index": 12
      }
     ]
    },
    "4e721869a4554f69b91eed9eaf17edc5": {
     "views": [
      {
       "cell_index": 12
      }
     ]
    },
    "4fac7d41540849de9934ec17d00fc875": {
     "views": [
      {
       "cell_index": 12
      }
     ]
    },
    "500d97d1640f4d39a8bf03379a439275": {
     "views": [
      {
       "cell_index": 12
      }
     ]
    },
    "53b8046841994a2d811cf01031987677": {
     "views": [
      {
       "cell_index": 12
      }
     ]
    },
    "54a690eb76604f79bd7eaaf6d17dff4b": {
     "views": [
      {
       "cell_index": 12
      }
     ]
    },
    "56690cc716ca460b891c52babdb0198c": {
     "views": [
      {
       "cell_index": 12
      }
     ]
    },
    "5a69e47ccd7c4db5b448c694a5098050": {
     "views": [
      {
       "cell_index": 12
      }
     ]
    },
    "5bf06a99eab54cd7a0f3d08562665df1": {
     "views": [
      {
       "cell_index": 12
      }
     ]
    },
    "5c2bcfb67e6149fba841242deea939de": {
     "views": [
      {
       "cell_index": 12
      }
     ]
    },
    "5d40ed42543045ffbd61a0b1ff198dbe": {
     "views": [
      {
       "cell_index": 12
      }
     ]
    },
    "63444d0def2147bc9b069086fb4ce5eb": {
     "views": [
      {
       "cell_index": 12
      }
     ]
    },
    "654da975445842cc903de0131cf4c06a": {
     "views": [
      {
       "cell_index": 12
      }
     ]
    },
    "654e2aba827c4170bec29aaca92e5c16": {
     "views": [
      {
       "cell_index": 12
      }
     ]
    },
    "655038f05b4f4320ad2d1d326f93e66e": {
     "views": [
      {
       "cell_index": 12
      }
     ]
    },
    "699cc0f84a9c46cf8b1cc07e2da93375": {
     "views": [
      {
       "cell_index": 12
      }
     ]
    },
    "6b7285b3095442ddb667a0e7f854f584": {
     "views": [
      {
       "cell_index": 12
      }
     ]
    },
    "6d47fe8dbcc645cb9316dbe3326e975b": {
     "views": [
      {
       "cell_index": 12
      }
     ]
    },
    "6fc2091128e44257ac53e600dee9370a": {
     "views": [
      {
       "cell_index": 12
      }
     ]
    },
    "701a732f70634624a8d040b6c54151de": {
     "views": [
      {
       "cell_index": 12
      }
     ]
    },
    "70321069a63044a0b8d671aaf2e3b89c": {
     "views": [
      {
       "cell_index": 12
      }
     ]
    },
    "715f255ed7624a5380060bfa22965af0": {
     "views": [
      {
       "cell_index": 12
      }
     ]
    },
    "73bf335aacc94794aeb5a1cad7b0d070": {
     "views": [
      {
       "cell_index": 12
      }
     ]
    },
    "7731ce3245534a11ac38c7d85c348c6b": {
     "views": [
      {
       "cell_index": 12
      }
     ]
    },
    "79ee6ce56aa045c180043b5902aa70b3": {
     "views": [
      {
       "cell_index": 12
      }
     ]
    },
    "7c58b04048d64d2784893af18cd303be": {
     "views": [
      {
       "cell_index": 12
      }
     ]
    },
    "7c9ead0f0ff141b3bef02d607009b6d6": {
     "views": [
      {
       "cell_index": 12
      }
     ]
    },
    "7ed1890d1a524f4d8e04200297332cdd": {
     "views": [
      {
       "cell_index": 12
      }
     ]
    },
    "8040505b63ec446e9032faed62575812": {
     "views": [
      {
       "cell_index": 12
      }
     ]
    },
    "80a5bc93ce59419aa054a7351d43b8c3": {
     "views": [
      {
       "cell_index": 12
      }
     ]
    },
    "81e98ab08a074d0d8feb26289c0d53cd": {
     "views": [
      {
       "cell_index": 12
      }
     ]
    },
    "838ba983af77492da00af9c195b7ee2f": {
     "views": [
      {
       "cell_index": 12
      }
     ]
    },
    "8556b85f2d5f4eb8b497eda0557cd62f": {
     "views": [
      {
       "cell_index": 12
      }
     ]
    },
    "86558df5262b42f292ff32b3fbae9172": {
     "views": [
      {
       "cell_index": 12
      }
     ]
    },
    "877c50249f7047b78d7e1a74807a67bc": {
     "views": [
      {
       "cell_index": 12
      }
     ]
    },
    "8ed1d62dc94144f490e368589350129e": {
     "views": [
      {
       "cell_index": 12
      }
     ]
    },
    "93033d9688df4c9e9a444a223dbe0e01": {
     "views": [
      {
       "cell_index": 12
      }
     ]
    },
    "937946d773e447c48376a769ac76b730": {
     "views": [
      {
       "cell_index": 12
      }
     ]
    },
    "941915d7e6cb40d3bc829c641c599e50": {
     "views": [
      {
       "cell_index": 12
      }
     ]
    },
    "94c2554ba7394db3984f828840d42e19": {
     "views": [
      {
       "cell_index": 12
      }
     ]
    },
    "97a508bd66ff47e8ab284e8ccb17e91f": {
     "views": [
      {
       "cell_index": 12
      }
     ]
    },
    "97e422bdd513482aa88fba2de4037324": {
     "views": [
      {
       "cell_index": 12
      }
     ]
    },
    "9dc8f63697e94c6cb9aa2c93a40f8262": {
     "views": [
      {
       "cell_index": 12
      }
     ]
    },
    "9f0c39446a324140817aa4f9571531f6": {
     "views": [
      {
       "cell_index": 12
      }
     ]
    },
    "a1150ace809b4a83ace39d486cd65b44": {
     "views": [
      {
       "cell_index": 12
      }
     ]
    },
    "a949a984678244fb9593f5f103a5e760": {
     "views": [
      {
       "cell_index": 12
      }
     ]
    },
    "ad1876d3d1994ff0bbf332dee566c69c": {
     "views": [
      {
       "cell_index": 12
      }
     ]
    },
    "b0726ab2383d449cbc6004ec08ec6dd0": {
     "views": [
      {
       "cell_index": 12
      }
     ]
    },
    "b22092b834084577be603c6f45c4d9db": {
     "views": [
      {
       "cell_index": 12
      }
     ]
    },
    "b3211f8e72f0423eaa6eb5e8c44550d8": {
     "views": [
      {
       "cell_index": 12
      }
     ]
    },
    "b364f6b3c6a443b2999d0c4655b72554": {
     "views": [
      {
       "cell_index": 12
      }
     ]
    },
    "b6a5eef0302245a6a8d2571e293108cc": {
     "views": [
      {
       "cell_index": 12
      }
     ]
    },
    "b863182da5f6496fbca2dce7f585421b": {
     "views": [
      {
       "cell_index": 12
      }
     ]
    },
    "ba375ed1ae4740cabc4641f6ddd0c70e": {
     "views": [
      {
       "cell_index": 12
      }
     ]
    },
    "bb0019774ec44fde901bc23672f014ff": {
     "views": [
      {
       "cell_index": 12
      }
     ]
    },
    "bc423a64f9174af9b31016b99e90f08a": {
     "views": [
      {
       "cell_index": 12
      }
     ]
    },
    "c06426b60efd41d59b7f1b2b96f0a4fe": {
     "views": [
      {
       "cell_index": 12
      }
     ]
    },
    "c0b789025e0a46c3b47a6b15355a42f7": {
     "views": [
      {
       "cell_index": 12
      }
     ]
    },
    "c1c2227bc2eb444b81c35fcab59fd14a": {
     "views": [
      {
       "cell_index": 12
      }
     ]
    },
    "c25d9d1fe5654ff3be010675c6122f7a": {
     "views": [
      {
       "cell_index": 12
      }
     ]
    },
    "c7a67019e21d4ec5a37086d85a07581c": {
     "views": [
      {
       "cell_index": 12
      }
     ]
    },
    "c903e5f7e74146a5a0d28cfc9aaa38d8": {
     "views": [
      {
       "cell_index": 12
      }
     ]
    },
    "cfd8bea54ba4423da4ac858698faf195": {
     "views": [
      {
       "cell_index": 12
      }
     ]
    },
    "d2ac867fe17f4b15928a11122402f3e7": {
     "views": [
      {
       "cell_index": 12
      }
     ]
    },
    "d360e21868f24f919fca057a23de38dd": {
     "views": [
      {
       "cell_index": 12
      }
     ]
    },
    "d3b86d2e628b44509d9c279348c84d58": {
     "views": [
      {
       "cell_index": 12
      }
     ]
    },
    "d420b64908e844f8932e3cf9bce5f7df": {
     "views": [
      {
       "cell_index": 12
      }
     ]
    },
    "d58824adb1f34ae8b8cccb9a92bed9b9": {
     "views": [
      {
       "cell_index": 12
      }
     ]
    },
    "d5995c5078054b6cb355214e19d3b9bb": {
     "views": [
      {
       "cell_index": 12
      }
     ]
    },
    "d5e9bf601f86409a80595bae90679799": {
     "views": [
      {
       "cell_index": 12
      }
     ]
    },
    "d5fe5c3cbf90414a980842413606c334": {
     "views": [
      {
       "cell_index": 12
      }
     ]
    },
    "d6811c37372744d8a053169e094f2610": {
     "views": [
      {
       "cell_index": 12
      }
     ]
    },
    "d70c6179feb0465ab655d5a3b518cd9b": {
     "views": [
      {
       "cell_index": 12
      }
     ]
    },
    "d83702e9fc2447739b63d4875b056027": {
     "views": [
      {
       "cell_index": 12
      }
     ]
    },
    "d9ee27ece9cb445c87888910ba7c585a": {
     "views": [
      {
       "cell_index": 12
      }
     ]
    },
    "d9f648de17f0435ea3687cf5b04f7a45": {
     "views": [
      {
       "cell_index": 12
      }
     ]
    },
    "da5ef49c3ac44fdd8c2ec10e00400119": {
     "views": [
      {
       "cell_index": 12
      }
     ]
    },
    "da92f9e1b1254c759cf087dc950f0ba7": {
     "views": [
      {
       "cell_index": 12
      }
     ]
    },
    "dac9299bfd864b7d91c55e1822d6b992": {
     "views": [
      {
       "cell_index": 12
      }
     ]
    },
    "db64397df25d4b43aa25e58d17e89eab": {
     "views": [
      {
       "cell_index": 12
      }
     ]
    },
    "dd896ecb39ea44e4a77e02430343b56a": {
     "views": [
      {
       "cell_index": 12
      }
     ]
    },
    "defc7fa9a19f4365947c1b72694ddc70": {
     "views": [
      {
       "cell_index": 12
      }
     ]
    },
    "e3bbb071daf147f6b6b41955f844243a": {
     "views": [
      {
       "cell_index": 12
      }
     ]
    },
    "e5d031affdbd44cfb82de9ae39a60cf7": {
     "views": [
      {
       "cell_index": 12
      }
     ]
    },
    "e7626f41a15b4f09b148485fb7712d79": {
     "views": [
      {
       "cell_index": 12
      }
     ]
    },
    "e861aa2b561141a399440a3cd04006e6": {
     "views": [
      {
       "cell_index": 12
      }
     ]
    },
    "eb39296a3b34473eaae12637f71128bc": {
     "views": [
      {
       "cell_index": 12
      }
     ]
    },
    "eb926929ba304ea99abe8fe023471227": {
     "views": [
      {
       "cell_index": 12
      }
     ]
    },
    "ed8e967019624ad0b0a1cbae6d5d41db": {
     "views": [
      {
       "cell_index": 12
      }
     ]
    },
    "ed9429087e9e4e098ceba5b0875f378d": {
     "views": [
      {
       "cell_index": 12
      }
     ]
    },
    "efeaacda9edd4c0a9cbdf00bccfc254c": {
     "views": [
      {
       "cell_index": 12
      }
     ]
    },
    "f161fd5e4b424e88b1e1fa3e04700482": {
     "views": [
      {
       "cell_index": 12
      }
     ]
    },
    "f1624d4da39e4a3e89e0efacc61bb712": {
     "views": [
      {
       "cell_index": 12
      }
     ]
    },
    "f2a4364c9e86446db9b8fbfb142d51ed": {
     "views": [
      {
       "cell_index": 12
      }
     ]
    },
    "f4c32fb52e004463a742391f1ffba6d7": {
     "views": [
      {
       "cell_index": 12
      }
     ]
    },
    "f64a6efcfe5a4f2dbc1db35f33b001b8": {
     "views": [
      {
       "cell_index": 12
      }
     ]
    },
    "f72f383233ea4acf986c39477081ab96": {
     "views": [
      {
       "cell_index": 12
      }
     ]
    },
    "fe38f2f8f3064b7e904e5b331619b7aa": {
     "views": [
      {
       "cell_index": 12
      }
     ]
    },
    "fe8ce442303345e599282a85597afadd": {
     "views": [
      {
       "cell_index": 12
      }
     ]
    }
   },
   "version": "1.2.0"
  }
 },
 "nbformat": 4,
 "nbformat_minor": 1
}
