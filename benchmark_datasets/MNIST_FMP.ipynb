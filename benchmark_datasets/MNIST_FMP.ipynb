{
 "cells": [
  {
   "cell_type": "code",
   "execution_count": 1,
   "metadata": {
    "collapsed": false
   },
   "outputs": [],
   "source": [
    "from code.mnist_NA import *\n",
    "from code.helper_FMP import *\n",
    "import tensorflow as tf\n",
    "import numpy as np\n",
    "import pandas as pd\n",
    "import glob\n",
    "\n",
    "import matplotlib.pyplot as plt\n",
    "%matplotlib inline\n",
    "from sklearn.utils import shuffle\n",
    "from sklearn.cross_validation import train_test_split\n",
    "from tqdm import tnrange,tqdm_notebook\n",
    "import os \n",
    "\n",
    "import warnings\n",
    "warnings.filterwarnings(\"ignore\")"
   ]
  },
  {
   "cell_type": "code",
   "execution_count": 2,
   "metadata": {
    "collapsed": true
   },
   "outputs": [],
   "source": [
    "epochs = 20\n",
    "batch_size = 16\n",
    "\n",
    "logs_path = \"tensorflow_logs/mnist_logs\"\n",
    "model_path  = \"/models/mnist\""
   ]
  },
  {
   "cell_type": "code",
   "execution_count": 3,
   "metadata": {
    "collapsed": false
   },
   "outputs": [
    {
     "data": {
      "text/plain": [
       "'/home/prakash/benchmark'"
      ]
     },
     "execution_count": 3,
     "metadata": {},
     "output_type": "execute_result"
    }
   ],
   "source": [
    "os.getcwd()"
   ]
  },
  {
   "cell_type": "code",
   "execution_count": 4,
   "metadata": {
    "collapsed": false
   },
   "outputs": [],
   "source": [
    "filelist_train = glob.glob(os.getcwd()+\"/train/*.png\")\n",
    "filelist_test = glob.glob(os.getcwd()+\"/test/*.png\")"
   ]
  },
  {
   "cell_type": "code",
   "execution_count": 5,
   "metadata": {
    "collapsed": false
   },
   "outputs": [
    {
     "data": {
      "text/plain": [
       "'/home/prakash/benchmark/train/11934.png'"
      ]
     },
     "execution_count": 5,
     "metadata": {},
     "output_type": "execute_result"
    }
   ],
   "source": [
    "filelist_train[0]"
   ]
  },
  {
   "cell_type": "code",
   "execution_count": 6,
   "metadata": {
    "collapsed": false
   },
   "outputs": [],
   "source": [
    "train= np.array([image_read(filelist_train[i]) for i in range(len(filelist_train))])\n",
    "test = np.array([image_read(filelist_test[i]) for i in range(len(filelist_test))])"
   ]
  },
  {
   "cell_type": "code",
   "execution_count": 7,
   "metadata": {
    "collapsed": false
   },
   "outputs": [
    {
     "data": {
      "text/plain": [
       "(49000, 36, 36, 3)"
      ]
     },
     "execution_count": 7,
     "metadata": {},
     "output_type": "execute_result"
    }
   ],
   "source": [
    "train.shape"
   ]
  },
  {
   "cell_type": "code",
   "execution_count": 8,
   "metadata": {
    "collapsed": false
   },
   "outputs": [
    {
     "data": {
      "image/png": "[encoded data removed]",
      "text/plain": [
       "<matplotlib.figure.Figure at 0x7f7523fe96a0>"
      ]
     },
     "metadata": {},
     "output_type": "display_data"
    }
   ],
   "source": [
    "plt.imshow(train[100,:,:,:])\n",
    "plt.show()"
   ]
  },
  {
   "cell_type": "code",
   "execution_count": 9,
   "metadata": {
    "collapsed": false
   },
   "outputs": [
    {
     "name": "stdout",
     "output_type": "stream",
     "text": [
      "[[ 0.  0.  0. ...,  1.  0.  0.]\n",
      " [ 0.  0.  1. ...,  0.  0.  0.]\n",
      " [ 0.  0.  0. ...,  1.  0.  0.]\n",
      " ..., \n",
      " [ 1.  0.  0. ...,  0.  0.  0.]\n",
      " [ 0.  1.  0. ...,  0.  0.  0.]\n",
      " [ 0.  0.  0. ...,  0.  0.  0.]]\n"
     ]
    }
   ],
   "source": [
    "labels = pd.read_table(os.getcwd()+\"/train.csv\",sep=\",\",index_col = [\"filename\"])\n",
    "labels = labels.ix[list(map(int, ([x.rsplit('/',1)[-1].rsplit('.',1)[0] for x in filelist_train])))]\n",
    "labels = pd.get_dummies(labels['label'])\n",
    "labels = labels.as_matrix()\n",
    "print (labels)"
   ]
  },
  {
   "cell_type": "code",
   "execution_count": 10,
   "metadata": {
    "collapsed": false
   },
   "outputs": [],
   "source": [
    "trX,valX,trY, valY = train_test_split(train,labels,\n",
    "\ttest_size = 0.20, random_state = 20)"
   ]
  },
  {
   "cell_type": "code",
   "execution_count": 11,
   "metadata": {
    "collapsed": true
   },
   "outputs": [],
   "source": [
    "# model building \n",
    "X = tf.placeholder(tf.float32,[None,36,36,3],name = \"Input_data\")\n",
    "Y = tf.placeholder(tf.float32,[None,10], name = \"InputLabels\")"
   ]
  },
  {
   "cell_type": "code",
   "execution_count": 12,
   "metadata": {
    "collapsed": false
   },
   "outputs": [],
   "source": [
    "weights = {\n",
    "\"w1\":init_weights([2,2,3,32]),\n",
    "\"w2\":init_weights([2,2,32,64]),\n",
    "\"w3\":init_weights([2,2,64,96]),\n",
    "\"w4\":init_weights([2,2,96,128]),\n",
    "\"w5\":init_weights([2,2,128,160]),\n",
    "\"w6\":init_weights([2,2,160,192]),\n",
    "\"w7\":init_weights([1,1,192,192]),\n",
    "\"w8\":init_weights([1,1,192,192]),\n",
    "\"w9\":init_weights([1728,10])\n",
    "}\n",
    "\n",
    "\n",
    "\n",
    "bias = {\n",
    "\"b1\": init_bias([32]),\n",
    "\"b2\": init_bias([64]),\n",
    "\"b3\": init_bias([96]),\n",
    "\"b4\": init_bias([128]),\n",
    "\"b5\": init_bias([160]),\n",
    "\"b6\": init_bias([192]),\n",
    "\"b7\": init_bias([192]),\n",
    "\"b8\": init_bias([192]),\n",
    "\"b9\": init_bias([10])\n",
    "}"
   ]
  },
  {
   "cell_type": "code",
   "execution_count": 13,
   "metadata": {
    "collapsed": true
   },
   "outputs": [],
   "source": [
    "pred = model(X,weights,bias)"
   ]
  },
  {
   "cell_type": "code",
   "execution_count": 14,
   "metadata": {
    "collapsed": false
   },
   "outputs": [
    {
     "data": {
      "text/plain": [
       "<tf.Tensor 'Add:0' shape=(?, 10) dtype=float32>"
      ]
     },
     "execution_count": 14,
     "metadata": {},
     "output_type": "execute_result"
    }
   ],
   "source": [
    "pred"
   ]
  },
  {
   "cell_type": "code",
   "execution_count": 15,
   "metadata": {
    "collapsed": true
   },
   "outputs": [],
   "source": [
    "cost = tf.reduce_mean(tf.nn.softmax_cross_entropy_with_logits(pred,Y))\n",
    "#optimizer = tf.train.AdamOptimizer(learning_rate=0.00001).minimize(cost)\n",
    "optimizer = tf.train.AdamOptimizer(learning_rate=0.001).minimize(cost)"
   ]
  },
  {
   "cell_type": "code",
   "execution_count": 16,
   "metadata": {
    "collapsed": true
   },
   "outputs": [],
   "source": [
    "#Evaluate the model\n",
    "correct_pred= tf.equal(tf.argmax(pred,1),tf.argmax(Y,1))\n",
    "accuracy = tf.reduce_mean(tf.cast(correct_pred,tf.float32))\n",
    "\n",
    "#Initialize all the variables\n",
    "init = tf.initialize_all_variables()\n",
    "\n",
    "saver = tf.train.Saver()"
   ]
  },
  {
   "cell_type": "code",
   "execution_count": 17,
   "metadata": {
    "collapsed": true
   },
   "outputs": [],
   "source": [
    "# Create summary to monitor cost tensor , accuracy tensor\n",
    "tf.scalar_summary(\"loss\",cost)\n",
    "tf.scalar_summary(\"accuracy\",accuracy)\n",
    "\n",
    "merged_summary_op = tf.merge_all_summaries()"
   ]
  },
  {
   "cell_type": "code",
   "execution_count": 19,
   "metadata": {
    "collapsed": false,
    "scrolled": true
   },
   "outputs": [
    {
     "name": "stdout",
     "output_type": "stream",
     "text": [
      "0 0 Train loss =2.302590 Train acc =0.098000 valid loss =2.302548 valid acc =0.105000\n",
      "0 1000 Train loss =2.301074 Train acc =0.115000 valid loss =2.300365 valid acc =0.104000\n",
      "0 2000 Train loss =2.299824 Train acc =0.115000 valid loss =2.299810 valid acc =0.104000\n",
      "1 0 Train loss =1.841220 Train acc =0.263000 valid loss =1.641279 valid acc =0.381000\n",
      "1 1000 Train loss =0.796329 Train acc =0.755000 valid loss =1.007066 valid acc =0.672000\n",
      "1 2000 Train loss =0.366906 Train acc =0.876000 valid loss =0.358619 valid acc =0.887000\n",
      "2 0 Train loss =0.331030 Train acc =0.900000 valid loss =0.424946 valid acc =0.877000\n",
      "2 1000 Train loss =0.413063 Train acc =0.874000 valid loss =0.341812 valid acc =0.884000\n",
      "2 2000 Train loss =0.207069 Train acc =0.933000 valid loss =0.171587 valid acc =0.951000\n",
      "3 0 Train loss =0.206459 Train acc =0.940000 valid loss =0.305751 valid acc =0.908000\n",
      "3 1000 Train loss =0.360316 Train acc =0.878000 valid loss =0.280711 valid acc =0.921000\n",
      "3 2000 Train loss =0.145471 Train acc =0.956000 valid loss =0.181585 valid acc =0.942000\n",
      "4 0 Train loss =0.138626 Train acc =0.958000 valid loss =0.167789 valid acc =0.946000\n",
      "4 1000 Train loss =0.139366 Train acc =0.948000 valid loss =0.172249 valid acc =0.954000\n",
      "4 2000 Train loss =0.145994 Train acc =0.956000 valid loss =0.199444 valid acc =0.939000\n",
      "5 0 Train loss =0.145176 Train acc =0.953000 valid loss =0.079596 valid acc =0.974000\n",
      "5 1000 Train loss =0.125590 Train acc =0.961000 valid loss =0.111152 valid acc =0.968000\n",
      "5 2000 Train loss =0.082376 Train acc =0.973000 valid loss =0.147328 valid acc =0.957000\n",
      "6 0 Train loss =0.136469 Train acc =0.957000 valid loss =0.122231 valid acc =0.962000\n",
      "6 1000 Train loss =0.120012 Train acc =0.963000 valid loss =0.084920 valid acc =0.974000\n",
      "6 2000 Train loss =0.184922 Train acc =0.946000 valid loss =0.187965 valid acc =0.948000\n",
      "7 0 Train loss =0.220569 Train acc =0.944000 valid loss =0.286434 valid acc =0.938000\n",
      "7 1000 Train loss =0.208586 Train acc =0.955000 valid loss =0.125885 valid acc =0.964000\n",
      "7 2000 Train loss =0.147682 Train acc =0.951000 valid loss =0.224890 valid acc =0.939000\n",
      "8 0 Train loss =0.112716 Train acc =0.967000 valid loss =0.088840 valid acc =0.974000\n",
      "8 1000 Train loss =0.377794 Train acc =0.916000 valid loss =0.117538 valid acc =0.967000\n",
      "8 2000 Train loss =0.114755 Train acc =0.967000 valid loss =0.170072 valid acc =0.954000\n",
      "9 0 Train loss =0.218554 Train acc =0.942000 valid loss =0.132698 valid acc =0.962000\n",
      "9 1000 Train loss =0.126135 Train acc =0.965000 valid loss =0.102990 valid acc =0.976000\n",
      "9 2000 Train loss =0.148790 Train acc =0.955000 valid loss =0.256409 valid acc =0.940000\n",
      "10 0 Train loss =0.138364 Train acc =0.955000 valid loss =0.141246 valid acc =0.960000\n",
      "10 1000 Train loss =0.089571 Train acc =0.982000 valid loss =0.153097 valid acc =0.961000\n",
      "10 2000 Train loss =0.165956 Train acc =0.949000 valid loss =0.138130 valid acc =0.957000\n",
      "11 0 Train loss =0.074966 Train acc =0.977000 valid loss =0.084340 valid acc =0.979000\n",
      "11 1000 Train loss =0.425991 Train acc =0.905000 valid loss =0.321534 valid acc =0.929000\n",
      "11 2000 Train loss =0.255158 Train acc =0.933000 valid loss =0.146499 valid acc =0.967000\n",
      "12 0 Train loss =0.170207 Train acc =0.948000 valid loss =0.115035 valid acc =0.971000\n",
      "12 1000 Train loss =0.143593 Train acc =0.960000 valid loss =0.124272 valid acc =0.966000\n",
      "12 2000 Train loss =0.127139 Train acc =0.969000 valid loss =0.157504 valid acc =0.966000\n",
      "13 0 Train loss =0.456398 Train acc =0.900000 valid loss =0.217414 valid acc =0.943000\n",
      "13 1000 Train loss =0.134507 Train acc =0.961000 valid loss =0.122006 valid acc =0.961000\n",
      "13 2000 Train loss =0.270920 Train acc =0.929000 valid loss =0.136505 valid acc =0.956000\n",
      "14 0 Train loss =0.125307 Train acc =0.959000 valid loss =0.117574 valid acc =0.968000\n",
      "14 1000 Train loss =0.149475 Train acc =0.952000 valid loss =0.110732 valid acc =0.966000\n",
      "14 2000 Train loss =0.156937 Train acc =0.947000 valid loss =0.094337 valid acc =0.968000\n",
      "15 0 Train loss =0.065098 Train acc =0.981000 valid loss =0.153347 valid acc =0.957000\n",
      "15 1000 Train loss =0.129281 Train acc =0.964000 valid loss =0.069163 valid acc =0.978000\n",
      "15 2000 Train loss =0.118524 Train acc =0.970000 valid loss =0.128770 valid acc =0.968000\n",
      "16 0 Train loss =0.474253 Train acc =0.884000 valid loss =0.148492 valid acc =0.960000\n",
      "16 1000 Train loss =0.068222 Train acc =0.983000 valid loss =0.119991 valid acc =0.967000\n",
      "16 2000 Train loss =0.121803 Train acc =0.968000 valid loss =0.118553 valid acc =0.968000\n",
      "17 0 Train loss =0.179951 Train acc =0.948000 valid loss =0.089208 valid acc =0.977000\n",
      "17 1000 Train loss =0.075063 Train acc =0.982000 valid loss =0.116045 valid acc =0.969000\n",
      "17 2000 Train loss =0.306355 Train acc =0.946000 valid loss =0.079744 valid acc =0.979000\n",
      "18 0 Train loss =0.112199 Train acc =0.965000 valid loss =0.122680 valid acc =0.963000\n",
      "18 1000 Train loss =2.987553 Train acc =0.350000 valid loss =2.594521 valid acc =0.412000\n",
      "18 2000 Train loss =1.443858 Train acc =0.561000 valid loss =1.390448 valid acc =0.584000\n",
      "19 0 Train loss =1.152384 Train acc =0.612000 valid loss =1.399642 valid acc =0.591000\n",
      "19 1000 Train loss =1.474628 Train acc =0.522000 valid loss =0.797622 valid acc =0.729000\n",
      "19 2000 Train loss =0.817149 Train acc =0.730000 valid loss =0.871801 valid acc =0.706000\n",
      "\n",
      "Optimization finished\n"
     ]
    }
   ],
   "source": [
    "with tf.Session() as sess:\n",
    "    sess.run(init)\n",
    "    summary_writer = tf.train.SummaryWriter(logs_path,graph=tf.get_default_graph())\n",
    "    val_acc = [0]\n",
    "    for ep in tqdm_notebook(range(epochs),desc=\"1st loop\"):\n",
    "        batches = int(len(trX)/batch_size)\n",
    "        x_train,y_train = shuffle(trX,trY,random_state=0)\n",
    "        for i in tqdm_notebook(range(batches),desc=\"2nd loop\", leave = False):\n",
    "            X_train, Y_train = x_train[i*batch_size:(i+1)*batch_size],y_train[i*batch_size:(i+1)*batch_size]\n",
    "            _,c,summary = sess.run([optimizer,cost,merged_summary_op],feed_dict={X : np.float32(X_train), Y : np.float32(Y_train)})\n",
    "            if i % 1000 == 0:\n",
    "                train_loss, train_acc = sess.run([cost,accuracy], feed_dict={X : np.float32(x_train[0:1000,:,:,:]), Y : np.float32(y_train[0:1000])})\n",
    "                valx,valy = shuffle(valX,valY, random_state=0)\n",
    "                valid_loss, valid_acc = sess.run([cost,accuracy], feed_dict={X : np.float32(valx[0:1000]), Y : np.float32(valy[0:1000])})\n",
    "                print (str(ep),str(i),\"Train loss =\"+\"{:.6f}\".format(train_loss),\\\n",
    "                       \"Train acc =\"+\"{:.6f}\".format(train_acc),\\\n",
    "                      \"valid loss =\"+\"{:.6f}\".format(valid_loss),\\\n",
    "                      \"valid acc =\"+\"{:.6f}\".format(valid_acc))\n",
    "                if max(val_acc) < valid_acc:\n",
    "                    val_acc.append(valid_acc)\n",
    "                    saver.save(sess,os.getcwd()+model_path+\"_\"+str(ep)+\"_\"+str(i))\n",
    "    print (\"Optimization finished\")\n",
    "                \n",
    "                "
   ]
  },
  {
   "cell_type": "code",
   "execution_count": 20,
   "metadata": {
    "collapsed": false
   },
   "outputs": [
    {
     "data": {
      "text/plain": [
       "[0,\n",
       " 0.105,\n",
       " 0.38100004,\n",
       " 0.67199999,\n",
       " 0.88700002,\n",
       " 0.95100003,\n",
       " 0.95400012,\n",
       " 0.97400004,\n",
       " 0.97600001,\n",
       " 0.97899997,\n",
       " 0.97900009]"
      ]
     },
     "execution_count": 20,
     "metadata": {},
     "output_type": "execute_result"
    }
   ],
   "source": [
    "val_acc"
   ]
  },
  {
   "cell_type": "code",
   "execution_count": null,
   "metadata": {
    "collapsed": true
   },
   "outputs": [],
   "source": [
    "# reducing the learning rate and running more epochs \n",
    "optimizer = tf.train.AdamOptimizer(learning_rate=0.0001).minimize(cost)"
   ]
  },
  {
   "cell_type": "code",
   "execution_count": 21,
   "metadata": {
    "collapsed": false,
    "scrolled": false
   },
   "outputs": [
    {
     "name": "stdout",
     "output_type": "stream",
     "text": [
      "0 0 Train loss =0.098165 Train acc =0.967000 valid loss =0.151144 valid acc =0.959000\n",
      "0 1000 Train loss =0.139033 Train acc =0.970000 valid loss =0.231926 valid acc =0.951000\n",
      "0 2000 Train loss =0.078833 Train acc =0.973000 valid loss =0.163542 valid acc =0.953000\n",
      "1 0 Train loss =0.101336 Train acc =0.968000 valid loss =0.097532 valid acc =0.973000\n",
      "1 1000 Train loss =0.284841 Train acc =0.912000 valid loss =0.305751 valid acc =0.905000\n",
      "1 2000 Train loss =0.112236 Train acc =0.965000 valid loss =0.241569 valid acc =0.930000\n",
      "2 0 Train loss =0.147014 Train acc =0.953000 valid loss =0.161332 valid acc =0.959000\n",
      "2 1000 Train loss =0.474135 Train acc =0.860000 valid loss =0.502667 valid acc =0.859000\n",
      "2 2000 Train loss =0.242465 Train acc =0.927000 valid loss =0.248673 valid acc =0.939000\n",
      "3 0 Train loss =0.173770 Train acc =0.958000 valid loss =0.182960 valid acc =0.948000\n",
      "3 1000 Train loss =0.222229 Train acc =0.932000 valid loss =0.288344 valid acc =0.922000\n",
      "3 2000 Train loss =0.220576 Train acc =0.940000 valid loss =0.138238 valid acc =0.960000\n",
      "4 0 Train loss =0.149445 Train acc =0.953000 valid loss =0.124049 valid acc =0.954000\n",
      "4 1000 Train loss =0.181090 Train acc =0.950000 valid loss =0.222356 valid acc =0.940000\n",
      "4 2000 Train loss =0.078754 Train acc =0.980000 valid loss =0.083861 valid acc =0.969000\n",
      "5 0 Train loss =0.105111 Train acc =0.969000 valid loss =0.239197 valid acc =0.942000\n",
      "5 1000 Train loss =0.071360 Train acc =0.982000 valid loss =0.127181 valid acc =0.967000\n",
      "5 2000 Train loss =0.118832 Train acc =0.972000 valid loss =0.254780 valid acc =0.934000\n",
      "6 0 Train loss =0.155744 Train acc =0.955000 valid loss =0.131986 valid acc =0.961000\n",
      "6 1000 Train loss =0.073616 Train acc =0.975000 valid loss =0.120038 valid acc =0.971000\n",
      "6 2000 Train loss =0.133713 Train acc =0.963000 valid loss =0.190479 valid acc =0.965000\n",
      "7 0 Train loss =0.219823 Train acc =0.951000 valid loss =0.152246 valid acc =0.961000\n",
      "7 1000 Train loss =0.080018 Train acc =0.973000 valid loss =0.120829 valid acc =0.966000\n",
      "7 2000 Train loss =0.140416 Train acc =0.968000 valid loss =0.088550 valid acc =0.975000\n",
      "8 0 Train loss =0.135031 Train acc =0.954000 valid loss =0.111434 valid acc =0.965000\n",
      "8 1000 Train loss =0.086777 Train acc =0.975000 valid loss =0.091531 valid acc =0.974000\n",
      "8 2000 Train loss =0.136078 Train acc =0.959000 valid loss =0.110328 valid acc =0.967000\n",
      "9 0 Train loss =1.169949 Train acc =0.755000 valid loss =0.327543 valid acc =0.909000\n",
      "9 1000 Train loss =0.185299 Train acc =0.950000 valid loss =0.407814 valid acc =0.878000\n",
      "9 2000 Train loss =0.086188 Train acc =0.974000 valid loss =0.093844 valid acc =0.973000\n",
      "10 0 Train loss =0.103587 Train acc =0.968000 valid loss =0.159535 valid acc =0.957000\n",
      "10 1000 Train loss =0.179225 Train acc =0.944000 valid loss =0.121149 valid acc =0.962000\n",
      "10 2000 Train loss =0.075914 Train acc =0.978000 valid loss =0.073514 valid acc =0.983000\n",
      "11 0 Train loss =0.087411 Train acc =0.972000 valid loss =0.139642 valid acc =0.970000\n",
      "11 1000 Train loss =7.333161 Train acc =0.344000 valid loss =8.023623 valid acc =0.191000\n",
      "11 2000 Train loss =2.331730 Train acc =0.483000 valid loss =1.962573 valid acc =0.470000\n",
      "12 0 Train loss =1.670553 Train acc =0.443000 valid loss =2.024346 valid acc =0.447000\n",
      "12 1000 Train loss =1.072553 Train acc =0.617000 valid loss =1.258794 valid acc =0.571000\n",
      "12 2000 Train loss =1.183495 Train acc =0.654000 valid loss =1.074477 valid acc =0.664000\n",
      "13 0 Train loss =0.916214 Train acc =0.735000 valid loss =0.930822 valid acc =0.680000\n",
      "13 1000 Train loss =0.930905 Train acc =0.743000 valid loss =1.791180 valid acc =0.469000\n",
      "13 2000 Train loss =0.361867 Train acc =0.879000 valid loss =1.007501 valid acc =0.678000\n",
      "14 0 Train loss =0.600367 Train acc =0.821000 valid loss =0.792697 valid acc =0.789000\n",
      "14 1000 Train loss =0.415504 Train acc =0.862000 valid loss =0.539572 valid acc =0.825000\n",
      "14 2000 Train loss =0.454843 Train acc =0.853000 valid loss =0.682726 valid acc =0.788000\n",
      "15 0 Train loss =0.407822 Train acc =0.862000 valid loss =0.710006 valid acc =0.777000\n",
      "15 1000 Train loss =0.315250 Train acc =0.915000 valid loss =0.339605 valid acc =0.899000\n",
      "15 2000 Train loss =0.278888 Train acc =0.910000 valid loss =0.239072 valid acc =0.927000\n",
      "16 0 Train loss =0.297598 Train acc =0.901000 valid loss =0.277099 valid acc =0.921000\n",
      "16 1000 Train loss =0.264816 Train acc =0.924000 valid loss =0.446297 valid acc =0.870000\n",
      "16 2000 Train loss =0.134283 Train acc =0.959000 valid loss =0.165023 valid acc =0.955000\n",
      "17 0 Train loss =0.133122 Train acc =0.962000 valid loss =0.114659 valid acc =0.970000\n",
      "17 1000 Train loss =0.613339 Train acc =0.822000 valid loss =0.254012 valid acc =0.921000\n",
      "17 2000 Train loss =0.288853 Train acc =0.943000 valid loss =0.217275 valid acc =0.936000\n",
      "18 0 Train loss =0.189523 Train acc =0.945000 valid loss =0.214601 valid acc =0.932000\n",
      "18 1000 Train loss =0.124117 Train acc =0.962000 valid loss =0.114555 valid acc =0.973000\n",
      "18 2000 Train loss =0.104938 Train acc =0.971000 valid loss =0.155491 valid acc =0.952000\n",
      "19 0 Train loss =0.201035 Train acc =0.941000 valid loss =0.149893 valid acc =0.955000\n",
      "19 1000 Train loss =0.102010 Train acc =0.965000 valid loss =0.134727 valid acc =0.955000\n",
      "19 2000 Train loss =0.219635 Train acc =0.942000 valid loss =0.184250 valid acc =0.947000\n",
      "\n",
      "Optimization finished\n"
     ]
    }
   ],
   "source": [
    "# remove val_accuarcy- that will set it to default \n",
    "with tf.Session() as sess:\n",
    "    sess.run(init)\n",
    "    summary_writer = tf.train.SummaryWriter(logs_path,graph=tf.get_default_graph())\n",
    "    saver.restore(sess,os.getcwd()+model_path+\"_\"+\"17\"+\"_\"+\"2000\")\n",
    "    for ep in tqdm_notebook(range(epochs),desc=\"1st loop\"):\n",
    "        batches = int(len(trX)/batch_size)\n",
    "        x_train,y_train = shuffle(trX,trY,random_state=0)\n",
    "        for i in tqdm_notebook(range(batches),desc=\"2nd loop\", leave = False):\n",
    "            X_train, Y_train = x_train[i*batch_size:(i+1)*batch_size],y_train[i*batch_size:(i+1)*batch_size]\n",
    "            _,c,summary = sess.run([optimizer,cost,merged_summary_op],feed_dict={X : np.float32(X_train), Y : np.float32(Y_train)})\n",
    "            if i % 1000 == 0:\n",
    "                train_loss, train_acc = sess.run([cost,accuracy], feed_dict={X : np.float32(x_train[0:1000,:,:,:]), Y : np.float32(y_train[0:1000])})\n",
    "                valx,valy = shuffle(valX,valY, random_state=0)\n",
    "                valid_loss, valid_acc = sess.run([cost,accuracy], feed_dict={X : np.float32(valx[0:1000]), Y : np.float32(valy[0:1000])})\n",
    "                print (str(ep),str(i),\"Train loss =\"+\"{:.6f}\".format(train_loss),\\\n",
    "                       \"Train acc =\"+\"{:.6f}\".format(train_acc),\\\n",
    "                      \"valid loss =\"+\"{:.6f}\".format(valid_loss),\\\n",
    "                      \"valid acc =\"+\"{:.6f}\".format(valid_acc))\n",
    "                if max(val_acc) < valid_acc:\n",
    "                    val_acc.append(valid_acc)\n",
    "                    saver.save(sess,os.getcwd()+model_path+\"_\"+\"run2\"+\"_\"+str(ep)+\"_\"+str(i))\n",
    "    print (\"Optimization finished\")"
   ]
  },
  {
   "cell_type": "code",
   "execution_count": 22,
   "metadata": {
    "collapsed": false
   },
   "outputs": [
    {
     "data": {
      "text/plain": [
       "[0,\n",
       " 0.105,\n",
       " 0.38100004,\n",
       " 0.67199999,\n",
       " 0.88700002,\n",
       " 0.95100003,\n",
       " 0.95400012,\n",
       " 0.97400004,\n",
       " 0.97600001,\n",
       " 0.97899997,\n",
       " 0.97900009,\n",
       " 0.98299998]"
      ]
     },
     "execution_count": 22,
     "metadata": {},
     "output_type": "execute_result"
    }
   ],
   "source": [
    "val_acc"
   ]
  },
  {
   "cell_type": "code",
   "execution_count": 31,
   "metadata": {
    "collapsed": true
   },
   "outputs": [],
   "source": [
    "# reducing the learning rate and running more epochs \n",
    "cost = tf.reduce_mean(tf.nn.softmax_cross_entropy_with_logits(pred,Y))\n",
    "optimizer = tf.train.AdamOptimizer(learning_rate=0.00001).minimize(cost)\n",
    "\n",
    "init = tf.initialize_all_variables()"
   ]
  },
  {
   "cell_type": "code",
   "execution_count": 32,
   "metadata": {
    "collapsed": false
   },
   "outputs": [
    {
     "name": "stdout",
     "output_type": "stream",
     "text": [
      "0 0 Train loss =0.112754 Train acc =0.972000 valid loss =0.092918 valid acc =0.971000\n",
      "0 1000 Train loss =0.092681 Train acc =0.977000 valid loss =0.151973 valid acc =0.968000\n",
      "0 2000 Train loss =0.076151 Train acc =0.974000 valid loss =0.099301 valid acc =0.969000\n",
      "1 0 Train loss =0.069196 Train acc =0.980000 valid loss =0.090019 valid acc =0.977000\n",
      "1 1000 Train loss =0.056951 Train acc =0.986000 valid loss =0.067025 valid acc =0.980000\n",
      "1 2000 Train loss =0.071047 Train acc =0.978000 valid loss =0.065641 valid acc =0.984000\n",
      "2 0 Train loss =0.164126 Train acc =0.961000 valid loss =0.093142 valid acc =0.973000\n",
      "2 1000 Train loss =0.120449 Train acc =0.967000 valid loss =0.099341 valid acc =0.978000\n",
      "2 2000 Train loss =0.097075 Train acc =0.972000 valid loss =0.104550 valid acc =0.968000\n",
      "3 0 Train loss =0.064887 Train acc =0.984000 valid loss =1.489470 valid acc =0.979000\n",
      "3 1000 Train loss =0.055873 Train acc =0.979000 valid loss =0.100839 valid acc =0.977000\n",
      "3 2000 Train loss =0.082534 Train acc =0.974000 valid loss =0.073970 valid acc =0.974000\n",
      "4 0 Train loss =0.037977 Train acc =0.987000 valid loss =0.093343 valid acc =0.979000\n",
      "4 1000 Train loss =0.065375 Train acc =0.980000 valid loss =0.068323 valid acc =0.981000\n",
      "4 2000 Train loss =0.057114 Train acc =0.979000 valid loss =0.047284 valid acc =0.987000\n",
      "5 0 Train loss =0.065989 Train acc =0.979000 valid loss =0.109245 valid acc =0.975000\n",
      "5 1000 Train loss =0.094080 Train acc =0.971000 valid loss =0.093280 valid acc =0.971000\n",
      "5 2000 Train loss =0.054393 Train acc =0.984000 valid loss =0.097758 valid acc =0.978000\n",
      "6 0 Train loss =0.070478 Train acc =0.981000 valid loss =0.086495 valid acc =0.978000\n",
      "6 1000 Train loss =0.078498 Train acc =0.973000 valid loss =0.068233 valid acc =0.979000\n",
      "6 2000 Train loss =0.078632 Train acc =0.976000 valid loss =0.061168 valid acc =0.980000\n",
      "7 0 Train loss =0.043128 Train acc =0.984000 valid loss =0.067688 valid acc =0.980000\n",
      "7 1000 Train loss =0.045275 Train acc =0.987000 valid loss =0.068045 valid acc =0.979000\n",
      "7 2000 Train loss =0.084288 Train acc =0.974000 valid loss =0.069626 valid acc =0.980000\n",
      "8 0 Train loss =0.057858 Train acc =0.981000 valid loss =0.089141 valid acc =0.977000\n",
      "8 1000 Train loss =0.056551 Train acc =0.983000 valid loss =0.062906 valid acc =0.983000\n",
      "8 2000 Train loss =0.087229 Train acc =0.976000 valid loss =0.061732 valid acc =0.982000\n",
      "9 0 Train loss =0.053748 Train acc =0.984000 valid loss =0.073232 valid acc =0.981000\n",
      "9 1000 Train loss =0.051186 Train acc =0.985000 valid loss =0.077933 valid acc =0.979000\n",
      "9 2000 Train loss =0.044654 Train acc =0.987000 valid loss =0.063812 valid acc =0.981000\n",
      "10 0 Train loss =0.044326 Train acc =0.986000 valid loss =0.074867 valid acc =0.981000\n",
      "10 1000 Train loss =0.063288 Train acc =0.978000 valid loss =0.083390 valid acc =0.975000\n",
      "10 2000 Train loss =0.079549 Train acc =0.974000 valid loss =0.095902 valid acc =0.980000\n",
      "11 0 Train loss =0.043037 Train acc =0.987000 valid loss =0.202804 valid acc =0.937000\n",
      "11 1000 Train loss =0.060368 Train acc =0.982000 valid loss =0.045255 valid acc =0.989000\n",
      "11 2000 Train loss =0.042401 Train acc =0.985000 valid loss =0.055561 valid acc =0.983000\n",
      "12 0 Train loss =0.078681 Train acc =0.977000 valid loss =0.070498 valid acc =0.986000\n",
      "12 1000 Train loss =0.086964 Train acc =0.979000 valid loss =0.075640 valid acc =0.978000\n",
      "12 2000 Train loss =0.062045 Train acc =0.976000 valid loss =0.064573 valid acc =0.985000\n",
      "13 0 Train loss =0.063609 Train acc =0.982000 valid loss =0.089396 valid acc =0.978000\n",
      "13 1000 Train loss =0.127409 Train acc =0.964000 valid loss =0.066470 valid acc =0.981000\n",
      "13 2000 Train loss =0.052471 Train acc =0.984000 valid loss =0.063556 valid acc =0.981000\n",
      "14 0 Train loss =0.059213 Train acc =0.977000 valid loss =0.033703 valid acc =0.992000\n",
      "14 1000 Train loss =0.057943 Train acc =0.981000 valid loss =0.049461 valid acc =0.984000\n",
      "14 2000 Train loss =0.042707 Train acc =0.985000 valid loss =0.074910 valid acc =0.975000\n",
      "15 0 Train loss =0.042937 Train acc =0.987000 valid loss =0.055326 valid acc =0.984000\n",
      "15 1000 Train loss =0.038970 Train acc =0.990000 valid loss =0.053472 valid acc =0.988000\n",
      "15 2000 Train loss =0.057757 Train acc =0.985000 valid loss =0.084522 valid acc =0.979000\n",
      "16 0 Train loss =0.039779 Train acc =0.985000 valid loss =0.046971 valid acc =0.989000\n",
      "16 1000 Train loss =0.052613 Train acc =0.983000 valid loss =0.054937 valid acc =0.983000\n",
      "16 2000 Train loss =0.063039 Train acc =0.986000 valid loss =0.057860 valid acc =0.986000\n",
      "17 0 Train loss =0.057688 Train acc =0.985000 valid loss =0.085185 valid acc =0.981000\n",
      "17 1000 Train loss =0.037706 Train acc =0.986000 valid loss =0.049705 valid acc =0.984000\n",
      "17 2000 Train loss =0.052569 Train acc =0.985000 valid loss =0.076098 valid acc =0.978000\n",
      "18 0 Train loss =0.050667 Train acc =0.980000 valid loss =0.055249 valid acc =0.986000\n",
      "18 1000 Train loss =0.062310 Train acc =0.978000 valid loss =0.049240 valid acc =0.987000\n",
      "18 2000 Train loss =0.050858 Train acc =0.984000 valid loss =0.053474 valid acc =0.985000\n",
      "19 0 Train loss =0.041591 Train acc =0.991000 valid loss =0.059476 valid acc =0.984000\n",
      "19 1000 Train loss =0.039939 Train acc =0.989000 valid loss =0.066219 valid acc =0.985000\n",
      "19 2000 Train loss =0.087739 Train acc =0.974000 valid loss =0.066936 valid acc =0.983000\n",
      "\n",
      "Optimization finished\n"
     ]
    }
   ],
   "source": [
    "# remove val_accuarcy- that will set it to default \n",
    "with tf.Session() as sess:\n",
    "    sess.run(init)\n",
    "    summary_writer = tf.train.SummaryWriter(logs_path,graph=tf.get_default_graph())\n",
    "    saver.restore(sess,os.getcwd()+model_path+\"_\"+\"run2\"+\"_\"+\"10\"+\"_\"+\"2000\")\n",
    "    for ep in tqdm_notebook(range(epochs),desc=\"1st loop\"):\n",
    "        batches = int(len(trX)/batch_size)\n",
    "        x_train,y_train = shuffle(trX,trY,random_state=0)\n",
    "        for i in tqdm_notebook(range(batches),desc=\"2nd loop\", leave = False):\n",
    "            X_train, Y_train = x_train[i*batch_size:(i+1)*batch_size],y_train[i*batch_size:(i+1)*batch_size]\n",
    "            _,c,summary = sess.run([optimizer,cost,merged_summary_op],feed_dict={X : np.float32(X_train), Y : np.float32(Y_train)})\n",
    "            if i % 1000 == 0:\n",
    "                train_loss, train_acc = sess.run([cost,accuracy], feed_dict={X : np.float32(x_train[0:1000,:,:,:]), Y : np.float32(y_train[0:1000])})\n",
    "                valx,valy = shuffle(valX,valY, random_state=0)\n",
    "                valid_loss, valid_acc = sess.run([cost,accuracy], feed_dict={X : np.float32(valx[0:1000]), Y : np.float32(valy[0:1000])})\n",
    "                print (str(ep),str(i),\"Train loss =\"+\"{:.6f}\".format(train_loss),\\\n",
    "                       \"Train acc =\"+\"{:.6f}\".format(train_acc),\\\n",
    "                      \"valid loss =\"+\"{:.6f}\".format(valid_loss),\\\n",
    "                      \"valid acc =\"+\"{:.6f}\".format(valid_acc))\n",
    "                if max(val_acc) < valid_acc:\n",
    "                    val_acc.append(valid_acc)\n",
    "                    saver.save(sess,os.getcwd()+model_path+\"_\"+\"run3\"+\"_\"+str(ep)+\"_\"+str(i))\n",
    "    print (\"Optimization finished\")"
   ]
  },
  {
   "cell_type": "code",
   "execution_count": 33,
   "metadata": {
    "collapsed": false
   },
   "outputs": [
    {
     "data": {
      "text/plain": [
       "[0,\n",
       " 0.105,\n",
       " 0.38100004,\n",
       " 0.67199999,\n",
       " 0.88700002,\n",
       " 0.95100003,\n",
       " 0.95400012,\n",
       " 0.97400004,\n",
       " 0.97600001,\n",
       " 0.97899997,\n",
       " 0.97900009,\n",
       " 0.98299998,\n",
       " 0.98399997,\n",
       " 0.98699999,\n",
       " 0.98899996,\n",
       " 0.99199998]"
      ]
     },
     "execution_count": 33,
     "metadata": {},
     "output_type": "execute_result"
    }
   ],
   "source": [
    "val_acc"
   ]
  },
  {
   "cell_type": "code",
   "execution_count": 34,
   "metadata": {
    "collapsed": true
   },
   "outputs": [],
   "source": [
    "# reducing the learning rate and running more epochs \n",
    "cost = tf.reduce_mean(tf.nn.softmax_cross_entropy_with_logits(pred,Y))\n",
    "optimizer = tf.train.AdamOptimizer(learning_rate=0.000001).minimize(cost)\n",
    "\n",
    "init = tf.initialize_all_variables()"
   ]
  },
  {
   "cell_type": "code",
   "execution_count": 35,
   "metadata": {
    "collapsed": false
   },
   "outputs": [
    {
     "name": "stdout",
     "output_type": "stream",
     "text": [
      "0 0 Train loss =0.049085 Train acc =0.986000 valid loss =0.058823 valid acc =0.986000\n",
      "0 1000 Train loss =0.039224 Train acc =0.986000 valid loss =0.054207 valid acc =0.985000\n",
      "0 2000 Train loss =0.047641 Train acc =0.986000 valid loss =0.057346 valid acc =0.985000\n",
      "1 0 Train loss =0.062885 Train acc =0.982000 valid loss =0.068016 valid acc =0.987000\n",
      "1 1000 Train loss =0.088306 Train acc =0.975000 valid loss =0.074711 valid acc =0.983000\n",
      "1 2000 Train loss =0.071275 Train acc =0.980000 valid loss =0.086353 valid acc =0.977000\n",
      "2 0 Train loss =0.038848 Train acc =0.992000 valid loss =0.066262 valid acc =0.983000\n",
      "2 1000 Train loss =0.047143 Train acc =0.984000 valid loss =0.048696 valid acc =0.983000\n",
      "2 2000 Train loss =0.081746 Train acc =0.979000 valid loss =0.046983 valid acc =0.990000\n",
      "3 0 Train loss =0.047122 Train acc =0.983000 valid loss =0.098130 valid acc =0.984000\n",
      "3 1000 Train loss =0.052317 Train acc =0.983000 valid loss =0.062606 valid acc =0.986000\n",
      "3 2000 Train loss =0.050192 Train acc =0.984000 valid loss =0.060915 valid acc =0.984000\n",
      "4 0 Train loss =0.053307 Train acc =0.986000 valid loss =0.060836 valid acc =0.984000\n",
      "4 1000 Train loss =0.041396 Train acc =0.990000 valid loss =0.050787 valid acc =0.987000\n",
      "4 2000 Train loss =0.042519 Train acc =0.985000 valid loss =0.053716 valid acc =0.985000\n",
      "5 0 Train loss =0.046396 Train acc =0.983000 valid loss =0.062489 valid acc =0.982000\n",
      "5 1000 Train loss =0.042311 Train acc =0.987000 valid loss =0.055254 valid acc =0.985000\n",
      "5 2000 Train loss =0.043780 Train acc =0.986000 valid loss =0.086956 valid acc =0.977000\n",
      "6 0 Train loss =0.044913 Train acc =0.987000 valid loss =0.067444 valid acc =0.983000\n",
      "6 1000 Train loss =0.052764 Train acc =0.988000 valid loss =0.076553 valid acc =0.981000\n",
      "6 2000 Train loss =0.043377 Train acc =0.987000 valid loss =0.103102 valid acc =0.969000\n",
      "7 0 Train loss =0.041154 Train acc =0.985000 valid loss =0.071762 valid acc =0.981000\n",
      "7 1000 Train loss =0.055955 Train acc =0.983000 valid loss =0.094698 valid acc =0.979000\n",
      "7 2000 Train loss =0.041831 Train acc =0.987000 valid loss =0.072662 valid acc =0.986000\n",
      "8 0 Train loss =0.044504 Train acc =0.983000 valid loss =0.045976 valid acc =0.986000\n",
      "8 1000 Train loss =0.042110 Train acc =0.982000 valid loss =0.071143 valid acc =0.983000\n",
      "8 2000 Train loss =0.075237 Train acc =0.978000 valid loss =0.059468 valid acc =0.987000\n",
      "9 0 Train loss =0.043957 Train acc =0.987000 valid loss =0.063486 valid acc =0.985000\n",
      "9 1000 Train loss =0.087141 Train acc =0.975000 valid loss =0.063572 valid acc =0.984000\n",
      "9 2000 Train loss =0.064723 Train acc =0.982000 valid loss =0.058592 valid acc =0.988000\n",
      "10 0 Train loss =0.033171 Train acc =0.991000 valid loss =0.073349 valid acc =0.984000\n",
      "10 1000 Train loss =0.042508 Train acc =0.986000 valid loss =0.083449 valid acc =0.977000\n",
      "10 2000 Train loss =0.050054 Train acc =0.981000 valid loss =0.069779 valid acc =0.982000\n",
      "11 0 Train loss =0.042738 Train acc =0.985000 valid loss =0.058915 valid acc =0.987000\n",
      "11 1000 Train loss =0.041024 Train acc =0.989000 valid loss =0.096788 valid acc =0.981000\n",
      "11 2000 Train loss =0.076676 Train acc =0.975000 valid loss =0.079161 valid acc =0.982000\n",
      "12 0 Train loss =0.184364 Train acc =0.963000 valid loss =0.069875 valid acc =0.978000\n",
      "12 1000 Train loss =0.036897 Train acc =0.989000 valid loss =0.059933 valid acc =0.983000\n",
      "12 2000 Train loss =0.044010 Train acc =0.987000 valid loss =0.054974 valid acc =0.989000\n",
      "13 0 Train loss =0.064475 Train acc =0.977000 valid loss =0.066635 valid acc =0.986000\n",
      "13 1000 Train loss =0.035572 Train acc =0.992000 valid loss =0.066289 valid acc =0.980000\n",
      "13 2000 Train loss =0.072639 Train acc =0.974000 valid loss =0.057184 valid acc =0.982000\n",
      "14 0 Train loss =0.044393 Train acc =0.987000 valid loss =0.073065 valid acc =0.986000\n",
      "14 1000 Train loss =0.093360 Train acc =0.970000 valid loss =0.057757 valid acc =0.986000\n",
      "14 2000 Train loss =0.055140 Train acc =0.988000 valid loss =0.066933 valid acc =0.985000\n",
      "15 0 Train loss =0.059039 Train acc =0.986000 valid loss =0.083421 valid acc =0.976000\n",
      "15 1000 Train loss =0.062785 Train acc =0.979000 valid loss =0.071235 valid acc =0.981000\n",
      "15 2000 Train loss =0.059513 Train acc =0.983000 valid loss =0.062680 valid acc =0.981000\n",
      "16 0 Train loss =0.058404 Train acc =0.980000 valid loss =0.073223 valid acc =0.981000\n",
      "16 1000 Train loss =0.072073 Train acc =0.981000 valid loss =0.080190 valid acc =0.984000\n",
      "16 2000 Train loss =0.033795 Train acc =0.991000 valid loss =0.071546 valid acc =0.986000\n",
      "17 0 Train loss =0.032894 Train acc =0.989000 valid loss =0.062160 valid acc =0.986000\n",
      "17 1000 Train loss =0.038830 Train acc =0.982000 valid loss =0.048745 valid acc =0.986000\n",
      "17 2000 Train loss =0.047564 Train acc =0.985000 valid loss =0.064253 valid acc =0.984000\n",
      "18 0 Train loss =0.036497 Train acc =0.987000 valid loss =0.080225 valid acc =0.981000\n",
      "18 1000 Train loss =0.052522 Train acc =0.984000 valid loss =0.055523 valid acc =0.984000\n",
      "18 2000 Train loss =0.038232 Train acc =0.987000 valid loss =0.064983 valid acc =0.987000\n",
      "19 0 Train loss =0.078193 Train acc =0.976000 valid loss =0.095671 valid acc =0.973000\n",
      "19 1000 Train loss =0.053886 Train acc =0.984000 valid loss =0.059108 valid acc =0.981000\n",
      "19 2000 Train loss =0.039522 Train acc =0.989000 valid loss =0.094723 valid acc =0.976000\n",
      "\n",
      "Optimization finished\n"
     ]
    }
   ],
   "source": [
    "# remove val_accuarcy- that will set it to default \n",
    "with tf.Session() as sess:\n",
    "    sess.run(init)\n",
    "    summary_writer = tf.train.SummaryWriter(logs_path,graph=tf.get_default_graph())\n",
    "    saver.restore(sess,os.getcwd()+model_path+\"_\"+\"run3\"+\"_\"+\"14\"+\"_\"+\"0\")\n",
    "    for ep in tqdm_notebook(range(epochs),desc=\"1st loop\"):\n",
    "        batches = int(len(trX)/batch_size)\n",
    "        x_train,y_train = shuffle(trX,trY,random_state=0)\n",
    "        for i in tqdm_notebook(range(batches),desc=\"2nd loop\", leave = False):\n",
    "            X_train, Y_train = x_train[i*batch_size:(i+1)*batch_size],y_train[i*batch_size:(i+1)*batch_size]\n",
    "            _,c,summary = sess.run([optimizer,cost,merged_summary_op],feed_dict={X : np.float32(X_train), Y : np.float32(Y_train)})\n",
    "            if i % 1000 == 0:\n",
    "                train_loss, train_acc = sess.run([cost,accuracy], feed_dict={X : np.float32(x_train[0:1000,:,:,:]), Y : np.float32(y_train[0:1000])})\n",
    "                valx,valy = shuffle(valX,valY, random_state=0)\n",
    "                valid_loss, valid_acc = sess.run([cost,accuracy], feed_dict={X : np.float32(valx[0:1000]), Y : np.float32(valy[0:1000])})\n",
    "                print (str(ep),str(i),\"Train loss =\"+\"{:.6f}\".format(train_loss),\\\n",
    "                       \"Train acc =\"+\"{:.6f}\".format(train_acc),\\\n",
    "                      \"valid loss =\"+\"{:.6f}\".format(valid_loss),\\\n",
    "                      \"valid acc =\"+\"{:.6f}\".format(valid_acc))\n",
    "                if max(val_acc) < valid_acc:\n",
    "                    val_acc.append(valid_acc)\n",
    "                    saver.save(sess,os.getcwd()+model_path+\"_\"+\"run4\"+\"_\"+str(ep)+\"_\"+str(i))\n",
    "    print (\"Optimization finished\")"
   ]
  },
  {
   "cell_type": "code",
   "execution_count": 36,
   "metadata": {
    "collapsed": false
   },
   "outputs": [
    {
     "data": {
      "text/plain": [
       "[0,\n",
       " 0.105,\n",
       " 0.38100004,\n",
       " 0.67199999,\n",
       " 0.88700002,\n",
       " 0.95100003,\n",
       " 0.95400012,\n",
       " 0.97400004,\n",
       " 0.97600001,\n",
       " 0.97899997,\n",
       " 0.97900009,\n",
       " 0.98299998,\n",
       " 0.98399997,\n",
       " 0.98699999,\n",
       " 0.98899996,\n",
       " 0.99199998]"
      ]
     },
     "execution_count": 36,
     "metadata": {},
     "output_type": "execute_result"
    }
   ],
   "source": [
    "val_acc"
   ]
  },
  {
   "cell_type": "code",
   "execution_count": 37,
   "metadata": {
    "collapsed": true
   },
   "outputs": [],
   "source": [
    "# reducing the learning rate and running more epochs \n",
    "cost = tf.reduce_mean(tf.nn.softmax_cross_entropy_with_logits(pred,Y))\n",
    "optimizer = tf.train.AdamOptimizer(learning_rate=0.000001).minimize(cost)\n",
    "\n",
    "init = tf.initialize_all_variables()"
   ]
  },
  {
   "cell_type": "code",
   "execution_count": 43,
   "metadata": {
    "collapsed": false
   },
   "outputs": [
    {
     "name": "stdout",
     "output_type": "stream",
     "text": [
      "0 0 Train loss =0.046073 Train acc =0.986400 valid loss =0.062409 valid acc =0.983600\n",
      "0 1000 Train loss =0.036124 Train acc =0.988600 valid loss =0.066961 valid acc =0.980400\n",
      "0 2000 Train loss =0.070132 Train acc =0.980200 valid loss =0.065996 valid acc =0.981600\n",
      "1 0 Train loss =0.053473 Train acc =0.983200 valid loss =0.067635 valid acc =0.980200\n",
      "1 1000 Train loss =0.040053 Train acc =0.988400 valid loss =0.061144 valid acc =0.985600\n",
      "1 2000 Train loss =0.041207 Train acc =0.986800 valid loss =0.094217 valid acc =0.975400\n",
      "2 0 Train loss =0.055789 Train acc =0.982600 valid loss =0.044099 valid acc =0.986400\n",
      "2 1000 Train loss =0.056655 Train acc =0.981800 valid loss =0.048756 valid acc =0.985000\n",
      "2 2000 Train loss =0.041522 Train acc =0.987000 valid loss =0.076343 valid acc =0.978200\n",
      "3 0 Train loss =0.063933 Train acc =0.980800 valid loss =0.047181 valid acc =0.987000\n",
      "3 1000 Train loss =0.057242 Train acc =0.980200 valid loss =0.058885 valid acc =0.985200\n",
      "3 2000 Train loss =0.102144 Train acc =0.972800 valid loss =0.055250 valid acc =0.983400\n",
      "4 0 Train loss =0.068626 Train acc =0.980400 valid loss =0.057938 valid acc =0.985200\n",
      "4 1000 Train loss =0.049750 Train acc =0.987000 valid loss =0.059353 valid acc =0.984000\n",
      "4 2000 Train loss =0.041915 Train acc =0.987000 valid loss =0.066273 valid acc =0.982200\n",
      "5 0 Train loss =0.104554 Train acc =0.968800 valid loss =0.061747 valid acc =0.983800\n",
      "5 1000 Train loss =0.052292 Train acc =0.985000 valid loss =0.043888 valid acc =0.985600\n",
      "5 2000 Train loss =0.050923 Train acc =0.983200 valid loss =0.055776 valid acc =0.983800\n",
      "6 0 Train loss =0.048756 Train acc =0.984200 valid loss =0.045322 valid acc =0.986800\n",
      "6 1000 Train loss =0.052235 Train acc =0.982200 valid loss =0.073014 valid acc =0.977200\n",
      "6 2000 Train loss =0.068647 Train acc =0.980000 valid loss =0.044361 valid acc =0.986800\n",
      "7 0 Train loss =0.040015 Train acc =0.987400 valid loss =0.060882 valid acc =0.983800\n",
      "7 1000 Train loss =0.061877 Train acc =0.982400 valid loss =0.119721 valid acc =0.966400\n",
      "7 2000 Train loss =0.038514 Train acc =0.988000 valid loss =0.065204 valid acc =0.981200\n",
      "8 0 Train loss =0.045887 Train acc =0.986200 valid loss =0.046319 valid acc =0.987000\n",
      "8 1000 Train loss =0.073908 Train acc =0.980200 valid loss =0.047839 valid acc =0.987600\n",
      "8 2000 Train loss =0.039583 Train acc =0.989600 valid loss =0.054825 valid acc =0.984400\n",
      "9 0 Train loss =0.071321 Train acc =0.979800 valid loss =0.064826 valid acc =0.982600\n",
      "9 1000 Train loss =0.055001 Train acc =0.982000 valid loss =0.097455 valid acc =0.971800\n",
      "9 2000 Train loss =0.059396 Train acc =0.983600 valid loss =0.045315 valid acc =0.985200\n",
      "10 0 Train loss =0.047353 Train acc =0.985200 valid loss =0.069175 valid acc =0.983000\n",
      "10 1000 Train loss =0.040557 Train acc =0.987200 valid loss =0.064087 valid acc =0.985800\n",
      "10 2000 Train loss =0.051502 Train acc =0.985800 valid loss =0.065283 valid acc =0.983000\n",
      "11 0 Train loss =0.047348 Train acc =0.985200 valid loss =0.063175 valid acc =0.982000\n",
      "11 1000 Train loss =0.054891 Train acc =0.984600 valid loss =0.042735 valid acc =0.987400\n",
      "11 2000 Train loss =0.059442 Train acc =0.984600 valid loss =0.051417 valid acc =0.984400\n",
      "12 0 Train loss =0.049291 Train acc =0.986000 valid loss =0.052692 valid acc =0.984400\n",
      "12 1000 Train loss =0.078860 Train acc =0.976400 valid loss =0.064610 valid acc =0.980200\n",
      "12 2000 Train loss =0.060767 Train acc =0.982200 valid loss =0.048110 valid acc =0.986400\n",
      "13 0 Train loss =0.062207 Train acc =0.981200 valid loss =0.070775 valid acc =0.978200\n",
      "13 1000 Train loss =0.059529 Train acc =0.982000 valid loss =0.053183 valid acc =0.983400\n",
      "13 2000 Train loss =0.058211 Train acc =0.980400 valid loss =0.057847 valid acc =0.984000\n",
      "14 0 Train loss =0.044026 Train acc =0.986400 valid loss =0.057278 valid acc =0.984400\n",
      "14 1000 Train loss =0.058416 Train acc =0.982000 valid loss =0.057441 valid acc =0.983400\n",
      "14 2000 Train loss =0.035939 Train acc =0.989400 valid loss =0.073260 valid acc =0.981200\n",
      "15 0 Train loss =0.034679 Train acc =0.986600 valid loss =0.057138 valid acc =0.981400\n",
      "15 1000 Train loss =0.049542 Train acc =0.983800 valid loss =0.068558 valid acc =0.982000\n",
      "15 2000 Train loss =0.054927 Train acc =0.982000 valid loss =0.065474 valid acc =0.981600\n",
      "16 0 Train loss =0.055129 Train acc =0.983600 valid loss =0.047327 valid acc =0.984600\n",
      "16 1000 Train loss =0.046010 Train acc =0.985200 valid loss =0.051164 valid acc =0.986000\n",
      "16 2000 Train loss =0.048404 Train acc =0.985000 valid loss =0.102723 valid acc =0.974400\n",
      "17 0 Train loss =0.064772 Train acc =0.982000 valid loss =0.069986 valid acc =0.978400\n",
      "17 1000 Train loss =0.051525 Train acc =0.983400 valid loss =0.056845 valid acc =0.984000\n",
      "17 2000 Train loss =0.046248 Train acc =0.986800 valid loss =0.070292 valid acc =0.980600\n",
      "18 0 Train loss =0.051301 Train acc =0.984000 valid loss =0.055282 valid acc =0.984000\n",
      "18 1000 Train loss =0.039263 Train acc =0.988200 valid loss =0.119625 valid acc =0.961200\n",
      "18 2000 Train loss =0.057266 Train acc =0.983400 valid loss =0.062578 valid acc =0.980800\n",
      "19 0 Train loss =0.044844 Train acc =0.986200 valid loss =0.049240 valid acc =0.985400\n",
      "19 1000 Train loss =0.045266 Train acc =0.986200 valid loss =0.064473 valid acc =0.984000\n",
      "19 2000 Train loss =0.088260 Train acc =0.977200 valid loss =0.041970 valid acc =0.987400\n",
      "\n",
      "Optimization finished\n"
     ]
    }
   ],
   "source": [
    "# remove val_accuarcy- that will set it to default \n",
    "with tf.Session() as sess:\n",
    "    sess.run(init)\n",
    "    summary_writer = tf.train.SummaryWriter(logs_path,graph=tf.get_default_graph())\n",
    "    saver.restore(sess,os.getcwd()+model_path+\"_\"+\"run3\"+\"_\"+\"14\"+\"_\"+\"0\")\n",
    "    for ep in tqdm_notebook(range(epochs),desc=\"1st loop\"):\n",
    "        batches = int(len(trX)/batch_size)\n",
    "        x_train,y_train = shuffle(trX,trY,random_state=0)\n",
    "        for i in tqdm_notebook(range(batches),desc=\"2nd loop\", leave = False):\n",
    "            X_train, Y_train = x_train[i*batch_size:(i+1)*batch_size],y_train[i*batch_size:(i+1)*batch_size]\n",
    "            _,c,summary = sess.run([optimizer,cost,merged_summary_op],feed_dict={X : np.float32(X_train), Y : np.float32(Y_train)})\n",
    "            if i % 1000 == 0:\n",
    "                train_loss, train_acc = sess.run([cost,accuracy], feed_dict={X : np.float32(x_train[0:5000,:,:,:]), Y : np.float32(y_train[0:5000])})\n",
    "                valid_loss, valid_acc = sess.run([cost,accuracy], feed_dict={X : np.float32(valX[0:5000,:,:,:]), Y : np.float32(valY[0:5000])})\n",
    "                print (str(ep),str(i),\"Train loss =\"+\"{:.6f}\".format(train_loss),\\\n",
    "                       \"Train acc =\"+\"{:.6f}\".format(train_acc),\\\n",
    "                      \"valid loss =\"+\"{:.6f}\".format(valid_loss),\\\n",
    "                      \"valid acc =\"+\"{:.6f}\".format(valid_acc))\n",
    "                if max(val_acc) < valid_acc:\n",
    "                    val_acc.append(valid_acc)\n",
    "                    saver.save(sess,os.getcwd()+model_path+\"_\"+\"run4\"+\"_\"+str(ep)+\"_\"+str(i))\n",
    "    print (\"Optimization finished\")"
   ]
  },
  {
   "cell_type": "code",
   "execution_count": null,
   "metadata": {
    "collapsed": true
   },
   "outputs": [],
   "source": []
  },
  {
   "cell_type": "code",
   "execution_count": null,
   "metadata": {
    "collapsed": true
   },
   "outputs": [],
   "source": []
  },
  {
   "cell_type": "code",
   "execution_count": null,
   "metadata": {
    "collapsed": true
   },
   "outputs": [],
   "source": []
  },
  {
   "cell_type": "code",
   "execution_count": null,
   "metadata": {
    "collapsed": true
   },
   "outputs": [],
   "source": []
  },
  {
   "cell_type": "code",
   "execution_count": null,
   "metadata": {
    "collapsed": true
   },
   "outputs": [],
   "source": []
  },
  {
   "cell_type": "code",
   "execution_count": null,
   "metadata": {
    "collapsed": true
   },
   "outputs": [],
   "source": []
  },
  {
   "cell_type": "code",
   "execution_count": null,
   "metadata": {
    "collapsed": true
   },
   "outputs": [],
   "source": []
  },
  {
   "cell_type": "code",
   "execution_count": null,
   "metadata": {
    "collapsed": true
   },
   "outputs": [],
   "source": []
  },
  {
   "cell_type": "code",
   "execution_count": null,
   "metadata": {
    "collapsed": true
   },
   "outputs": [],
   "source": []
  },
  {
   "cell_type": "code",
   "execution_count": null,
   "metadata": {
    "collapsed": true
   },
   "outputs": [],
   "source": []
  },
  {
   "cell_type": "code",
   "execution_count": null,
   "metadata": {
    "collapsed": true
   },
   "outputs": [],
   "source": []
  },
  {
   "cell_type": "code",
   "execution_count": null,
   "metadata": {
    "collapsed": true
   },
   "outputs": [],
   "source": []
  },
  {
   "cell_type": "code",
   "execution_count": null,
   "metadata": {
    "collapsed": true
   },
   "outputs": [],
   "source": []
  },
  {
   "cell_type": "code",
   "execution_count": null,
   "metadata": {
    "collapsed": true
   },
   "outputs": [],
   "source": []
  },
  {
   "cell_type": "code",
   "execution_count": null,
   "metadata": {
    "collapsed": true
   },
   "outputs": [],
   "source": []
  },
  {
   "cell_type": "code",
   "execution_count": null,
   "metadata": {
    "collapsed": true
   },
   "outputs": [],
   "source": []
  },
  {
   "cell_type": "code",
   "execution_count": null,
   "metadata": {
    "collapsed": true
   },
   "outputs": [],
   "source": []
  },
  {
   "cell_type": "code",
   "execution_count": null,
   "metadata": {
    "collapsed": true
   },
   "outputs": [],
   "source": []
  },
  {
   "cell_type": "code",
   "execution_count": null,
   "metadata": {
    "collapsed": true
   },
   "outputs": [],
   "source": []
  },
  {
   "cell_type": "code",
   "execution_count": null,
   "metadata": {
    "collapsed": true
   },
   "outputs": [],
   "source": []
  }
 ],
 "metadata": {
  "anaconda-cloud": {},
  "kernelspec": {
   "display_name": "Python [conda root]",
   "language": "python",
   "name": "conda-root-py"
  },
  "language_info": {
   "codemirror_mode": {
    "name": "ipython",
    "version": 3
   },
   "file_extension": ".py",
   "mimetype": "text/x-python",
   "name": "python",
   "nbconvert_exporter": "python",
   "pygments_lexer": "ipython3",
   "version": "3.5.2"
  },
  "widgets": {
   "state": {
    "005593e1b078463bb9941317f65bb520": {
     "views": [
      {
       "cell_index": 17
      }
     ]
    },
    "00ff1cfb31fb4ae4a25e7cf7f3caa8cd": {
     "views": [
      {
       "cell_index": 26
      }
     ]
    },
    "025d7aa56feb4dd49c337fd68ab498d4": {
     "views": [
      {
       "cell_index": 17
      }
     ]
    },
    "026c204296bb4e55a8310dcc16104528": {
     "views": [
      {
       "cell_index": 17
      }
     ]
    },
    "04996d7760ba49f19daaf11e8108e9c8": {
     "views": [
      {
       "cell_index": 20
      }
     ]
    },
    "061bf341e36d48b882707ae495515553": {
     "views": [
      {
       "cell_index": 17
      }
     ]
    },
    "068101d563494ed591c8194c89825af4": {
     "views": [
      {
       "cell_index": 29
      }
     ]
    },
    "06d59c2fe8d84242a03c6c32d40d62cd": {
     "views": [
      {
       "cell_index": 17
      }
     ]
    },
    "0737dad890e446aa93709ab535dc5321": {
     "views": [
      {
       "cell_index": 18
      }
     ]
    },
    "07583c4b2a8c40429b0a3f3270cb0e7e": {
     "views": [
      {
       "cell_index": 20
      }
     ]
    },
    "0849538872e043c6b00ccadc43215f16": {
     "views": [
      {
       "cell_index": 23
      }
     ]
    },
    "0863375246ac48098f8afa2da8e3b73f": {
     "views": [
      {
       "cell_index": 26
      }
     ]
    },
    "09bd2e8c0c834630b54087474074c31c": {
     "views": [
      {
       "cell_index": 23
      }
     ]
    },
    "09d74ac34ef847118927df05313be362": {
     "views": [
      {
       "cell_index": 17
      }
     ]
    },
    "0ae7ab0a3a854062ba247b37729611c5": {
     "views": [
      {
       "cell_index": 17
      }
     ]
    },
    "0b875e41fa774af08bef352a6e72691b": {
     "views": [
      {
       "cell_index": 17
      }
     ]
    },
    "0bd71edd4b8d4066884ffb6592e6d461": {
     "views": [
      {
       "cell_index": 17
      }
     ]
    },
    "0d5e5e98a9af431384a0d478429bab5b": {
     "views": [
      {
       "cell_index": 17
      }
     ]
    },
    "0f14f838e7244146b99e9051c2c7cd5c": {
     "views": [
      {
       "cell_index": 18
      }
     ]
    },
    "1221fa08b3ce4dcab44efcc50d2b05d0": {
     "views": [
      {
       "cell_index": 17
      }
     ]
    },
    "123d0dc773014b728c3112fce116262e": {
     "views": [
      {
       "cell_index": 17
      }
     ]
    },
    "14046ca9fdb64ec9a9d076d16daef7e2": {
     "views": [
      {
       "cell_index": 26
      }
     ]
    },
    "14d7d670a63944f2b896f7c9c7e2c351": {
     "views": [
      {
       "cell_index": 17
      }
     ]
    },
    "15576d2aa21443d188017282834e991f": {
     "views": [
      {
       "cell_index": 20
      }
     ]
    },
    "16268bfc29f049788d61e803c126e1b6": {
     "views": [
      {
       "cell_index": 17
      }
     ]
    },
    "16bae39822c34822a3af14681fe18787": {
     "views": [
      {
       "cell_index": 23
      }
     ]
    },
    "17dbdba7428a44bcb1f1b1137ad0d1d7": {
     "views": [
      {
       "cell_index": 26
      }
     ]
    },
    "17ff87fd4b344579bb756323f1a0441c": {
     "views": [
      {
       "cell_index": 23
      }
     ]
    },
    "1807b8b2610740baa64c8e7f583509cc": {
     "views": [
      {
       "cell_index": 23
      }
     ]
    },
    "19df845a88624ac9aa6d4fdb8b12e80b": {
     "views": [
      {
       "cell_index": 20
      }
     ]
    },
    "1c07cea66804401db3c5006a3768d465": {
     "views": [
      {
       "cell_index": 20
      }
     ]
    },
    "20fa0eaa076540a9bae47121110325d8": {
     "views": [
      {
       "cell_index": 17
      }
     ]
    },
    "219e6453da2e406799465b21db0c3218": {
     "views": [
      {
       "cell_index": 20
      }
     ]
    },
    "22c0ce84cbc6474197d78f59da15ec22": {
     "views": [
      {
       "cell_index": 17
      }
     ]
    },
    "24dfc48a349d42e9bb07b1dbdafd6eb8": {
     "views": [
      {
       "cell_index": 17
      }
     ]
    },
    "254ebb6cb9864b0d8ca4b458d8fd10b2": {
     "views": [
      {
       "cell_index": 17
      }
     ]
    },
    "283547536e294a1d9df964968ec29fd3": {
     "views": [
      {
       "cell_index": 17
      }
     ]
    },
    "29b40e31ed7b453f88622e95947b4d9d": {
     "views": [
      {
       "cell_index": 17
      }
     ]
    },
    "2b6ecc3e3734425aa4ce0c3dec305af1": {
     "views": [
      {
       "cell_index": 17
      }
     ]
    },
    "2bff9ee7ab6f4531abdcfa2962dc99bb": {
     "views": [
      {
       "cell_index": 20
      }
     ]
    },
    "2c067bd9374341bf8e9b1a8693aa60f3": {
     "views": [
      {
       "cell_index": 29
      }
     ]
    },
    "2d428e141cac430383e91ea9a6d8b038": {
     "views": [
      {
       "cell_index": 20
      }
     ]
    },
    "2dd17e4f67ca459da3d8d681eab8eaf0": {
     "views": [
      {
       "cell_index": 18
      }
     ]
    },
    "2e06b3c1527d40f3b89e189575c715fb": {
     "views": [
      {
       "cell_index": 17
      }
     ]
    },
    "2e85c4b303844ce3a5567bb721594560": {
     "views": [
      {
       "cell_index": 29
      }
     ]
    },
    "2eb68a11b868470b9b2a1f700d653d54": {
     "views": [
      {
       "cell_index": 29
      }
     ]
    },
    "2ee42aad0d8442288a96b02621b54008": {
     "views": [
      {
       "cell_index": 17
      }
     ]
    },
    "2fa7f926ecc64ba8b3e3bdb61cf757ee": {
     "views": [
      {
       "cell_index": 26
      }
     ]
    },
    "332df9d9aee040a59bfdffb06001dbe7": {
     "views": [
      {
       "cell_index": 23
      }
     ]
    },
    "34d7032548f74901849be50ac67e856d": {
     "views": [
      {
       "cell_index": 17
      }
     ]
    },
    "3533c1d0f85740dbad65be5597cc65a8": {
     "views": [
      {
       "cell_index": 23
      }
     ]
    },
    "36839a62ade246a7aca9a4a80ac04bf3": {
     "views": [
      {
       "cell_index": 17
      }
     ]
    },
    "37a1f3d421bb4d6f990e20231894889a": {
     "views": [
      {
       "cell_index": 17
      }
     ]
    },
    "3aabae5e6da54e60a670bdd71a4d8cc8": {
     "views": [
      {
       "cell_index": 17
      }
     ]
    },
    "3af781f5762341d38d0444e6b98dafdd": {
     "views": [
      {
       "cell_index": 23
      }
     ]
    },
    "3c34d43a175442cda94243523806f1cc": {
     "views": [
      {
       "cell_index": 17
      }
     ]
    },
    "3cc76c4fa31a45938ff749bab6641647": {
     "views": [
      {
       "cell_index": 26
      }
     ]
    },
    "3eea1cea7090484dac575953dd0d4fa2": {
     "views": [
      {
       "cell_index": 17
      }
     ]
    },
    "3f0ddd37fad24bbe9055c6bbc4554711": {
     "views": [
      {
       "cell_index": 17
      }
     ]
    },
    "3ffe1749c8014f4faae34e97f6302f88": {
     "views": [
      {
       "cell_index": 29
      }
     ]
    },
    "427eb650af0c4f2f8ebc0ff7b87fef68": {
     "views": [
      {
       "cell_index": 17
      }
     ]
    },
    "42dfd08b59fe40679e700e2e38082521": {
     "views": [
      {
       "cell_index": 20
      }
     ]
    },
    "430c979f489a4bd7b57c23b8e6825b07": {
     "views": [
      {
       "cell_index": 17
      }
     ]
    },
    "447db001b82645078125cf0c83e6d325": {
     "views": [
      {
       "cell_index": 23
      }
     ]
    },
    "44ae2c1cdac543cebb942ba22a73953e": {
     "views": [
      {
       "cell_index": 17
      }
     ]
    },
    "4c039c964db84971bf4e1d07cca19805": {
     "views": [
      {
       "cell_index": 26
      }
     ]
    },
    "4c2eb5ace4e541ae95fcd94422e8e4f0": {
     "views": [
      {
       "cell_index": 17
      }
     ]
    },
    "4e6e46796a744f16b4ec65b6f849bb18": {
     "views": [
      {
       "cell_index": 23
      }
     ]
    },
    "5076af79dd6044ae901fab1349f84e99": {
     "views": [
      {
       "cell_index": 17
      }
     ]
    },
    "512ffa5bad184451a7886ade3739ce40": {
     "views": [
      {
       "cell_index": 18
      }
     ]
    },
    "51ddc6791bc044b19c4e3eab8ee4febf": {
     "views": [
      {
       "cell_index": 17
      }
     ]
    },
    "53dbf1ed8d1e4b90a85c2c265625950a": {
     "views": [
      {
       "cell_index": 29
      }
     ]
    },
    "54187545139e458190b7be69170447a2": {
     "views": [
      {
       "cell_index": 26
      }
     ]
    },
    "556d1f385aed4faab32a60b7b57067d0": {
     "views": [
      {
       "cell_index": 26
      }
     ]
    },
    "55874263f4614bfba023e5e07b03513e": {
     "views": [
      {
       "cell_index": 29
      }
     ]
    },
    "5603dfee2fd844f383eecda1ccc779f4": {
     "views": [
      {
       "cell_index": 17
      }
     ]
    },
    "578d449412404187b9ba290d8d29e268": {
     "views": [
      {
       "cell_index": 17
      }
     ]
    },
    "57b3ab754a7b45c4a4c762b60251191d": {
     "views": [
      {
       "cell_index": 17
      }
     ]
    },
    "5c223c05fbb242c5b0d1c298acaa4616": {
     "views": [
      {
       "cell_index": 17
      }
     ]
    },
    "5e98465c7a7244a3b9b68d3dd8496b18": {
     "views": [
      {
       "cell_index": 23
      }
     ]
    },
    "5f679b33a1d84888ad28c37b838df08c": {
     "views": [
      {
       "cell_index": 17
      }
     ]
    },
    "60ced54cb25746dea95575ed9c3e64ee": {
     "views": [
      {
       "cell_index": 17
      }
     ]
    },
    "6112d94865b64cd6878b76fcd1ddb6d3": {
     "views": [
      {
       "cell_index": 20
      }
     ]
    },
    "613abf299af1444e860bdeda2101618d": {
     "views": [
      {
       "cell_index": 17
      }
     ]
    },
    "642657f94d7a4668b2871056198bd7bd": {
     "views": [
      {
       "cell_index": 23
      }
     ]
    },
    "64fbab61b2b44c9c8f70191e6d4f9203": {
     "views": [
      {
       "cell_index": 29
      }
     ]
    },
    "65ac558926b1409ea60f606926916846": {
     "views": [
      {
       "cell_index": 17
      }
     ]
    },
    "684ffb2e1c6d4385b2e89fbd85a16440": {
     "views": [
      {
       "cell_index": 17
      }
     ]
    },
    "68e5ed16a61949ec809d05d9bc9aed29": {
     "views": [
      {
       "cell_index": 17
      }
     ]
    },
    "6af8bbb4e656477eb40ccfaf3c3aa918": {
     "views": [
      {
       "cell_index": 29
      }
     ]
    },
    "6b7a606f153a4defb9cf2a9aeb5e87d5": {
     "views": [
      {
       "cell_index": 26
      }
     ]
    },
    "6b8a08a55dd84591aa2d8948b8e9ec9a": {
     "views": [
      {
       "cell_index": 29
      }
     ]
    },
    "6c668e52cef54a8db4f9482bbfe73a04": {
     "views": [
      {
       "cell_index": 20
      }
     ]
    },
    "6d19b4580a5a41eea1f044e611ae28ab": {
     "views": [
      {
       "cell_index": 23
      }
     ]
    },
    "6f795bc99b7043268fa0a3c27b973e40": {
     "views": [
      {
       "cell_index": 17
      }
     ]
    },
    "71b0683536b04c82b2cca093d3183790": {
     "views": [
      {
       "cell_index": 17
      }
     ]
    },
    "72a8ea91fec646b3ae6b10b42aa984a3": {
     "views": [
      {
       "cell_index": 20
      }
     ]
    },
    "74bd9e3f10c04a3d8b89a4aae0760645": {
     "views": [
      {
       "cell_index": 17
      }
     ]
    },
    "79aba5ec9a644ce3b3de174d69038cb4": {
     "views": [
      {
       "cell_index": 18
      }
     ]
    },
    "7aa8266ae1b94c108996f227a7bf8a9b": {
     "views": [
      {
       "cell_index": 17
      }
     ]
    },
    "7b32e40cd95046d9885243c8e4d29391": {
     "views": [
      {
       "cell_index": 26
      }
     ]
    },
    "7fdb8c3a3e4f42e3bff5b4fd04ae6727": {
     "views": [
      {
       "cell_index": 18
      }
     ]
    },
    "81829d901af04b7c93950ac6098dc68e": {
     "views": [
      {
       "cell_index": 17
      }
     ]
    },
    "81d87df0b78a4f3e989a2598b36f4b08": {
     "views": [
      {
       "cell_index": 23
      }
     ]
    },
    "8243eecbff884c62b5b8b737577a97db": {
     "views": [
      {
       "cell_index": 23
      }
     ]
    },
    "82b59b9afdb8400eabffd0e36cfcb505": {
     "views": [
      {
       "cell_index": 20
      }
     ]
    },
    "83b758432ed74946997c52ccb22c77e4": {
     "views": [
      {
       "cell_index": 17
      }
     ]
    },
    "844e0ee2a90b4b46a61572ef1aef683e": {
     "views": [
      {
       "cell_index": 17
      }
     ]
    },
    "891f94e20df0441c9acafbfd41019105": {
     "views": [
      {
       "cell_index": 17
      }
     ]
    },
    "8b62de23c3554a848bde9c0662457f59": {
     "views": [
      {
       "cell_index": 23
      }
     ]
    },
    "8ba66d91ffc340c6b2ba8972bbc3ab52": {
     "views": [
      {
       "cell_index": 20
      }
     ]
    },
    "8bde3d23288242aaa383c88c59013f7a": {
     "views": [
      {
       "cell_index": 26
      }
     ]
    },
    "8c7815f2e5fe45c6ab43c0a4cca500ab": {
     "views": [
      {
       "cell_index": 18
      }
     ]
    },
    "8d54cee05fb044f38ccd1b38e14ce42b": {
     "views": [
      {
       "cell_index": 26
      }
     ]
    },
    "90e34ded7c5c4762a2444d31ca6b37ec": {
     "views": [
      {
       "cell_index": 17
      }
     ]
    },
    "90fee4c0824b4b1eb3d63c47dace43da": {
     "views": [
      {
       "cell_index": 17
      }
     ]
    },
    "9141ad9ad39341c9a43f1fc4d5ccad60": {
     "views": [
      {
       "cell_index": 20
      }
     ]
    },
    "94cf03f86fcb4cf4b543285218a0661f": {
     "views": [
      {
       "cell_index": 29
      }
     ]
    },
    "9651eb2acfd042fe863f95de88786e95": {
     "views": [
      {
       "cell_index": 29
      }
     ]
    },
    "968e1392467d4d94b7ad1396866c3360": {
     "views": [
      {
       "cell_index": 20
      }
     ]
    },
    "97672b2a0d6d43328bf183a5c2659f72": {
     "views": [
      {
       "cell_index": 23
      }
     ]
    },
    "99c20359cb5249d3bf30ee67980def62": {
     "views": [
      {
       "cell_index": 18
      }
     ]
    },
    "9b5dd3ced6b24f1aaf812365f79c5822": {
     "views": [
      {
       "cell_index": 26
      }
     ]
    },
    "9c3d83b7d56b4689aa2430b91bcf2f0d": {
     "views": [
      {
       "cell_index": 17
      }
     ]
    },
    "9c7941985036498d8d884886c16e3a49": {
     "views": [
      {
       "cell_index": 17
      }
     ]
    },
    "9cfd7ce4c9f7431d9fc20bb98b83090f": {
     "views": [
      {
       "cell_index": 26
      }
     ]
    },
    "a10cb19132b740b789ae4dbc1a9e8c6d": {
     "views": [
      {
       "cell_index": 17
      }
     ]
    },
    "a24ad34b69cb4cfaabbce12cf8e91865": {
     "views": [
      {
       "cell_index": 17
      }
     ]
    },
    "a3dd7b4d657d461db5bf3475b2e3f765": {
     "views": [
      {
       "cell_index": 17
      }
     ]
    },
    "a5229d234dec452d977052772555df48": {
     "views": [
      {
       "cell_index": 17
      }
     ]
    },
    "a524a3b66e8d4e93bac67ebf6b73e4f5": {
     "views": [
      {
       "cell_index": 26
      }
     ]
    },
    "a71d9567d7534d019a81ec736ddc8903": {
     "views": [
      {
       "cell_index": 18
      }
     ]
    },
    "a90db8bc899a450498c47e87b1bb4656": {
     "views": [
      {
       "cell_index": 23
      }
     ]
    },
    "a9abab9eaecc4735977b6a5b12cce119": {
     "views": [
      {
       "cell_index": 17
      }
     ]
    },
    "ac2b9b0213744c32b0cd0e4dff4f4b8f": {
     "views": [
      {
       "cell_index": 17
      }
     ]
    },
    "acd107c276db4da1a98e41e835fe4718": {
     "views": [
      {
       "cell_index": 23
      }
     ]
    },
    "ad9cb068a29b41c192b68835731418c9": {
     "views": [
      {
       "cell_index": 20
      }
     ]
    },
    "ae3edf76c87446048cf770b72d8db69f": {
     "views": [
      {
       "cell_index": 26
      }
     ]
    },
    "b0b9255db9c2454ca11ec89741ef2a4a": {
     "views": [
      {
       "cell_index": 18
      }
     ]
    },
    "b13dd5b2fcf0491fae017fca6885d25e": {
     "views": [
      {
       "cell_index": 17
      }
     ]
    },
    "b1d62dfe845c4968b096d9ecbfb85f82": {
     "views": [
      {
       "cell_index": 17
      }
     ]
    },
    "b35b125c5d2842e68bc0fb2cd04b6efb": {
     "views": [
      {
       "cell_index": 20
      }
     ]
    },
    "b3e4045e365c4482ab3a4c8295f7d931": {
     "views": [
      {
       "cell_index": 26
      }
     ]
    },
    "b51636c614034d0495193735f793cbfe": {
     "views": [
      {
       "cell_index": 17
      }
     ]
    },
    "b581241853094b9f81c352f60947b114": {
     "views": [
      {
       "cell_index": 17
      }
     ]
    },
    "bab2dabb8cc94e4ca28689ef7ab1f9ec": {
     "views": [
      {
       "cell_index": 17
      }
     ]
    },
    "bca91fcb74cb467aa9f5f0d08b7c06de": {
     "views": [
      {
       "cell_index": 17
      }
     ]
    },
    "be2eac790368430cb3917dab5c888ab9": {
     "views": [
      {
       "cell_index": 29
      }
     ]
    },
    "bed317258d5142db885f517af27550f7": {
     "views": [
      {
       "cell_index": 29
      }
     ]
    },
    "c117a7c247be49ec958c95c968482571": {
     "views": [
      {
       "cell_index": 23
      }
     ]
    },
    "c12dcfa248fd48deaeeb7e4f02e6fa97": {
     "views": [
      {
       "cell_index": 17
      }
     ]
    },
    "c532578564144cdca8316833c75822ff": {
     "views": [
      {
       "cell_index": 20
      }
     ]
    },
    "c99ce0d6ff394c91986fa80b8faa71b2": {
     "views": [
      {
       "cell_index": 17
      }
     ]
    },
    "cbfe6ffd615741c28ddff6abeb30090b": {
     "views": [
      {
       "cell_index": 17
      }
     ]
    },
    "ccad111296f04465bba217ad7d98b3a8": {
     "views": [
      {
       "cell_index": 29
      }
     ]
    },
    "ce5f21781c684f738293381bcd00d367": {
     "views": [
      {
       "cell_index": 29
      }
     ]
    },
    "cf47705c5d874564a90864c2bd31d7ca": {
     "views": [
      {
       "cell_index": 17
      }
     ]
    },
    "cf87905fdbba45b8a2febe750e5d39fe": {
     "views": [
      {
       "cell_index": 29
      }
     ]
    },
    "cf9ab2f57e01423f93266ecd5eab11dd": {
     "views": [
      {
       "cell_index": 29
      }
     ]
    },
    "d0ea08dc8d7548e59e78b0f7c698a091": {
     "views": [
      {
       "cell_index": 17
      }
     ]
    },
    "d46b0080c8854a0dbbf724d7956ff320": {
     "views": [
      {
       "cell_index": 29
      }
     ]
    },
    "d6804dbaba444d839c2f75cc48fc1591": {
     "views": [
      {
       "cell_index": 29
      }
     ]
    },
    "d80878b1827e4e279c3ec26d87fde406": {
     "views": [
      {
       "cell_index": 17
      }
     ]
    },
    "d8e389a9eac34d20941af811664f9c36": {
     "views": [
      {
       "cell_index": 20
      }
     ]
    },
    "da6905f2eb6a42e1a1be093c58f52970": {
     "views": [
      {
       "cell_index": 29
      }
     ]
    },
    "da74019b19e04ba3bae9969e85985a35": {
     "views": [
      {
       "cell_index": 17
      }
     ]
    },
    "dc6586034baa4c03afdba167b977fc86": {
     "views": [
      {
       "cell_index": 17
      }
     ]
    },
    "dc6c7a47edd14740bb4f31cd3a86b855": {
     "views": [
      {
       "cell_index": 17
      }
     ]
    },
    "dc8fe519c3fb4ed78cd0fa585f7f1b38": {
     "views": [
      {
       "cell_index": 23
      }
     ]
    },
    "dce170a128be40ba9431de7cb12df7ee": {
     "views": [
      {
       "cell_index": 26
      }
     ]
    },
    "ded9acbe58ab40cd8ec86b50a0ebf4aa": {
     "views": [
      {
       "cell_index": 17
      }
     ]
    },
    "dff555ee31674c8f92ec10928193cdbc": {
     "views": [
      {
       "cell_index": 23
      }
     ]
    },
    "e1457664f8ff4db995fd4462e55bcf39": {
     "views": [
      {
       "cell_index": 17
      }
     ]
    },
    "e150f505c5af43a3bdc19f046d860497": {
     "views": [
      {
       "cell_index": 17
      }
     ]
    },
    "e1657d5e9aa14348ad9161a34fcc5ded": {
     "views": [
      {
       "cell_index": 17
      }
     ]
    },
    "e32d135e7dab4eeb8bfe19921ed23e68": {
     "views": [
      {
       "cell_index": 17
      }
     ]
    },
    "e436512fef3d43d687ed9766885eb012": {
     "views": [
      {
       "cell_index": 20
      }
     ]
    },
    "e477530d0bc74bb0bd77da7fe1162782": {
     "views": [
      {
       "cell_index": 23
      }
     ]
    },
    "e622e2dd1878483c9760375fcf50feac": {
     "views": [
      {
       "cell_index": 17
      }
     ]
    },
    "e63cd629de114dd9ad952fe2c15557f0": {
     "views": [
      {
       "cell_index": 17
      }
     ]
    },
    "e7d190cf1b924ab195dc63d8080fc1c4": {
     "views": [
      {
       "cell_index": 17
      }
     ]
    },
    "e8aa4b4b2de84ced9084d124b6df9b14": {
     "views": [
      {
       "cell_index": 29
      }
     ]
    },
    "ea2b56e489674ea599f0c74dbe39876d": {
     "views": [
      {
       "cell_index": 17
      }
     ]
    },
    "eb356fd268f2430bbaf0e530419c47ec": {
     "views": [
      {
       "cell_index": 23
      }
     ]
    },
    "edf22daf690b4ba39f7987c2da449d03": {
     "views": [
      {
       "cell_index": 17
      }
     ]
    },
    "eea350b02f8d47f89bcd8b1717a4eb84": {
     "views": [
      {
       "cell_index": 17
      }
     ]
    },
    "eeb79babcbae408e9084f30193310545": {
     "views": [
      {
       "cell_index": 17
      }
     ]
    },
    "eefbbb23760d40b2847bcd8fefa60a4d": {
     "views": [
      {
       "cell_index": 17
      }
     ]
    },
    "efaf48af3eff4de39451adee844f051d": {
     "views": [
      {
       "cell_index": 23
      }
     ]
    },
    "f28c91ff262449ed80164e80d6d74421": {
     "views": [
      {
       "cell_index": 26
      }
     ]
    },
    "f366bb7e3da547f5bb1d1e722e1a5bc0": {
     "views": [
      {
       "cell_index": 17
      }
     ]
    },
    "f54796241f0c45738b4ff5bb901cf105": {
     "views": [
      {
       "cell_index": 26
      }
     ]
    },
    "f7127c83699142fc821d2555bf9e1277": {
     "views": [
      {
       "cell_index": 29
      }
     ]
    },
    "f8d70fcbd2bc4623ae09cb0dc2218902": {
     "views": [
      {
       "cell_index": 17
      }
     ]
    },
    "f9bc648766274f7cb8e28ff6e29332ed": {
     "views": [
      {
       "cell_index": 17
      }
     ]
    },
    "fa64441c40a34f4598fc9ac47d3068bd": {
     "views": [
      {
       "cell_index": 17
      }
     ]
    },
    "fde70bbe74ec401c84e514265d72a04f": {
     "views": [
      {
       "cell_index": 17
      }
     ]
    },
    "fe123e7d84884ddf9928a2acbefcc887": {
     "views": [
      {
       "cell_index": 29
      }
     ]
    }
   },
   "version": "1.2.0"
  }
 },
 "nbformat": 4,
 "nbformat_minor": 1
}
