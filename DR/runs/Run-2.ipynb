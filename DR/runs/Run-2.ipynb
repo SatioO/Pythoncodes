{
 "cells": [
  {
   "cell_type": "code",
   "execution_count": 1,
   "metadata": {
    "collapsed": false
   },
   "outputs": [
    {
     "name": "stderr",
     "output_type": "stream",
     "text": [
      "Using TensorFlow backend.\n"
     ]
    }
   ],
   "source": [
    "from helper import *\n",
    "from model import *\n",
    "import pandas as pd\n",
    "import numpy as np \n",
    "import cv2\n",
    "import glob\n",
    "from sklearn.cross_validation import train_test_split"
   ]
  },
  {
   "cell_type": "code",
   "execution_count": 2,
   "metadata": {
    "collapsed": false
   },
   "outputs": [],
   "source": [
    "labels = pd.read_table(\"/data/dr/trainLabels.csv\",sep=\",\",index_col=[\"image\"])\n",
    "labels = labels.drop(\"492_right\")"
   ]
  },
  {
   "cell_type": "code",
   "execution_count": 3,
   "metadata": {
    "collapsed": false
   },
   "outputs": [],
   "source": [
    "filelist = glob.glob(\"/data/dr/data/sample_270_270/*.jpeg\")\n",
    "\n",
    "x_train,x_valid,y_train, y_valid = train_test_split(filelist,labels,\n",
    "  test_size = 0.10, random_state = 20)\n",
    "\n",
    "\n",
    "\n",
    "## train_test split \n",
    "x_train,x_test,y_train, y_test = train_test_split(x_train,y_train,\n",
    "  test_size = 0.10, random_state = 20)"
   ]
  },
  {
   "cell_type": "code",
   "execution_count": 4,
   "metadata": {
    "collapsed": true
   },
   "outputs": [],
   "source": [
    "x_valid = np.array([cv2.imread(\"/data/dr/data/sample_270_270/\"+i+\".jpeg\") for i in y_valid.index])\n",
    "y_valid = np.array(pd.get_dummies(y_valid[\"level\"]))"
   ]
  },
  {
   "cell_type": "code",
   "execution_count": null,
   "metadata": {
    "collapsed": true
   },
   "outputs": [],
   "source": [
    "model_train = model((270,270,3))"
   ]
  },
  {
   "cell_type": "code",
   "execution_count": null,
   "metadata": {
    "collapsed": false
   },
   "outputs": [
    {
     "name": "stdout",
     "output_type": "stream",
     "text": [
      "Epoch 1/20\n"
     ]
    },
    {
     "name": "stderr",
     "output_type": "stream",
     "text": [
      "/home/prakash/anaconda3/lib/python3.5/site-packages/pandas/computation/align.py:98: RuntimeWarning: divide by zero encountered in log10\n",
      "  ordm = np.log10(abs(reindexer_size - term_axis_size))\n",
      "/home/prakash/anaconda3/lib/python3.5/site-packages/numpy/core/numeric.py:301: FutureWarning: in the future, full(28, 4) will return an array of dtype('int64')\n",
      "  format(shape, fill_value, array(fill_value).dtype), FutureWarning)\n",
      "/home/prakash/anaconda3/lib/python3.5/site-packages/numpy/core/numeric.py:301: FutureWarning: in the future, full(28, 3) will return an array of dtype('int64')\n",
      "  format(shape, fill_value, array(fill_value).dtype), FutureWarning)\n",
      "/home/prakash/anaconda3/lib/python3.5/site-packages/numpy/core/numeric.py:301: FutureWarning: in the future, full(56, 2) will return an array of dtype('int64')\n",
      "  format(shape, fill_value, array(fill_value).dtype), FutureWarning)\n",
      "/home/prakash/anaconda3/lib/python3.5/site-packages/numpy/core/numeric.py:301: FutureWarning: in the future, full(57, 1) will return an array of dtype('int64')\n",
      "  format(shape, fill_value, array(fill_value).dtype), FutureWarning)\n",
      "/home/prakash/anaconda3/lib/python3.5/site-packages/numpy/core/numeric.py:301: FutureWarning: in the future, full(49, 2) will return an array of dtype('int64')\n",
      "  format(shape, fill_value, array(fill_value).dtype), FutureWarning)\n",
      "/home/prakash/anaconda3/lib/python3.5/site-packages/numpy/core/numeric.py:301: FutureWarning: in the future, full(76, 1) will return an array of dtype('int64')\n",
      "  format(shape, fill_value, array(fill_value).dtype), FutureWarning)\n",
      "/home/prakash/anaconda3/lib/python3.5/site-packages/numpy/core/numeric.py:301: FutureWarning: in the future, full(56, 3) will return an array of dtype('int64')\n",
      "  format(shape, fill_value, array(fill_value).dtype), FutureWarning)\n"
     ]
    },
    {
     "name": "stdout",
     "output_type": "stream",
     "text": [
      "28358/28450 [============================>.] - ETA: 7s - loss: 1.5594 - acc: 0.2978 "
     ]
    },
    {
     "name": "stderr",
     "output_type": "stream",
     "text": [
      "/home/prakash/anaconda3/lib/python3.5/site-packages/keras/engine/training.py:1480: UserWarning: Epoch comprised more than `samples_per_epoch` samples, which might affect learning results. Set `samples_per_epoch` correctly to avoid this warning.\n",
      "  warnings.warn('Epoch comprised more than '\n"
     ]
    },
    {
     "name": "stdout",
     "output_type": "stream",
     "text": [
      "28567/28450 [==============================] - 2347s - loss: 1.5594 - acc: 0.2977 - val_loss: 1.7318 - val_acc: 0.0714\n",
      "Epoch 2/20\n",
      "28604/28450 [==============================] - 2326s - loss: 1.5561 - acc: 0.2986 - val_loss: 1.7410 - val_acc: 0.0714\n",
      "Epoch 3/20\n",
      "28552/28450 [==============================] - 2293s - loss: 1.5571 - acc: 0.2970 - val_loss: 1.7303 - val_acc: 0.0714\n",
      "Epoch 4/20\n",
      "28466/28450 [==============================] - 2329s - loss: 1.5577 - acc: 0.2951 - val_loss: 1.7317 - val_acc: 0.0714\n",
      "Epoch 5/20\n",
      "28656/28450 [==============================] - 2306s - loss: 1.5582 - acc: 0.2966 - val_loss: 1.7309 - val_acc: 0.0714\n",
      "Epoch 6/20\n",
      "28649/28450 [==============================] - 2327s - loss: 1.5574 - acc: 0.2974 - val_loss: 1.7359 - val_acc: 0.0714\n",
      "Epoch 7/20\n",
      "28635/28450 [==============================] - 2542s - loss: 1.5576 - acc: 0.2975 - val_loss: 1.7116 - val_acc: 0.0714\n",
      "Epoch 8/20\n",
      "28652/28450 [==============================] - 2292s - loss: 1.5558 - acc: 0.2981 - val_loss: 1.7265 - val_acc: 0.0714\n",
      "Epoch 9/20\n",
      "28516/28450 [==============================] - 2288s - loss: 1.5604 - acc: 0.2925 - val_loss: 1.7235 - val_acc: 0.0714\n",
      "Epoch 10/20\n",
      "28487/28450 [==============================] - 2284s - loss: 1.5571 - acc: 0.2984 - val_loss: 1.7403 - val_acc: 0.0714\n",
      "Epoch 11/20\n",
      "28465/28450 [==============================] - 2279s - loss: 1.5562 - acc: 0.2986 - val_loss: 1.7194 - val_acc: 0.0714\n",
      "Epoch 12/20\n",
      "28617/28450 [==============================] - 2289s - loss: 1.5570 - acc: 0.2970 - val_loss: 1.7190 - val_acc: 0.0714\n",
      "Epoch 13/20\n",
      "28458/28450 [==============================] - 2360s - loss: 1.5582 - acc: 0.2952 - val_loss: 1.7400 - val_acc: 0.0714\n",
      "Epoch 14/20\n",
      "27519/28450 [============================>.] - ETA: 76s - loss: 1.5587 - acc: 0.2943"
     ]
    }
   ],
   "source": [
    "model_train.fit_generator(data_generator(y_train), samples_per_epoch=len(x_train),\n",
    "                          nb_epoch=20, verbose=1, callbacks=[], validation_data=(x_valid,y_valid), \n",
    "                          class_weight=None, max_q_size=10, nb_worker=1, pickle_safe=False)"
   ]
  },
  {
   "cell_type": "code",
   "execution_count": null,
   "metadata": {
    "collapsed": true
   },
   "outputs": [],
   "source": []
  }
 ],
 "metadata": {
  "anaconda-cloud": {},
  "kernelspec": {
   "display_name": "Python [conda root]",
   "language": "python",
   "name": "conda-root-py"
  },
  "language_info": {
   "codemirror_mode": {
    "name": "ipython",
    "version": 3
   },
   "file_extension": ".py",
   "mimetype": "text/x-python",
   "name": "python",
   "nbconvert_exporter": "python",
   "pygments_lexer": "ipython3",
   "version": "3.5.2"
  }
 },
 "nbformat": 4,
 "nbformat_minor": 1
}
