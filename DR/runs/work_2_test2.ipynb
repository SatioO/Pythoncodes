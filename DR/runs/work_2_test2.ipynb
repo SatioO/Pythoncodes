{
 "cells": [
  {
   "cell_type": "markdown",
   "metadata": {},
   "source": [
    "- normalizing the images\n",
    "- increasing the epochs "
   ]
  },
  {
   "cell_type": "code",
   "execution_count": 1,
   "metadata": {
    "collapsed": true
   },
   "outputs": [],
   "source": [
    "from work_2.helper import *\n",
    "import tensorflow as tf \n",
    "import numpy as np \n",
    "from work_2.model import *\n",
    "import pandas as pd"
   ]
  },
  {
   "cell_type": "code",
   "execution_count": 2,
   "metadata": {
    "collapsed": true
   },
   "outputs": [],
   "source": [
    "imglist = img_location_reader(\"data\")\n",
    "train,test = train_test_split(imglist,test_size=0.3,random_state=0)\n",
    "train,valid = train_test_split(train,test_size=0.3,random_state=0)"
   ]
  },
  {
   "cell_type": "code",
   "execution_count": 3,
   "metadata": {
    "collapsed": false
   },
   "outputs": [
    {
     "data": {
      "text/plain": [
       "2069"
      ]
     },
     "execution_count": 3,
     "metadata": {},
     "output_type": "execute_result"
    }
   ],
   "source": [
    "sum([len(train[i]) for i in range(len(train))]) # total images in train"
   ]
  },
  {
   "cell_type": "code",
   "execution_count": 4,
   "metadata": {
    "collapsed": true
   },
   "outputs": [],
   "source": [
    "X = tf.placeholder(tf.float32,[None,256,256,3],name = \"Input_data\")\n",
    "Y = tf.placeholder(tf.float32,[None,8], name = \"InputLabels\")"
   ]
  },
  {
   "cell_type": "code",
   "execution_count": 5,
   "metadata": {
    "collapsed": true
   },
   "outputs": [],
   "source": [
    "# defining weights and bias \n",
    "weights = {\n",
    "\"w1\": init_weights([3,3,3,16]),\n",
    "\"w2\": init_weights([2,2,16,16]),\n",
    "\"w3\": init_weights([2,2,16,32]),\n",
    "\"w4\": init_weights([2,2,32,32]),\n",
    "\"w5\": init_weights([2,2,32,64]),\n",
    "\"w6\": init_weights([2,2,64,64]),\n",
    "\"w7\": init_weights([256,256]),\n",
    "\"w8\": init_weights([256,64]),\n",
    "\"w9\": init_weights([64,8])\n",
    "}\n",
    "\n",
    "bias = {\n",
    "\"b1\":init_bias([16]),\n",
    "\"b2\":init_bias([16]),\n",
    "\"b3\":init_bias([32]),\n",
    "\"b4\":init_bias([32]),\n",
    "\"b5\":init_bias([64]),\n",
    "\"b6\":init_bias([64]),\n",
    "\"b7\":init_bias([256]),\n",
    "\"b8\":init_bias([64]),\n",
    "\"b9\":init_bias([8])\n",
    "}"
   ]
  },
  {
   "cell_type": "code",
   "execution_count": 6,
   "metadata": {
    "collapsed": true
   },
   "outputs": [],
   "source": [
    "pred = model(X,weights[\"w1\"],weights[\"w2\"],weights[\"w3\"],weights[\"w4\"],weights[\"w5\"],weights[\"w6\"],\n",
    "weights[\"w7\"],weights[\"w8\"],weights[\"w9\"],bias[\"b1\"],bias[\"b2\"],bias[\"b3\"],bias[\"b4\"],bias[\"b5\"],bias[\"b6\"],bias[\"b7\"],\n",
    "bias[\"b8\"],bias[\"b9\"])"
   ]
  },
  {
   "cell_type": "code",
   "execution_count": 7,
   "metadata": {
    "collapsed": true
   },
   "outputs": [],
   "source": [
    "cost = tf.reduce_mean(tf.nn.softmax_cross_entropy_with_logits(pred,Y))\n",
    "optimizer = tf.train.AdamOptimizer(learning_rate=0.001).minimize(cost)"
   ]
  },
  {
   "cell_type": "code",
   "execution_count": 8,
   "metadata": {
    "collapsed": true
   },
   "outputs": [],
   "source": [
    "correct_pred= tf.equal(tf.argmax(pred,1),tf.argmax(Y,1))\n",
    "accuracy = tf.reduce_mean(tf.cast(correct_pred,tf.float32))"
   ]
  },
  {
   "cell_type": "code",
   "execution_count": 9,
   "metadata": {
    "collapsed": true
   },
   "outputs": [],
   "source": [
    "#Initialize all the variables\n",
    "init = tf.initialize_all_variables()\n",
    "\n",
    "saver = tf.train.Saver()\n",
    "\n",
    "# Create summary to monitor cost tensor , accuracy tensor\n",
    "tf.scalar_summary(\"loss\",cost)\n",
    "tf.scalar_summary(\"accuracy\",accuracy)\n",
    "\n",
    "merged_summary_op = tf.merge_all_summaries()"
   ]
  },
  {
   "cell_type": "code",
   "execution_count": 10,
   "metadata": {
    "collapsed": false
   },
   "outputs": [],
   "source": [
    "# splitting is done .\n",
    "img_list = img_location_list(train,over_sample = True)"
   ]
  },
  {
   "cell_type": "code",
   "execution_count": 11,
   "metadata": {
    "collapsed": false,
    "scrolled": true
   },
   "outputs": [],
   "source": [
    "img_dummy_label = pd.get_dummies(list(image_label(img_list).keys()))"
   ]
  },
  {
   "cell_type": "code",
   "execution_count": 12,
   "metadata": {
    "collapsed": false,
    "scrolled": true
   },
   "outputs": [
    {
     "data": {
      "text/plain": [
       "Index(['ALB', 'BET', 'DOL', 'LAG', 'NoF', 'OTHER', 'SHARK', 'YFT'], dtype='object')"
      ]
     },
     "execution_count": 12,
     "metadata": {},
     "output_type": "execute_result"
    }
   ],
   "source": [
    "img_dummy_label.columns"
   ]
  },
  {
   "cell_type": "code",
   "execution_count": 13,
   "metadata": {
    "collapsed": false
   },
   "outputs": [],
   "source": [
    "x_val,y_val = val_test_image_reader(valid)\n",
    "x_test,y_test = val_test_image_reader(test)\n",
    "x_val = x_val / 255\n",
    "x_test = x_test / 255"
   ]
  },
  {
   "cell_type": "code",
   "execution_count": 14,
   "metadata": {
    "collapsed": false
   },
   "outputs": [
    {
     "name": "stdout",
     "output_type": "stream",
     "text": [
      "x_val: (832, 256, 256, 3) y_val:  (832, 8)\n",
      "x_test: (1130, 256, 256, 3) y_test:  (1130, 8)\n"
     ]
    }
   ],
   "source": [
    "print (\"x_val:\",x_val.shape,\"y_val: \",y_val.shape)\n",
    "print (\"x_test:\",x_test.shape,\"y_test: \",y_test.shape)"
   ]
  },
  {
   "cell_type": "code",
   "execution_count": 15,
   "metadata": {
    "collapsed": true
   },
   "outputs": [],
   "source": [
    "epochs = 20\n",
    "batch_size = 8\n",
    "logs_path = \"/tmp/tensorflow_logs/example\"\n",
    "model_path = \"/models/run2\""
   ]
  },
  {
   "cell_type": "code",
   "execution_count": 16,
   "metadata": {
    "collapsed": false,
    "scrolled": true
   },
   "outputs": [
    {
     "name": "stderr",
     "output_type": "stream",
     "text": [
      "\r",
      "  0%|          | 0/20 [00:00<?, ?it/s]"
     ]
    },
    {
     "name": "stdout",
     "output_type": "stream",
     "text": [
      "Train loss =2.078648 Train acc =0.187500\n",
      "Train loss =2.078940 Train acc =0.250000\n",
      "Train loss =2.081948 Train acc =0.125000\n",
      "Train loss =2.083656 Train acc =0.000000\n",
      "Train loss =2.080413 Train acc =0.125000\n",
      "Train loss =2.076529 Train acc =0.250000\n",
      "Train loss =2.079875 Train acc =0.000000\n",
      "Train loss =2.077776 Train acc =0.250000\n",
      "Train loss =2.079024 Train acc =0.125000\n",
      "Train loss =2.079611 Train acc =0.000000\n",
      "epoch:  0\n"
     ]
    },
    {
     "name": "stderr",
     "output_type": "stream",
     "text": [
      "\r",
      "  5%|▌         | 1/20 [03:10<1:00:15, 190.29s/it]"
     ]
    },
    {
     "name": "stdout",
     "output_type": "stream",
     "text": [
      "Train loss =2.081024 Train acc =0.125000 valid loss =2.078832 valid acc =0.031250\n",
      "Train loss =2.078156 Train acc =0.125000\n",
      "Train loss =2.082022 Train acc =0.000000\n",
      "Train loss =2.079781 Train acc =0.000000\n",
      "Train loss =2.082625 Train acc =0.125000\n",
      "Train loss =2.084568 Train acc =0.000000\n",
      "Train loss =2.072439 Train acc =0.375000\n",
      "Train loss =2.075184 Train acc =0.125000\n",
      "Train loss =2.077550 Train acc =0.125000\n",
      "Train loss =2.079360 Train acc =0.000000\n",
      "Train loss =2.079107 Train acc =0.125000\n",
      "epoch:  1\n"
     ]
    },
    {
     "name": "stderr",
     "output_type": "stream",
     "text": [
      "\r",
      " 10%|█         | 2/20 [06:19<57:00, 190.04s/it]  "
     ]
    },
    {
     "name": "stdout",
     "output_type": "stream",
     "text": [
      "Train loss =2.082543 Train acc =0.000000 valid loss =2.082786 valid acc =0.031250\n",
      "Train loss =2.084306 Train acc =0.000000\n",
      "Train loss =2.078951 Train acc =0.000000\n",
      "Train loss =2.084170 Train acc =0.125000\n",
      "Train loss =2.079332 Train acc =0.250000\n",
      "Train loss =2.076467 Train acc =0.375000\n",
      "Train loss =2.081307 Train acc =0.125000\n",
      "Train loss =2.078541 Train acc =0.000000\n",
      "Train loss =2.080585 Train acc =0.250000\n",
      "Train loss =2.078156 Train acc =0.125000\n",
      "Train loss =2.077723 Train acc =0.250000\n",
      "epoch:  2\n"
     ]
    },
    {
     "name": "stderr",
     "output_type": "stream",
     "text": [
      "\r",
      " 15%|█▌        | 3/20 [09:29<53:49, 189.99s/it]"
     ]
    },
    {
     "name": "stdout",
     "output_type": "stream",
     "text": [
      "Train loss =2.081929 Train acc =0.000000 valid loss =2.081582 valid acc =0.031250\n",
      "Train loss =2.079191 Train acc =0.125000\n",
      "Train loss =2.081767 Train acc =0.125000\n",
      "Train loss =2.078716 Train acc =0.000000\n",
      "Train loss =2.076327 Train acc =0.125000\n",
      "Train loss =2.076925 Train acc =0.125000\n",
      "Train loss =2.081781 Train acc =0.125000\n",
      "Train loss =2.079623 Train acc =0.125000\n",
      "Train loss =2.078366 Train acc =0.125000\n",
      "Train loss =2.081728 Train acc =0.000000\n",
      "Train loss =2.079460 Train acc =0.125000\n",
      "epoch:  3\n"
     ]
    },
    {
     "name": "stderr",
     "output_type": "stream",
     "text": [
      "\r",
      " 20%|██        | 4/20 [12:38<50:32, 189.55s/it]"
     ]
    },
    {
     "name": "stdout",
     "output_type": "stream",
     "text": [
      "Train loss =2.080664 Train acc =0.000000 valid loss =2.081323 valid acc =0.195913\n",
      "Train loss =2.078249 Train acc =0.500000\n",
      "Train loss =2.079693 Train acc =0.125000\n",
      "Train loss =2.083105 Train acc =0.000000\n",
      "Train loss =2.079664 Train acc =0.125000\n",
      "Train loss =2.083614 Train acc =0.000000\n",
      "Train loss =2.081459 Train acc =0.125000\n",
      "Train loss =2.077902 Train acc =0.125000\n",
      "Train loss =2.082582 Train acc =0.000000\n",
      "Train loss =2.079939 Train acc =0.250000\n",
      "Train loss =2.083620 Train acc =0.000000\n",
      "epoch:  4\n"
     ]
    },
    {
     "name": "stderr",
     "output_type": "stream",
     "text": [
      "\r",
      " 25%|██▌       | 5/20 [15:46<47:18, 189.25s/it]"
     ]
    },
    {
     "name": "stdout",
     "output_type": "stream",
     "text": [
      "Train loss =2.077445 Train acc =0.250000 valid loss =2.077880 valid acc =0.079327\n",
      "Train loss =2.077387 Train acc =0.000000\n",
      "Train loss =2.080525 Train acc =0.250000\n",
      "Train loss =2.085680 Train acc =0.000000\n",
      "Train loss =2.074647 Train acc =0.125000\n",
      "Train loss =2.079183 Train acc =0.125000\n",
      "Train loss =2.078927 Train acc =0.250000\n",
      "Train loss =2.077469 Train acc =0.125000\n",
      "Train loss =2.080814 Train acc =0.125000\n",
      "Train loss =2.084039 Train acc =0.000000\n",
      "Train loss =2.078964 Train acc =0.000000\n",
      "epoch:  5\n"
     ]
    },
    {
     "name": "stderr",
     "output_type": "stream",
     "text": [
      "\r",
      " 30%|███       | 6/20 [18:55<44:06, 189.05s/it]"
     ]
    },
    {
     "name": "stdout",
     "output_type": "stream",
     "text": [
      "Train loss =2.081560 Train acc =0.000000 valid loss =2.079281 valid acc =0.051683\n",
      "Train loss =2.077435 Train acc =0.250000\n",
      "Train loss =2.078650 Train acc =0.000000\n",
      "Train loss =2.082925 Train acc =0.000000\n",
      "Train loss =2.081555 Train acc =0.125000\n",
      "Train loss =2.076933 Train acc =0.250000\n",
      "Train loss =2.078315 Train acc =0.125000\n",
      "Train loss =2.078651 Train acc =0.000000\n",
      "Train loss =2.081033 Train acc =0.000000\n",
      "Train loss =2.080634 Train acc =0.000000\n",
      "Train loss =2.079924 Train acc =0.125000\n",
      "epoch:  6\n"
     ]
    },
    {
     "name": "stderr",
     "output_type": "stream",
     "text": [
      "\r",
      " 35%|███▌      | 7/20 [22:03<40:56, 188.95s/it]"
     ]
    },
    {
     "name": "stdout",
     "output_type": "stream",
     "text": [
      "Train loss =2.079298 Train acc =0.250000 valid loss =2.077792 valid acc =0.051683\n",
      "Train loss =2.081835 Train acc =0.000000\n",
      "Train loss =2.080477 Train acc =0.125000\n",
      "Train loss =2.080167 Train acc =0.125000\n",
      "Train loss =2.076256 Train acc =0.250000\n",
      "Train loss =2.081561 Train acc =0.125000\n",
      "Train loss =2.083153 Train acc =0.000000\n",
      "Train loss =2.083626 Train acc =0.000000\n",
      "Train loss =2.079943 Train acc =0.250000\n",
      "Train loss =2.081400 Train acc =0.125000\n",
      "Train loss =2.078629 Train acc =0.125000\n",
      "epoch:  7\n"
     ]
    },
    {
     "name": "stderr",
     "output_type": "stream",
     "text": [
      "\r",
      " 40%|████      | 8/20 [25:12<37:46, 188.86s/it]"
     ]
    },
    {
     "name": "stdout",
     "output_type": "stream",
     "text": [
      "Train loss =2.078718 Train acc =0.250000 valid loss =2.078967 valid acc =0.051683\n",
      "Train loss =2.078023 Train acc =0.250000\n",
      "Train loss =2.074906 Train acc =0.000000\n",
      "Train loss =2.079303 Train acc =0.125000\n",
      "Train loss =2.089586 Train acc =0.125000\n",
      "Train loss =2.084293 Train acc =0.000000\n",
      "Train loss =2.084440 Train acc =0.125000\n",
      "Train loss =2.080811 Train acc =0.000000\n",
      "Train loss =2.076451 Train acc =0.250000\n",
      "Train loss =2.085319 Train acc =0.125000\n",
      "Train loss =2.082835 Train acc =0.000000\n",
      "epoch:  8\n"
     ]
    },
    {
     "name": "stderr",
     "output_type": "stream",
     "text": [
      "\r",
      " 45%|████▌     | 9/20 [28:21<34:35, 188.71s/it]"
     ]
    },
    {
     "name": "stdout",
     "output_type": "stream",
     "text": [
      "Train loss =2.080749 Train acc =0.000000 valid loss =2.075027 valid acc =0.079327\n",
      "Train loss =2.079861 Train acc =0.125000\n",
      "Train loss =2.084449 Train acc =0.000000\n",
      "Train loss =2.077308 Train acc =0.250000\n",
      "Train loss =2.081102 Train acc =0.125000\n",
      "Train loss =2.073460 Train acc =0.375000\n",
      "Train loss =2.075350 Train acc =0.375000\n",
      "Train loss =2.083010 Train acc =0.000000\n",
      "Train loss =2.077401 Train acc =0.125000\n",
      "Train loss =2.077966 Train acc =0.250000\n",
      "Train loss =2.076933 Train acc =0.375000\n",
      "epoch:  9\n"
     ]
    },
    {
     "name": "stderr",
     "output_type": "stream",
     "text": [
      "\r",
      " 50%|█████     | 10/20 [31:29<31:26, 188.62s/it]"
     ]
    },
    {
     "name": "stdout",
     "output_type": "stream",
     "text": [
      "Train loss =2.081958 Train acc =0.000000 valid loss =2.077008 valid acc =0.051683\n",
      "Train loss =2.079969 Train acc =0.125000\n",
      "Train loss =2.080998 Train acc =0.250000\n",
      "Train loss =2.074090 Train acc =0.250000\n",
      "Train loss =2.078753 Train acc =0.250000\n",
      "Train loss =2.082234 Train acc =0.000000\n",
      "Train loss =2.082634 Train acc =0.125000\n",
      "Train loss =2.081886 Train acc =0.125000\n",
      "Train loss =2.083594 Train acc =0.000000\n",
      "Train loss =2.079064 Train acc =0.125000\n",
      "Train loss =2.077952 Train acc =0.125000\n",
      "epoch:  10\n"
     ]
    },
    {
     "name": "stderr",
     "output_type": "stream",
     "text": [
      "\r",
      " 55%|█████▌    | 11/20 [34:37<28:16, 188.52s/it]"
     ]
    },
    {
     "name": "stdout",
     "output_type": "stream",
     "text": [
      "Train loss =2.080938 Train acc =0.125000 valid loss =2.077458 valid acc =0.457933\n",
      "Train loss =2.080159 Train acc =0.000000\n",
      "Train loss =2.070359 Train acc =0.500000\n",
      "Train loss =2.082998 Train acc =0.000000\n",
      "Train loss =2.085627 Train acc =0.000000\n",
      "Train loss =2.074740 Train acc =0.250000\n",
      "Train loss =2.079814 Train acc =0.125000\n",
      "Train loss =2.078891 Train acc =0.125000\n",
      "Train loss =2.083001 Train acc =0.125000\n",
      "Train loss =2.076863 Train acc =0.125000\n",
      "Train loss =2.077502 Train acc =0.125000\n",
      "epoch:  11\n"
     ]
    },
    {
     "name": "stderr",
     "output_type": "stream",
     "text": [
      "\r",
      " 60%|██████    | 12/20 [37:45<25:07, 188.43s/it]"
     ]
    },
    {
     "name": "stdout",
     "output_type": "stream",
     "text": [
      "Train loss =2.075405 Train acc =0.250000 valid loss =2.077091 valid acc =0.031250\n",
      "Train loss =2.076610 Train acc =0.125000\n",
      "Train loss =2.081687 Train acc =0.125000\n",
      "Train loss =2.074855 Train acc =0.000000\n",
      "Train loss =2.074104 Train acc =0.250000\n",
      "Train loss =2.081669 Train acc =0.125000\n",
      "Train loss =2.077646 Train acc =0.125000\n",
      "Train loss =2.080290 Train acc =0.250000\n",
      "Train loss =2.079847 Train acc =0.000000\n",
      "Train loss =2.079336 Train acc =0.125000\n",
      "Train loss =2.079729 Train acc =0.000000\n",
      "epoch:  12\n"
     ]
    },
    {
     "name": "stderr",
     "output_type": "stream",
     "text": [
      "\r",
      " 65%|██████▌   | 13/20 [40:54<21:58, 188.42s/it]"
     ]
    },
    {
     "name": "stdout",
     "output_type": "stream",
     "text": [
      "Train loss =2.077253 Train acc =0.125000 valid loss =2.079416 valid acc =0.079327\n",
      "Train loss =2.081101 Train acc =0.000000\n",
      "Train loss =2.079335 Train acc =0.125000\n",
      "Train loss =2.084537 Train acc =0.125000\n",
      "Train loss =2.078893 Train acc =0.000000\n",
      "Train loss =2.080272 Train acc =0.125000\n",
      "Train loss =2.078759 Train acc =0.250000\n",
      "Train loss =2.078045 Train acc =0.125000\n",
      "Train loss =2.081663 Train acc =0.000000\n",
      "Train loss =2.079120 Train acc =0.125000\n",
      "Train loss =2.078578 Train acc =0.125000\n",
      "epoch:  13\n"
     ]
    },
    {
     "name": "stderr",
     "output_type": "stream",
     "text": [
      "\r",
      " 70%|███████   | 14/20 [44:02<18:50, 188.43s/it]"
     ]
    },
    {
     "name": "stdout",
     "output_type": "stream",
     "text": [
      "Train loss =2.078970 Train acc =0.125000 valid loss =2.078010 valid acc =0.195913\n",
      "Train loss =2.077352 Train acc =0.500000\n",
      "Train loss =2.077776 Train acc =0.250000\n",
      "Train loss =2.075229 Train acc =0.000000\n",
      "Train loss =2.082480 Train acc =0.125000\n",
      "Train loss =2.082834 Train acc =0.125000\n",
      "Train loss =2.083767 Train acc =0.125000\n",
      "Train loss =2.082136 Train acc =0.125000\n",
      "Train loss =2.077319 Train acc =0.375000\n",
      "Train loss =2.078594 Train acc =0.125000\n",
      "Train loss =2.079563 Train acc =0.000000\n",
      "epoch:  14\n"
     ]
    },
    {
     "name": "stderr",
     "output_type": "stream",
     "text": [
      "\r",
      " 75%|███████▌  | 15/20 [47:11<15:42, 188.51s/it]"
     ]
    },
    {
     "name": "stdout",
     "output_type": "stream",
     "text": [
      "Train loss =2.084807 Train acc =0.000000 valid loss =2.078318 valid acc =0.195913\n",
      "Train loss =2.078243 Train acc =0.125000\n",
      "Train loss =2.080500 Train acc =0.000000\n",
      "Train loss =2.074813 Train acc =0.375000\n",
      "Train loss =2.079772 Train acc =0.000000\n",
      "Train loss =2.075877 Train acc =0.125000\n",
      "Train loss =2.079869 Train acc =0.125000\n",
      "Train loss =2.083297 Train acc =0.125000\n",
      "Train loss =2.082739 Train acc =0.000000\n",
      "Train loss =2.083007 Train acc =0.000000\n",
      "Train loss =2.082966 Train acc =0.125000\n",
      "epoch:  15\n"
     ]
    },
    {
     "name": "stderr",
     "output_type": "stream",
     "text": [
      "\r",
      " 80%|████████  | 16/20 [50:20<12:34, 188.53s/it]"
     ]
    },
    {
     "name": "stdout",
     "output_type": "stream",
     "text": [
      "Train loss =2.079400 Train acc =0.125000 valid loss =2.082747 valid acc =0.045673\n",
      "Train loss =2.080124 Train acc =0.000000\n",
      "Train loss =2.066397 Train acc =0.500000\n",
      "Train loss =2.078275 Train acc =0.000000\n",
      "Train loss =2.074472 Train acc =0.125000\n",
      "Train loss =2.081548 Train acc =0.000000\n",
      "Train loss =2.077292 Train acc =0.250000\n",
      "Train loss =2.069963 Train acc =0.375000\n",
      "Train loss =2.076828 Train acc =0.125000\n",
      "Train loss =2.087024 Train acc =0.000000\n",
      "Train loss =2.079362 Train acc =0.000000\n",
      "epoch:  16\n"
     ]
    },
    {
     "name": "stderr",
     "output_type": "stream",
     "text": [
      "\r",
      " 85%|████████▌ | 17/20 [53:28<09:25, 188.48s/it]"
     ]
    },
    {
     "name": "stdout",
     "output_type": "stream",
     "text": [
      "Train loss =2.082610 Train acc =0.000000 valid loss =2.078439 valid acc =0.457933\n",
      "Train loss =2.076093 Train acc =0.375000\n",
      "Train loss =2.079245 Train acc =0.125000\n",
      "Train loss =2.083996 Train acc =0.000000\n",
      "Train loss =2.073872 Train acc =0.125000\n",
      "Train loss =2.080460 Train acc =0.000000\n",
      "Train loss =2.072712 Train acc =0.125000\n",
      "Train loss =2.080416 Train acc =0.125000\n",
      "Train loss =2.084854 Train acc =0.000000\n",
      "Train loss =2.080458 Train acc =0.000000\n",
      "Train loss =2.080256 Train acc =0.125000\n",
      "epoch:  17\n"
     ]
    },
    {
     "name": "stderr",
     "output_type": "stream",
     "text": [
      "\r",
      " 90%|█████████ | 18/20 [56:36<06:16, 188.43s/it]"
     ]
    },
    {
     "name": "stdout",
     "output_type": "stream",
     "text": [
      "Train loss =2.082158 Train acc =0.125000 valid loss =2.077125 valid acc =0.121394\n",
      "Train loss =2.082612 Train acc =0.000000\n",
      "Train loss =2.078410 Train acc =0.250000\n",
      "Train loss =2.075069 Train acc =0.250000\n",
      "Train loss =2.089750 Train acc =0.000000\n",
      "Train loss =2.079300 Train acc =0.000000\n",
      "Train loss =2.083659 Train acc =0.000000\n",
      "Train loss =2.081487 Train acc =0.000000\n",
      "Train loss =2.079729 Train acc =0.375000\n",
      "Train loss =2.079436 Train acc =0.000000\n",
      "Train loss =2.084630 Train acc =0.000000\n",
      "epoch:  18\n"
     ]
    },
    {
     "name": "stderr",
     "output_type": "stream",
     "text": [
      "\r",
      " 95%|█████████▌| 19/20 [59:44<03:08, 188.38s/it]"
     ]
    },
    {
     "name": "stdout",
     "output_type": "stream",
     "text": [
      "Train loss =2.080837 Train acc =0.000000 valid loss =2.075507 valid acc =0.457933\n",
      "Train loss =2.077288 Train acc =0.125000\n",
      "Train loss =2.073731 Train acc =0.375000\n",
      "Train loss =2.083768 Train acc =0.125000\n",
      "Train loss =2.080063 Train acc =0.125000\n",
      "Train loss =2.071187 Train acc =0.125000\n",
      "Train loss =2.075912 Train acc =0.250000\n",
      "Train loss =2.079623 Train acc =0.000000\n",
      "Train loss =2.081496 Train acc =0.250000\n",
      "Train loss =2.077205 Train acc =0.125000\n",
      "Train loss =2.077865 Train acc =0.125000\n",
      "epoch:  19\n"
     ]
    },
    {
     "name": "stderr",
     "output_type": "stream",
     "text": [
      "\r",
      "100%|██████████| 20/20 [1:02:53<00:00, 188.36s/it]"
     ]
    },
    {
     "name": "stdout",
     "output_type": "stream",
     "text": [
      "Train loss =2.080482 Train acc =0.000000 valid loss =2.079019 valid acc =0.016827\n",
      "Optimization Finished!\n"
     ]
    },
    {
     "name": "stderr",
     "output_type": "stream",
     "text": [
      "\n"
     ]
    },
    {
     "name": "stdout",
     "output_type": "stream",
     "text": [
      "test loss =2.079025 Test acc =0.017699\n"
     ]
    }
   ],
   "source": [
    "with tf.Session() as sess:\n",
    "    sess.run(init)\n",
    "    summary_writer = tf.train.SummaryWriter(logs_path,graph=tf.get_default_graph())\n",
    "    for ep in tqdm(range(epochs)):\n",
    "        img_list = shuffle(img_list,random_state=0)\n",
    "        for i in range(int(len(img_list)/batch_size)):\n",
    "            img_loc = img_list[i*batch_size:(i+1)*batch_size]\n",
    "            X_image, Y_image = dev_image_reader(img_loc,img_dummy_label)\n",
    "            X_image, Y_image = X_image/255, Y_image\n",
    "            _,c,summary = sess.run([optimizer,cost,merged_summary_op],feed_dict={X : np.float32(X_image), Y : np.float32(Y_image)})\n",
    "            train_loss, train_acc = sess.run([cost,accuracy], feed_dict={X : np.float32(X_image), Y : np.float32(Y_image)})\n",
    "            if i % 100 == 0:\n",
    "                print (\"Train loss =\"+\"{:.6f}\".format(train_loss),\\\n",
    "               \"Train acc =\"+\"{:.6f}\".format(train_acc))\n",
    "        print (\"epoch: \", ep)\n",
    "        valid_loss, valid_acc = sess.run([cost,accuracy], feed_dict={X : np.float32(x_val), Y : np.float32(y_val)})\n",
    "        print (\"Train loss =\"+\"{:.6f}\".format(train_loss),\\\n",
    "            \"Train acc =\"+\"{:.6f}\".format(train_acc),\\\n",
    "            \"valid loss =\"+\"{:.6f}\".format(valid_loss),\\\n",
    "            \"valid acc =\"+\"{:.6f}\".format(valid_acc))\n",
    "    print(\"Optimization Finished!\")\n",
    "    test_loss, test_acc = sess.run([cost,accuracy], feed_dict={X : np.float32(x_test), Y : np.float32(y_test)})\n",
    "    print (\"test loss =\"+\"{:.6f}\".format(test_loss),\\\n",
    "        \"Test acc =\"+\"{:.6f}\".format(test_acc))\n",
    "    save_path = saver.save(sess,os.getcwd()+model_path)\n"
   ]
  }
 ],
 "metadata": {
  "anaconda-cloud": {},
  "kernelspec": {
   "display_name": "Python [conda root]",
   "language": "python",
   "name": "conda-root-py"
  },
  "language_info": {
   "codemirror_mode": {
    "name": "ipython",
    "version": 3
   },
   "file_extension": ".py",
   "mimetype": "text/x-python",
   "name": "python",
   "nbconvert_exporter": "python",
   "pygments_lexer": "ipython3",
   "version": "3.5.2"
  }
 },
 "nbformat": 4,
 "nbformat_minor": 1
}
