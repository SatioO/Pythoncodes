{
 "cells": [
  {
   "cell_type": "code",
   "execution_count": 1,
   "metadata": {
    "collapsed": true
   },
   "outputs": [],
   "source": [
    "from work_2.helper import *\n",
    "import tensorflow as tf \n",
    "import numpy as np \n",
    "from work_2.model import *\n",
    "import pandas as pd"
   ]
  },
  {
   "cell_type": "code",
   "execution_count": 3,
   "metadata": {
    "collapsed": true
   },
   "outputs": [],
   "source": [
    "imglist = img_location_reader(\"data\")\n",
    "train,test = train_test_split(imglist,test_size=0.3,random_state=0)\n",
    "train,valid = train_test_split(train,test_size=0.3,random_state=0)"
   ]
  },
  {
   "cell_type": "code",
   "execution_count": 4,
   "metadata": {
    "collapsed": false
   },
   "outputs": [
    {
     "data": {
      "text/plain": [
       "2069"
      ]
     },
     "execution_count": 4,
     "metadata": {},
     "output_type": "execute_result"
    }
   ],
   "source": [
    "sum([len(train[i]) for i in range(len(train))]) # total images in train"
   ]
  },
  {
   "cell_type": "code",
   "execution_count": 5,
   "metadata": {
    "collapsed": true
   },
   "outputs": [],
   "source": [
    "X = tf.placeholder(tf.float32,[None,256,256,3],name = \"Input_data\")\n",
    "Y = tf.placeholder(tf.float32,[None,8], name = \"InputLabels\")"
   ]
  },
  {
   "cell_type": "code",
   "execution_count": 6,
   "metadata": {
    "collapsed": true
   },
   "outputs": [],
   "source": [
    "# defining weights and bias \n",
    "weights = {\n",
    "\"w1\": init_weights([3,3,3,16]),\n",
    "\"w2\": init_weights([2,2,16,16]),\n",
    "\"w3\": init_weights([2,2,16,32]),\n",
    "\"w4\": init_weights([2,2,32,32]),\n",
    "\"w5\": init_weights([2,2,32,64]),\n",
    "\"w6\": init_weights([2,2,64,64]),\n",
    "\"w7\": init_weights([256,256]),\n",
    "\"w8\": init_weights([256,64]),\n",
    "\"w9\": init_weights([64,8])\n",
    "}\n",
    "\n",
    "bias = {\n",
    "\"b1\":init_bias([16]),\n",
    "\"b2\":init_bias([16]),\n",
    "\"b3\":init_bias([32]),\n",
    "\"b4\":init_bias([32]),\n",
    "\"b5\":init_bias([64]),\n",
    "\"b6\":init_bias([64]),\n",
    "\"b7\":init_bias([256]),\n",
    "\"b8\":init_bias([64]),\n",
    "\"b9\":init_bias([8])\n",
    "}"
   ]
  },
  {
   "cell_type": "code",
   "execution_count": 7,
   "metadata": {
    "collapsed": true
   },
   "outputs": [],
   "source": [
    "pred = model(X,weights[\"w1\"],weights[\"w2\"],weights[\"w3\"],weights[\"w4\"],weights[\"w5\"],weights[\"w6\"],\n",
    "weights[\"w7\"],weights[\"w8\"],weights[\"w9\"],bias[\"b1\"],bias[\"b2\"],bias[\"b3\"],bias[\"b4\"],bias[\"b5\"],bias[\"b6\"],bias[\"b7\"],\n",
    "bias[\"b8\"],bias[\"b9\"])"
   ]
  },
  {
   "cell_type": "code",
   "execution_count": 8,
   "metadata": {
    "collapsed": true
   },
   "outputs": [],
   "source": [
    "cost = tf.reduce_mean(tf.nn.softmax_cross_entropy_with_logits(pred,Y))\n",
    "optimizer = tf.train.AdamOptimizer(learning_rate=0.001).minimize(cost)"
   ]
  },
  {
   "cell_type": "code",
   "execution_count": 9,
   "metadata": {
    "collapsed": true
   },
   "outputs": [],
   "source": [
    "correct_pred= tf.equal(tf.argmax(pred,1),tf.argmax(Y,1))\n",
    "accuracy = tf.reduce_mean(tf.cast(correct_pred,tf.float32))"
   ]
  },
  {
   "cell_type": "code",
   "execution_count": 10,
   "metadata": {
    "collapsed": true
   },
   "outputs": [],
   "source": [
    "#Initialize all the variables\n",
    "init = tf.initialize_all_variables()\n",
    "\n",
    "saver = tf.train.Saver()\n",
    "\n",
    "# Create summary to monitor cost tensor , accuracy tensor\n",
    "tf.scalar_summary(\"loss\",cost)\n",
    "tf.scalar_summary(\"accuracy\",accuracy)\n",
    "\n",
    "merged_summary_op = tf.merge_all_summaries()"
   ]
  },
  {
   "cell_type": "code",
   "execution_count": 11,
   "metadata": {
    "collapsed": false
   },
   "outputs": [],
   "source": [
    "# splitting is done .\n",
    "img_list = img_location_list(train,over_sample = True)"
   ]
  },
  {
   "cell_type": "code",
   "execution_count": 12,
   "metadata": {
    "collapsed": false,
    "scrolled": true
   },
   "outputs": [],
   "source": [
    "img_dummy_label = pd.get_dummies(list(image_label(img_list).keys()))"
   ]
  },
  {
   "cell_type": "code",
   "execution_count": 13,
   "metadata": {
    "collapsed": false,
    "scrolled": true
   },
   "outputs": [
    {
     "data": {
      "text/plain": [
       "Index(['ALB', 'BET', 'DOL', 'LAG', 'NoF', 'OTHER', 'SHARK', 'YFT'], dtype='object')"
      ]
     },
     "execution_count": 13,
     "metadata": {},
     "output_type": "execute_result"
    }
   ],
   "source": [
    "img_dummy_label.columns"
   ]
  },
  {
   "cell_type": "code",
   "execution_count": 14,
   "metadata": {
    "collapsed": false
   },
   "outputs": [],
   "source": [
    "x_val,y_val = val_test_image_reader(valid)\n",
    "x_test,y_test = val_test_image_reader(test)"
   ]
  },
  {
   "cell_type": "code",
   "execution_count": 15,
   "metadata": {
    "collapsed": false
   },
   "outputs": [
    {
     "name": "stdout",
     "output_type": "stream",
     "text": [
      "x_val: (832, 256, 256, 3) y_val:  (832, 8)\n",
      "x_test: (1130, 256, 256, 3) y_test:  (1130, 8)\n"
     ]
    }
   ],
   "source": [
    "print (\"x_val:\",x_val.shape,\"y_val: \",y_val.shape)\n",
    "print (\"x_test:\",x_test.shape,\"y_test: \",y_test.shape)"
   ]
  },
  {
   "cell_type": "code",
   "execution_count": 22,
   "metadata": {
    "collapsed": true
   },
   "outputs": [],
   "source": [
    "epochs = 20\n",
    "batch_size = 8\n",
    "logs_path = \"/tmp/tensorflow_logs/example\"\n",
    "model_path = \"/models/run1\""
   ]
  },
  {
   "cell_type": "code",
   "execution_count": 23,
   "metadata": {
    "collapsed": false,
    "scrolled": true
   },
   "outputs": [
    {
     "name": "stderr",
     "output_type": "stream",
     "text": [
      "\r",
      "  0%|          | 0/20 [00:00<?, ?it/s]"
     ]
    },
    {
     "name": "stdout",
     "output_type": "stream",
     "text": [
      "Train loss =2.078033 Train acc =0.531250\n",
      "Train loss =2.077877 Train acc =0.125000\n",
      "Train loss =2.083259 Train acc =0.000000\n",
      "Train loss =2.080428 Train acc =0.125000\n",
      "Train loss =2.087629 Train acc =0.000000\n",
      "Train loss =2.080366 Train acc =0.125000\n",
      "Train loss =2.077003 Train acc =0.125000\n",
      "Train loss =2.081740 Train acc =0.000000\n",
      "Train loss =2.079992 Train acc =0.250000\n",
      "Train loss =2.083753 Train acc =0.000000\n",
      "epoch:  0\n"
     ]
    },
    {
     "name": "stderr",
     "output_type": "stream",
     "text": [
      "\r",
      "  5%|▌         | 1/20 [02:38<50:09, 158.39s/it]"
     ]
    },
    {
     "name": "stdout",
     "output_type": "stream",
     "text": [
      "Train loss =2.078023 Train acc =0.250000 valid loss =2.076585 valid acc =0.457933\n",
      "Train loss =2.077245 Train acc =0.125000\n",
      "Train loss =2.080370 Train acc =0.250000\n",
      "Train loss =2.085160 Train acc =0.000000\n",
      "Train loss =2.074786 Train acc =0.125000\n",
      "Train loss =2.078289 Train acc =0.125000\n",
      "Train loss =2.078567 Train acc =0.125000\n",
      "Train loss =2.077125 Train acc =0.125000\n",
      "Train loss =2.081200 Train acc =0.125000\n",
      "Train loss =2.084249 Train acc =0.000000\n",
      "Train loss =2.078644 Train acc =0.000000\n",
      "epoch:  1\n"
     ]
    },
    {
     "name": "stderr",
     "output_type": "stream",
     "text": [
      "\r",
      " 10%|█         | 2/20 [05:16<47:27, 158.17s/it]"
     ]
    },
    {
     "name": "stdout",
     "output_type": "stream",
     "text": [
      "Train loss =2.081452 Train acc =0.000000 valid loss =2.078832 valid acc =0.051683\n",
      "Train loss =2.077143 Train acc =0.250000\n",
      "Train loss =2.078536 Train acc =0.000000\n",
      "Train loss =2.082767 Train acc =0.000000\n",
      "Train loss =2.081272 Train acc =0.125000\n",
      "Train loss =2.077052 Train acc =0.250000\n",
      "Train loss =2.077952 Train acc =0.125000\n",
      "Train loss =2.078713 Train acc =0.000000\n",
      "Train loss =2.080881 Train acc =0.000000\n",
      "Train loss =2.080460 Train acc =0.000000\n",
      "Train loss =2.079809 Train acc =0.125000\n",
      "epoch:  2\n"
     ]
    },
    {
     "name": "stderr",
     "output_type": "stream",
     "text": [
      "\r",
      " 15%|█▌        | 3/20 [07:53<44:46, 158.02s/it]"
     ]
    },
    {
     "name": "stdout",
     "output_type": "stream",
     "text": [
      "Train loss =2.079247 Train acc =0.250000 valid loss =2.077616 valid acc =0.051683\n",
      "Train loss =2.081824 Train acc =0.000000\n",
      "Train loss =2.080550 Train acc =0.125000\n",
      "Train loss =2.080169 Train acc =0.125000\n",
      "Train loss =2.076152 Train acc =0.250000\n",
      "Train loss =2.081577 Train acc =0.125000\n",
      "Train loss =2.083134 Train acc =0.000000\n",
      "Train loss =2.083503 Train acc =0.000000\n",
      "Train loss =2.079839 Train acc =0.250000\n",
      "Train loss =2.081355 Train acc =0.125000\n",
      "Train loss =2.078636 Train acc =0.125000\n",
      "epoch:  3\n"
     ]
    },
    {
     "name": "stderr",
     "output_type": "stream",
     "text": [
      "\r",
      " 20%|██        | 4/20 [10:30<42:03, 157.73s/it]"
     ]
    },
    {
     "name": "stdout",
     "output_type": "stream",
     "text": [
      "Train loss =2.078761 Train acc =0.250000 valid loss =2.078906 valid acc =0.051683\n",
      "Train loss =2.078059 Train acc =0.250000\n",
      "Train loss =2.074928 Train acc =0.000000\n",
      "Train loss =2.079288 Train acc =0.125000\n",
      "Train loss =2.089554 Train acc =0.125000\n",
      "Train loss =2.084286 Train acc =0.000000\n",
      "Train loss =2.084518 Train acc =0.125000\n",
      "Train loss =2.080850 Train acc =0.000000\n",
      "Train loss =2.076484 Train acc =0.250000\n",
      "Train loss =2.085338 Train acc =0.125000\n",
      "Train loss =2.082853 Train acc =0.000000\n",
      "epoch:  4\n"
     ]
    },
    {
     "name": "stderr",
     "output_type": "stream",
     "text": [
      "\r",
      " 25%|██▌       | 5/20 [13:07<39:21, 157.45s/it]"
     ]
    },
    {
     "name": "stdout",
     "output_type": "stream",
     "text": [
      "Train loss =2.080760 Train acc =0.000000 valid loss =2.075005 valid acc =0.079327\n",
      "Train loss =2.079889 Train acc =0.125000\n",
      "Train loss =2.084481 Train acc =0.000000\n",
      "Train loss =2.077322 Train acc =0.250000\n",
      "Train loss =2.081118 Train acc =0.125000\n",
      "Train loss =2.073457 Train acc =0.375000\n",
      "Train loss =2.075338 Train acc =0.375000\n",
      "Train loss =2.083006 Train acc =0.000000\n",
      "Train loss =2.077408 Train acc =0.125000\n",
      "Train loss =2.077964 Train acc =0.250000\n",
      "Train loss =2.076930 Train acc =0.375000\n",
      "epoch:  5\n"
     ]
    },
    {
     "name": "stderr",
     "output_type": "stream",
     "text": [
      "\r",
      " 30%|███       | 6/20 [15:44<36:42, 157.35s/it]"
     ]
    },
    {
     "name": "stdout",
     "output_type": "stream",
     "text": [
      "Train loss =2.081961 Train acc =0.000000 valid loss =2.077000 valid acc =0.051683\n",
      "Train loss =2.079965 Train acc =0.125000\n",
      "Train loss =2.081005 Train acc =0.250000\n",
      "Train loss =2.074101 Train acc =0.250000\n",
      "Train loss =2.078751 Train acc =0.250000\n",
      "Train loss =2.082235 Train acc =0.000000\n",
      "Train loss =2.082634 Train acc =0.125000\n",
      "Train loss =2.081888 Train acc =0.125000\n",
      "Train loss =2.083597 Train acc =0.000000\n",
      "Train loss =2.079063 Train acc =0.125000\n",
      "Train loss =2.077954 Train acc =0.125000\n",
      "epoch:  6\n"
     ]
    },
    {
     "name": "stderr",
     "output_type": "stream",
     "text": [
      "\r",
      " 35%|███▌      | 7/20 [18:21<34:03, 157.22s/it]"
     ]
    },
    {
     "name": "stdout",
     "output_type": "stream",
     "text": [
      "Train loss =2.080938 Train acc =0.125000 valid loss =2.077455 valid acc =0.457933\n",
      "Train loss =2.080159 Train acc =0.000000\n",
      "Train loss =2.070361 Train acc =0.500000\n",
      "Train loss =2.083002 Train acc =0.000000\n",
      "Train loss =2.085628 Train acc =0.000000\n",
      "Train loss =2.074739 Train acc =0.250000\n",
      "Train loss =2.079815 Train acc =0.125000\n",
      "Train loss =2.078891 Train acc =0.125000\n",
      "Train loss =2.083000 Train acc =0.125000\n",
      "Train loss =2.076864 Train acc =0.125000\n",
      "Train loss =2.077502 Train acc =0.125000\n",
      "epoch:  7\n"
     ]
    },
    {
     "name": "stderr",
     "output_type": "stream",
     "text": [
      "\r",
      " 40%|████      | 8/20 [20:59<31:28, 157.39s/it]"
     ]
    },
    {
     "name": "stdout",
     "output_type": "stream",
     "text": [
      "Train loss =2.075405 Train acc =0.250000 valid loss =2.077090 valid acc =0.031250\n",
      "Train loss =2.076610 Train acc =0.125000\n",
      "Train loss =2.081687 Train acc =0.125000\n",
      "Train loss =2.074854 Train acc =0.000000\n",
      "Train loss =2.074105 Train acc =0.250000\n",
      "Train loss =2.081668 Train acc =0.125000\n",
      "Train loss =2.077646 Train acc =0.125000\n",
      "Train loss =2.080290 Train acc =0.250000\n",
      "Train loss =2.079847 Train acc =0.000000\n",
      "Train loss =2.079335 Train acc =0.125000\n",
      "Train loss =2.079729 Train acc =0.000000\n",
      "epoch:  8\n"
     ]
    },
    {
     "name": "stderr",
     "output_type": "stream",
     "text": [
      "\r",
      " 45%|████▌     | 9/20 [23:36<28:50, 157.35s/it]"
     ]
    },
    {
     "name": "stdout",
     "output_type": "stream",
     "text": [
      "Train loss =2.077253 Train acc =0.125000 valid loss =2.079416 valid acc =0.079327\n",
      "Train loss =2.081101 Train acc =0.000000\n",
      "Train loss =2.079335 Train acc =0.125000\n",
      "Train loss =2.084536 Train acc =0.125000\n",
      "Train loss =2.078893 Train acc =0.000000\n",
      "Train loss =2.080272 Train acc =0.125000\n",
      "Train loss =2.078759 Train acc =0.250000\n",
      "Train loss =2.078045 Train acc =0.125000\n",
      "Train loss =2.081662 Train acc =0.000000\n",
      "Train loss =2.079119 Train acc =0.125000\n",
      "Train loss =2.078578 Train acc =0.125000\n",
      "epoch:  9\n"
     ]
    },
    {
     "name": "stderr",
     "output_type": "stream",
     "text": [
      "\r",
      " 50%|█████     | 10/20 [26:13<26:12, 157.22s/it]"
     ]
    },
    {
     "name": "stdout",
     "output_type": "stream",
     "text": [
      "Train loss =2.078970 Train acc =0.125000 valid loss =2.078010 valid acc =0.195913\n",
      "Train loss =2.077352 Train acc =0.500000\n",
      "Train loss =2.077775 Train acc =0.250000\n",
      "Train loss =2.075229 Train acc =0.000000\n",
      "Train loss =2.082480 Train acc =0.125000\n",
      "Train loss =2.082834 Train acc =0.125000\n",
      "Train loss =2.083767 Train acc =0.125000\n",
      "Train loss =2.082136 Train acc =0.125000\n",
      "Train loss =2.077319 Train acc =0.375000\n",
      "Train loss =2.078594 Train acc =0.125000\n",
      "Train loss =2.079563 Train acc =0.000000\n",
      "epoch:  10\n"
     ]
    },
    {
     "name": "stderr",
     "output_type": "stream",
     "text": [
      "\r",
      " 55%|█████▌    | 11/20 [28:50<23:34, 157.14s/it]"
     ]
    },
    {
     "name": "stdout",
     "output_type": "stream",
     "text": [
      "Train loss =2.084807 Train acc =0.000000 valid loss =2.078318 valid acc =0.195913\n",
      "Train loss =2.078243 Train acc =0.125000\n",
      "Train loss =2.080500 Train acc =0.000000\n",
      "Train loss =2.074813 Train acc =0.375000\n",
      "Train loss =2.079772 Train acc =0.000000\n",
      "Train loss =2.075877 Train acc =0.125000\n",
      "Train loss =2.079869 Train acc =0.125000\n",
      "Train loss =2.083297 Train acc =0.125000\n",
      "Train loss =2.082739 Train acc =0.000000\n",
      "Train loss =2.083006 Train acc =0.000000\n",
      "Train loss =2.082966 Train acc =0.125000\n",
      "epoch:  11\n"
     ]
    },
    {
     "name": "stderr",
     "output_type": "stream",
     "text": [
      "\r",
      " 60%|██████    | 12/20 [31:27<20:56, 157.07s/it]"
     ]
    },
    {
     "name": "stdout",
     "output_type": "stream",
     "text": [
      "Train loss =2.079400 Train acc =0.125000 valid loss =2.082747 valid acc =0.045673\n",
      "Train loss =2.080124 Train acc =0.000000\n",
      "Train loss =2.066397 Train acc =0.500000\n",
      "Train loss =2.078275 Train acc =0.000000\n",
      "Train loss =2.074472 Train acc =0.125000\n",
      "Train loss =2.081548 Train acc =0.000000\n",
      "Train loss =2.077292 Train acc =0.250000\n",
      "Train loss =2.069963 Train acc =0.375000\n",
      "Train loss =2.076828 Train acc =0.125000\n",
      "Train loss =2.087024 Train acc =0.000000\n",
      "Train loss =2.079362 Train acc =0.000000\n",
      "epoch:  12\n"
     ]
    },
    {
     "name": "stderr",
     "output_type": "stream",
     "text": [
      "\r",
      " 65%|██████▌   | 13/20 [34:04<18:19, 157.13s/it]"
     ]
    },
    {
     "name": "stdout",
     "output_type": "stream",
     "text": [
      "Train loss =2.082610 Train acc =0.000000 valid loss =2.078439 valid acc =0.457933\n",
      "Train loss =2.076093 Train acc =0.375000\n",
      "Train loss =2.079245 Train acc =0.125000\n",
      "Train loss =2.083996 Train acc =0.000000\n",
      "Train loss =2.073872 Train acc =0.125000\n",
      "Train loss =2.080460 Train acc =0.000000\n",
      "Train loss =2.072712 Train acc =0.125000\n",
      "Train loss =2.080416 Train acc =0.125000\n",
      "Train loss =2.084854 Train acc =0.000000\n",
      "Train loss =2.080458 Train acc =0.000000\n",
      "Train loss =2.080255 Train acc =0.125000\n",
      "epoch:  13\n"
     ]
    },
    {
     "name": "stderr",
     "output_type": "stream",
     "text": [
      "\r",
      " 70%|███████   | 14/20 [36:42<15:43, 157.30s/it]"
     ]
    },
    {
     "name": "stdout",
     "output_type": "stream",
     "text": [
      "Train loss =2.082158 Train acc =0.125000 valid loss =2.077124 valid acc =0.121394\n",
      "Train loss =2.082612 Train acc =0.000000\n",
      "Train loss =2.078410 Train acc =0.250000\n",
      "Train loss =2.075069 Train acc =0.250000\n",
      "Train loss =2.089750 Train acc =0.000000\n",
      "Train loss =2.079301 Train acc =0.000000\n",
      "Train loss =2.083659 Train acc =0.000000\n",
      "Train loss =2.081486 Train acc =0.000000\n",
      "Train loss =2.079729 Train acc =0.375000\n",
      "Train loss =2.079436 Train acc =0.000000\n",
      "Train loss =2.084630 Train acc =0.000000\n",
      "epoch:  14\n"
     ]
    },
    {
     "name": "stderr",
     "output_type": "stream",
     "text": [
      "\r",
      " 75%|███████▌  | 15/20 [39:19<13:06, 157.22s/it]"
     ]
    },
    {
     "name": "stdout",
     "output_type": "stream",
     "text": [
      "Train loss =2.080837 Train acc =0.000000 valid loss =2.075507 valid acc =0.457933\n",
      "Train loss =2.077287 Train acc =0.125000\n",
      "Train loss =2.073731 Train acc =0.375000\n",
      "Train loss =2.083768 Train acc =0.125000\n",
      "Train loss =2.080063 Train acc =0.125000\n",
      "Train loss =2.071188 Train acc =0.125000\n",
      "Train loss =2.075912 Train acc =0.250000\n",
      "Train loss =2.079623 Train acc =0.000000\n",
      "Train loss =2.081496 Train acc =0.250000\n",
      "Train loss =2.077205 Train acc =0.125000\n",
      "Train loss =2.077865 Train acc =0.125000\n",
      "epoch:  15\n"
     ]
    },
    {
     "name": "stderr",
     "output_type": "stream",
     "text": [
      "\r",
      " 80%|████████  | 16/20 [41:56<10:28, 157.18s/it]"
     ]
    },
    {
     "name": "stdout",
     "output_type": "stream",
     "text": [
      "Train loss =2.080482 Train acc =0.000000 valid loss =2.079019 valid acc =0.016827\n",
      "Train loss =2.079220 Train acc =0.125000\n",
      "Train loss =2.074770 Train acc =0.375000\n",
      "Train loss =2.075504 Train acc =0.375000\n",
      "Train loss =2.074696 Train acc =0.375000\n",
      "Train loss =2.083183 Train acc =0.000000\n",
      "Train loss =2.075752 Train acc =0.250000\n",
      "Train loss =2.077928 Train acc =0.000000\n",
      "Train loss =2.081184 Train acc =0.000000\n",
      "Train loss =2.078771 Train acc =0.125000\n",
      "Train loss =2.080740 Train acc =0.125000\n",
      "epoch:  16\n"
     ]
    },
    {
     "name": "stderr",
     "output_type": "stream",
     "text": [
      "\r",
      " 85%|████████▌ | 17/20 [44:34<07:52, 157.52s/it]"
     ]
    },
    {
     "name": "stdout",
     "output_type": "stream",
     "text": [
      "Train loss =2.080324 Train acc =0.000000 valid loss =2.080977 valid acc =0.079327\n",
      "Train loss =2.078817 Train acc =0.375000\n",
      "Train loss =2.074832 Train acc =0.250000\n",
      "Train loss =2.084179 Train acc =0.000000\n",
      "Train loss =2.075586 Train acc =0.000000\n",
      "Train loss =2.086634 Train acc =0.000000\n",
      "Train loss =2.083373 Train acc =0.250000\n",
      "Train loss =2.075245 Train acc =0.250000\n",
      "Train loss =2.077066 Train acc =0.125000\n",
      "Train loss =2.080218 Train acc =0.125000\n",
      "Train loss =2.082566 Train acc =0.000000\n",
      "epoch:  17\n"
     ]
    },
    {
     "name": "stderr",
     "output_type": "stream",
     "text": [
      "\r",
      " 90%|█████████ | 18/20 [47:15<05:16, 158.39s/it]"
     ]
    },
    {
     "name": "stdout",
     "output_type": "stream",
     "text": [
      "Train loss =2.076780 Train acc =0.250000 valid loss =2.077648 valid acc =0.457933\n",
      "Train loss =2.080709 Train acc =0.125000\n",
      "Train loss =2.083827 Train acc =0.000000\n",
      "Train loss =2.070258 Train acc =0.500000\n",
      "Train loss =2.077394 Train acc =0.125000\n",
      "Train loss =2.074153 Train acc =0.250000\n",
      "Train loss =2.087296 Train acc =0.000000\n",
      "Train loss =2.085314 Train acc =0.125000\n",
      "Train loss =2.073436 Train acc =0.125000\n",
      "Train loss =2.081436 Train acc =0.000000\n",
      "Train loss =2.081452 Train acc =0.000000\n",
      "epoch:  18\n"
     ]
    },
    {
     "name": "stderr",
     "output_type": "stream",
     "text": [
      "\r",
      " 95%|█████████▌| 19/20 [49:54<02:38, 158.50s/it]"
     ]
    },
    {
     "name": "stdout",
     "output_type": "stream",
     "text": [
      "Train loss =2.079115 Train acc =0.000000 valid loss =2.080362 valid acc =0.031250\n",
      "Train loss =2.077306 Train acc =0.250000\n",
      "Train loss =2.090889 Train acc =0.125000\n",
      "Train loss =2.080708 Train acc =0.000000\n",
      "Train loss =2.082063 Train acc =0.000000\n",
      "Train loss =2.082162 Train acc =0.125000\n",
      "Train loss =2.072860 Train acc =0.375000\n",
      "Train loss =2.076151 Train acc =0.250000\n",
      "Train loss =2.078492 Train acc =0.125000\n",
      "Train loss =2.076916 Train acc =0.375000\n",
      "Train loss =2.078613 Train acc =0.250000\n",
      "epoch:  19\n"
     ]
    },
    {
     "name": "stderr",
     "output_type": "stream",
     "text": [
      "\r",
      "100%|██████████| 20/20 [52:32<00:00, 158.35s/it]"
     ]
    },
    {
     "name": "stdout",
     "output_type": "stream",
     "text": [
      "Train loss =2.080046 Train acc =0.125000 valid loss =2.083529 valid acc =0.031250\n",
      "Optimization Finished!\n"
     ]
    },
    {
     "name": "stderr",
     "output_type": "stream",
     "text": [
      "\n"
     ]
    },
    {
     "name": "stdout",
     "output_type": "stream",
     "text": [
      "test loss =2.083522 Test acc =0.030973\n"
     ]
    }
   ],
   "source": [
    "with tf.Session() as sess:\n",
    "    sess.run(init)\n",
    "    summary_writer = tf.train.SummaryWriter(logs_path,graph=tf.get_default_graph())\n",
    "    for ep in tqdm(range(epochs)):\n",
    "        img_list = shuffle(img_list,random_state=0)\n",
    "        for i in range(int(len(img_list)/batch_size)):\n",
    "            img_loc = img_list[i*batch_size:(i+1)*batch_size]\n",
    "            X_image, Y_image = dev_image_reader(img_loc,img_dummy_label)\n",
    "            _,c,summary = sess.run([optimizer,cost,merged_summary_op],feed_dict={X : np.float32(X_image), Y : np.float32(Y_image)})\n",
    "            train_loss, train_acc = sess.run([cost,accuracy], feed_dict={X : np.float32(X_image), Y : np.float32(Y_image)})\n",
    "            if i % 100 == 0:\n",
    "                print (\"Train loss =\"+\"{:.6f}\".format(train_loss),\\\n",
    "               \"Train acc =\"+\"{:.6f}\".format(train_acc))\n",
    "        print (\"epoch: \", ep)\n",
    "        valid_loss, valid_acc = sess.run([cost,accuracy], feed_dict={X : np.float32(x_val), Y : np.float32(y_val)})\n",
    "        print (\"Train loss =\"+\"{:.6f}\".format(train_loss),\\\n",
    "            \"Train acc =\"+\"{:.6f}\".format(train_acc),\\\n",
    "            \"valid loss =\"+\"{:.6f}\".format(valid_loss),\\\n",
    "            \"valid acc =\"+\"{:.6f}\".format(valid_acc))\n",
    "    print(\"Optimization Finished!\")\n",
    "    test_loss, test_acc = sess.run([cost,accuracy], feed_dict={X : np.float32(x_test), Y : np.float32(y_test)})\n",
    "    print (\"test loss =\"+\"{:.6f}\".format(test_loss),\\\n",
    "        \"Test acc =\"+\"{:.6f}\".format(test_acc))\n",
    "    save_path = saver.save(sess,os.getcwd()+model_path)\n"
   ]
  },
  {
   "cell_type": "code",
   "execution_count": null,
   "metadata": {
    "collapsed": true
   },
   "outputs": [],
   "source": []
  }
 ],
 "metadata": {
  "anaconda-cloud": {},
  "kernelspec": {
   "display_name": "Python [conda root]",
   "language": "python",
   "name": "conda-root-py"
  },
  "language_info": {
   "codemirror_mode": {
    "name": "ipython",
    "version": 3
   },
   "file_extension": ".py",
   "mimetype": "text/x-python",
   "name": "python",
   "nbconvert_exporter": "python",
   "pygments_lexer": "ipython3",
   "version": "3.5.2"
  }
 },
 "nbformat": 4,
 "nbformat_minor": 1
}
