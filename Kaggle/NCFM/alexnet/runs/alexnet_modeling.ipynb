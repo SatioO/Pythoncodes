{
 "cells": [
  {
   "cell_type": "code",
   "execution_count": 1,
   "metadata": {
    "collapsed": false
   },
   "outputs": [],
   "source": [
    "from alexnet.helper import *\n",
    "from alexnet.alexnet import *\n",
    "import tensorflow as tf\n",
    "import numpy as np\n",
    "import pandas as pd\n",
    "\n",
    "import matplotlib.pyplot as plt\n",
    "%matplotlib inline\n",
    "from sklearn.utils import shuffle\n",
    "from tqdm import tnrange,tqdm_notebook\n",
    "\n",
    "import warnings\n",
    "warnings.filterwarnings(\"ignore\")"
   ]
  },
  {
   "cell_type": "code",
   "execution_count": 2,
   "metadata": {
    "collapsed": true
   },
   "outputs": [],
   "source": [
    "epochs = 2\n",
    "batch = 16 # batch of Images\n",
    "batch_size = 16\n",
    "\n",
    "logs_path = \"tensorflow_logs/alexfish\"\n",
    "model_path  = \"models/alex\""
   ]
  },
  {
   "cell_type": "code",
   "execution_count": 3,
   "metadata": {
    "collapsed": false
   },
   "outputs": [],
   "source": [
    "img_list = img_location_reader(\"data\")\n",
    "train,test = train_test_split(img_list,test_size=0.3,random_state=0)\n",
    "train,valid = train_test_split(train,test_size=0.1,random_state=0)"
   ]
  },
  {
   "cell_type": "code",
   "execution_count": 4,
   "metadata": {
    "collapsed": false
   },
   "outputs": [
    {
     "name": "stdout",
     "output_type": "stream",
     "text": [
      "9224\n",
      "274\n"
     ]
    }
   ],
   "source": [
    "x_dev = img_location_list(train,over_sample=True)\n",
    "print (len(x_dev))\n",
    "x_val = img_location_list(valid,over_sample=False)\n",
    "print (len(x_val))"
   ]
  },
  {
   "cell_type": "code",
   "execution_count": 5,
   "metadata": {
    "collapsed": true
   },
   "outputs": [],
   "source": [
    "img_dummy_label = pd.get_dummies(list(image_label(x_dev).keys()))"
   ]
  },
  {
   "cell_type": "code",
   "execution_count": 6,
   "metadata": {
    "collapsed": true
   },
   "outputs": [],
   "source": [
    "X = tf.placeholder(tf.float32,[None,224,224,3],name = \"Input_data\")\n",
    "Y = tf.placeholder(tf.float32,[None,8], name = \"InputLabels\")\n",
    "\n",
    "\n",
    "\n",
    "weights ={\n",
    "\"w1\":init_weights([11,11,3,96]),\n",
    "\"w2\":init_weights([5,5,96,256]),\n",
    "\"w3\":init_weights([3,3,256,384]),\n",
    "\"w4\":init_weights([3,3,384,384]),\n",
    "\"w5\":init_weights([3,3,384,256]),\n",
    "\"w6\":init_weights([4096,4096]),\n",
    "\"w7\":init_weights([4096,4096]),\n",
    "\"w8\":init_weights([4096,8])\n",
    "}\n",
    "\n",
    "bias ={\n",
    "\"b1\":init_bias_zero([96]),\n",
    "\"b2\":init_bias_ones([256]),\n",
    "\"b3\":init_bias_zero([384]),\n",
    "\"b4\":init_bias_ones([384]),\n",
    "\"b5\":init_bias_ones([256]),\n",
    "\"b6\":init_bias_ones([4096]),\n",
    "\"b7\":init_bias_ones([4096])\n",
    "}"
   ]
  },
  {
   "cell_type": "code",
   "execution_count": 7,
   "metadata": {
    "collapsed": false
   },
   "outputs": [],
   "source": [
    "pred = alexnet(X,weights,bias)"
   ]
  },
  {
   "cell_type": "code",
   "execution_count": 8,
   "metadata": {
    "collapsed": true
   },
   "outputs": [],
   "source": [
    "cost = tf.reduce_mean(tf.nn.softmax_cross_entropy_with_logits(pred,Y))\n",
    "#optimizer = tf.train.AdamOptimizer(learning_rate=0.00001).minimize(cost)\n",
    "optimizer = tf.train.RMSPropOptimizer(0.001,decay=0.9,momentum=0.9,epsilon=1e-10).minimize(cost)"
   ]
  },
  {
   "cell_type": "code",
   "execution_count": 9,
   "metadata": {
    "collapsed": true
   },
   "outputs": [],
   "source": [
    "#Evaluate the model\n",
    "correct_pred= tf.equal(tf.argmax(pred,1),tf.argmax(Y,1))\n",
    "accuracy = tf.reduce_mean(tf.cast(correct_pred,tf.float32))\n",
    "\n",
    "#Initialize all the variables\n",
    "init = tf.initialize_all_variables()\n",
    "\n",
    "saver = tf.train.Saver()"
   ]
  },
  {
   "cell_type": "code",
   "execution_count": 10,
   "metadata": {
    "collapsed": true
   },
   "outputs": [],
   "source": [
    "# Create summary to monitor cost tensor , accuracy tensor\n",
    "tf.scalar_summary(\"loss\",cost)\n",
    "tf.scalar_summary(\"accuracy\",accuracy)\n",
    "\n",
    "merged_summary_op = tf.merge_all_summaries()"
   ]
  },
  {
   "cell_type": "markdown",
   "metadata": {},
   "source": [
    "sudo code \n",
    "\n",
    "- initalize all the paramaters \n",
    "- for each epoch \n",
    "      - x_dev contains filelocations , shuffle them \n",
    "      - take a batch of 16 images \n",
    "      - read the images (alex_dev_image_reader aguments the data and makes them 160 images), these are also shuffled\n",
    "          - now feed 16(batch_size) images at once to the network\n",
    "      - now for every 100 iterations , calculate validation accuracy and append it to val_acc\n",
    "      - save the model \n",
    "      - continue till all the epochs are finished "
   ]
  },
  {
   "cell_type": "code",
   "execution_count": 11,
   "metadata": {
    "collapsed": false
   },
   "outputs": [
    {
     "name": "stdout",
     "output_type": "stream",
     "text": [
      "epoch:  0\n",
      "0 0 Train loss =2.249001 Train acc =0.150000 valid acc =0.193431\n",
      "0 100 Train loss =12.092441 Train acc =0.156250 valid acc =0.343066\n",
      "0 200 Train loss =12.366575 Train acc =0.156250 valid acc =0.105839\n",
      "0 300 Train loss =26.927835 Train acc =0.181250 valid acc =0.051095\n",
      "0 400 Train loss =29.662460 Train acc =0.306250 valid acc =0.021898\n",
      "0 500 Train loss =18.879187 Train acc =0.168750 valid acc =0.193431\n",
      "epoch:  1\n",
      "1 0 Train loss =26.906130 Train acc =0.131250 valid acc =0.135036\n",
      "1 100 Train loss =19.073000 Train acc =0.206250 valid acc =0.040146\n",
      "1 200 Train loss =20.716362 Train acc =0.125000 valid acc =0.120438\n",
      "1 300 Train loss =24.445259 Train acc =0.200000 valid acc =0.072993\n",
      "1 400 Train loss =16.982250 Train acc =0.268750 valid acc =0.029197\n",
      "1 500 Train loss =16.125187 Train acc =0.175000 valid acc =0.032847\n",
      "\n",
      "Optimization Finished!\n"
     ]
    }
   ],
   "source": [
    "with tf.Session() as sess:\n",
    "    sess.run(init)\n",
    "    summary_writer = tf.train.SummaryWriter(logs_path,graph=tf.get_default_graph())\n",
    "    val_acc = []\n",
    "    for ep in tqdm_notebook(range(epochs),desc=\"1st loop\"):\n",
    "        print (\"epoch: \", ep)\n",
    "        img_list = shuffle(x_dev,random_state=0)\n",
    "        for i in tqdm_notebook(range(int(len(img_list)/batch)),desc=\"2nd loop\",leave=False):\n",
    "            img_loc = img_list[i*batch:(i+1)*batch]\n",
    "            X_image, Y_image =alex_dev_image_reader(img_loc,img_dummy_label,size=(256,256),normalize = True)\n",
    "            for k in range(int(len(X_image)/batch_size)):\n",
    "                x_image,y_image = X_image[k*batch_size:(k+1)*batch_size],Y_image[k*batch_size:(k+1)*batch_size]\n",
    "                _,c,summary = sess.run([optimizer,cost,merged_summary_op],feed_dict={X : np.float32(x_image), Y : np.float32(y_image)})\n",
    "            train_loss, train_acc = sess.run([cost,accuracy], feed_dict={X : np.float32(X_image), Y : np.float32(Y_image)})\n",
    "            if i % 100 == 0:\n",
    "                x,y = [],[]\n",
    "                for j in tqdm_notebook(range(len(x_val)),desc=\"3rd loop\",leave=False):\n",
    "                    xx_val,y_val =alex_val_image_reader(x_val[j],img_dummy_label,size=(256,256),normalize = True)\n",
    "                    value = sess.run([tf.nn.softmax(pred)], feed_dict={X : np.float32(xx_val)})\n",
    "                    x.append(np.average(value[0], axis=0))\n",
    "                    y.append(np.average(y_val, axis=0))\n",
    "                x,y = np.concatenate(x).reshape(-1,8),np.concatenate(y).reshape(-1,8)\n",
    "                valid_acc = sess.run([tf.reduce_mean(tf.cast(tf.equal(tf.argmax(x,1),tf.argmax(Y,1)),tf.float32))],\\\n",
    "                        feed_dict={Y : np.float32(y)})\n",
    "                print (str(ep),str(i),\"Train loss =\"+\"{:.6f}\".format(train_loss),\\\n",
    "                       \"Train acc =\"+\"{:.6f}\".format(train_acc),\\\n",
    "                      \"valid acc =\"+\"{:.6f}\".format(valid_acc[0]))\n",
    "                val_acc.append(valid_acc[0])\n",
    "                saver.save(sess,os.getcwd()+model_path+\"_\"+str(ep)+\"_\"+str(i))\n",
    "    print(\"Optimization Finished!\")\n"
   ]
  },
  {
   "cell_type": "code",
   "execution_count": null,
   "metadata": {
    "collapsed": false,
    "scrolled": true
   },
   "outputs": [],
   "source": [
    "\n",
    "# with tf.Session() as sess:\n",
    "#     sess.run(init)\n",
    "#     x, y = [],[]\n",
    "#     for i in tqdm(range(len(x_val))):\n",
    "#         xx_val ,y_val = alex_val_image_reader(x_val[i],img_dummy_label,size=(256,256),normalize = True)\n",
    "#         value = sess.run([tf.nn.softmax(pred)], feed_dict={X : np.float32(xx_val)})\n",
    "#         x.append(np.average(value[0], axis=0))\n",
    "#         y.append(np.average(y_val, axis=0))\n",
    "#     x,y = np.concatenate(x).reshape((-1,8)),np.concatenate(y).reshape((-1,8))\n",
    "#     acc = sess.run([tf.reduce_mean(tf.cast(tf.equal(tf.argmax(x,1),tf.argmax(Y,1)),tf.float32))],\\\n",
    "#                         feed_dict={Y : np.float32(y)})\n",
    "#     print (acc)"
   ]
  },
  {
   "cell_type": "code",
   "execution_count": 15,
   "metadata": {
    "collapsed": false
   },
   "outputs": [
    {
     "name": "stdout",
     "output_type": "stream",
     "text": [
      "epoch:  0\n",
      "0 0 Train loss =20.347353 Train acc =0.200000 valid acc =0.463504\n",
      "0 100 Train loss =17.304625 Train acc =0.137500 valid acc =0.299270\n",
      "0 200 Train loss =26.554459 Train acc =0.131250 valid acc =0.419708\n",
      "0 300 Train loss =19.559610 Train acc =0.206250 valid acc =0.032847\n",
      "0 400 Train loss =18.601959 Train acc =0.218750 valid acc =0.098540\n",
      "0 500 Train loss =21.811127 Train acc =0.168750 valid acc =0.091241\n",
      "epoch:  1\n",
      "1 0 Train loss =28.732042 Train acc =0.162500 valid acc =0.113139\n",
      "1 100 Train loss =16.210882 Train acc =0.162500 valid acc =0.182482\n",
      "1 200 Train loss =17.446327 Train acc =0.275000 valid acc =0.025547\n",
      "1 300 Train loss =19.469185 Train acc =0.175000 valid acc =0.098540\n",
      "1 400 Train loss =21.272594 Train acc =0.343750 valid acc =0.014599\n",
      "1 500 Train loss =23.805321 Train acc =0.237500 valid acc =0.043796\n",
      "epoch:  2\n",
      "2 0 Train loss =24.381409 Train acc =0.125000 valid acc =0.054745\n",
      "2 100 Train loss =22.508644 Train acc =0.175000 valid acc =0.149635\n",
      "2 200 Train loss =15.078900 Train acc =0.168750 valid acc =0.127737\n",
      "2 300 Train loss =21.099142 Train acc =0.162500 valid acc =0.047445\n",
      "2 400 Train loss =16.101429 Train acc =0.181250 valid acc =0.054745\n",
      "2 500 Train loss =20.419910 Train acc =0.150000 valid acc =0.047445\n",
      "epoch:  3\n",
      "3 0 Train loss =24.461029 Train acc =0.125000 valid acc =0.054745\n",
      "3 100 Train loss =19.605591 Train acc =0.168750 valid acc =0.120438\n",
      "3 200 Train loss =19.221159 Train acc =0.175000 valid acc =0.040146\n",
      "3 300 Train loss =26.117693 Train acc =0.168750 valid acc =0.178832\n",
      "3 400 Train loss =16.218594 Train acc =0.143750 valid acc =0.120438\n",
      "3 500 Train loss =17.407120 Train acc =0.150000 valid acc =0.098540\n",
      "epoch:  4\n",
      "4 0 Train loss =25.912361 Train acc =0.143750 valid acc =0.040146\n",
      "4 100 Train loss =17.081184 Train acc =0.200000 valid acc =0.211679\n",
      "4 200 Train loss =15.424042 Train acc =0.131250 valid acc =0.354015\n",
      "4 300 Train loss =32.472435 Train acc =0.150000 valid acc =0.087591\n",
      "4 400 Train loss =15.611019 Train acc =0.187500 valid acc =0.094891\n",
      "4 500 Train loss =15.771093 Train acc =0.131250 valid acc =0.080292\n",
      "epoch:  5\n",
      "5 0 Train loss =25.291897 Train acc =0.100000 valid acc =0.058394\n",
      "5 100 Train loss =21.719997 Train acc =0.143750 valid acc =0.310219\n",
      "5 200 Train loss =15.245003 Train acc =0.212500 valid acc =0.080292\n",
      "5 300 Train loss =24.634489 Train acc =0.175000 valid acc =0.058394\n",
      "5 400 Train loss =13.551959 Train acc =0.231250 valid acc =0.094891\n",
      "5 500 Train loss =14.786869 Train acc =0.150000 valid acc =0.018248\n",
      "epoch:  6\n",
      "6 0 Train loss =19.714275 Train acc =0.150000 valid acc =0.350365\n",
      "6 100 Train loss =18.962034 Train acc =0.231250 valid acc =0.153285\n",
      "6 200 Train loss =17.795109 Train acc =0.156250 valid acc =0.412409\n",
      "6 300 Train loss =19.720676 Train acc =0.131250 valid acc =0.116788\n",
      "6 400 Train loss =18.103643 Train acc =0.306250 valid acc =0.014599\n",
      "6 500 Train loss =16.778629 Train acc =0.181250 valid acc =0.040146\n",
      "epoch:  7\n",
      "7 0 Train loss =29.722773 Train acc =0.175000 valid acc =0.448905\n",
      "7 100 Train loss =19.755138 Train acc =0.162500 valid acc =0.102190\n",
      "7 200 Train loss =26.574028 Train acc =0.206250 valid acc =0.029197\n",
      "7 300 Train loss =20.495123 Train acc =0.087500 valid acc =0.105839\n",
      "7 400 Train loss =16.848286 Train acc =0.256250 valid acc =0.021898\n",
      "7 500 Train loss =30.278580 Train acc =0.206250 valid acc =0.029197\n",
      "epoch:  8\n",
      "8 0 Train loss =36.207088 Train acc =0.162500 valid acc =0.430657\n",
      "8 100 Train loss =21.380573 Train acc =0.181250 valid acc =0.281022\n",
      "8 200 Train loss =18.592501 Train acc =0.187500 valid acc =0.018248\n",
      "8 300 Train loss =23.663349 Train acc =0.187500 valid acc =0.047445\n",
      "8 400 Train loss =15.992548 Train acc =0.125000 valid acc =0.087591\n",
      "8 500 Train loss =15.757601 Train acc =0.131250 valid acc =0.354015\n",
      "epoch:  9\n",
      "9 0 Train loss =30.297604 Train acc =0.137500 valid acc =0.120438\n",
      "9 100 Train loss =17.587606 Train acc =0.162500 valid acc =0.229927\n",
      "9 200 Train loss =13.968153 Train acc =0.200000 valid acc =0.065693\n",
      "9 300 Train loss =23.257925 Train acc =0.162500 valid acc =0.142336\n",
      "9 400 Train loss =15.807320 Train acc =0.181250 valid acc =0.043796\n",
      "9 500 Train loss =16.182356 Train acc =0.193750 valid acc =0.091241\n",
      "\n",
      "Optimization Finished!\n"
     ]
    }
   ],
   "source": [
    "epochs = 10\n",
    "with tf.Session() as sess:\n",
    "    sess.run(init)\n",
    "    saver.restore(sess,os.getcwd()+model_path+\"_\"+str(1)+\"_\"+str(400))\n",
    "    summary_writer = tf.train.SummaryWriter(logs_path,graph=tf.get_default_graph())\n",
    "    val_acc = []\n",
    "    for ep in tqdm_notebook(range(epochs),desc=\"1st loop\"):\n",
    "        print (\"epoch: \", ep)\n",
    "        img_list = shuffle(x_dev,random_state=0)\n",
    "        for i in tqdm_notebook(range(int(len(img_list)/batch)),desc=\"2nd loop\",leave=False):\n",
    "            img_loc = img_list[i*batch:(i+1)*batch]\n",
    "            X_image, Y_image =alex_dev_image_reader(img_loc,img_dummy_label,size=(256,256),normalize = True)\n",
    "            for k in range(int(len(X_image)/batch_size)):\n",
    "                x_image,y_image = X_image[k*batch_size:(k+1)*batch_size],Y_image[k*batch_size:(k+1)*batch_size]\n",
    "                _,c,summary = sess.run([optimizer,cost,merged_summary_op],feed_dict={X : np.float32(x_image), Y : np.float32(y_image)})\n",
    "            train_loss, train_acc = sess.run([cost,accuracy], feed_dict={X : np.float32(X_image), Y : np.float32(Y_image)})\n",
    "            if i % 100 == 0:\n",
    "                x,y = [],[]\n",
    "                for j in tqdm_notebook(range(len(x_val)),desc=\"3rd loop\",leave=False):\n",
    "                    xx_val,y_val =alex_val_image_reader(x_val[j],img_dummy_label,size=(256,256),normalize = True)\n",
    "                    value = sess.run([tf.nn.softmax(pred)], feed_dict={X : np.float32(xx_val)})\n",
    "                    x.append(np.average(value[0], axis=0))\n",
    "                    y.append(np.average(y_val, axis=0))\n",
    "                x,y = np.concatenate(x).reshape(-1,8),np.concatenate(y).reshape(-1,8)\n",
    "                valid_acc = sess.run([tf.reduce_mean(tf.cast(tf.equal(tf.argmax(x,1),tf.argmax(Y,1)),tf.float32))],\\\n",
    "                        feed_dict={Y : np.float32(y)})\n",
    "                print (str(ep),str(i),\"Train loss =\"+\"{:.6f}\".format(train_loss),\\\n",
    "                       \"Train acc =\"+\"{:.6f}\".format(train_acc),\\\n",
    "                      \"valid acc =\"+\"{:.6f}\".format(valid_acc[0]))\n",
    "                val_acc.append(valid_acc[0])\n",
    "                saver.save(sess,os.getcwd()+model_path+\"_\"+str(ep)+\"_\"+str(i))\n",
    "    print(\"Optimization Finished!\")"
   ]
  },
  {
   "cell_type": "code",
   "execution_count": null,
   "metadata": {
    "collapsed": true
   },
   "outputs": [],
   "source": [
    "# Try increasing the validation set - 0.1 to 0.3 \n",
    "# decrease the learning rate\n",
    "# use L2 regularization"
   ]
  }
 ],
 "metadata": {
  "anaconda-cloud": {},
  "kernelspec": {
   "display_name": "Python [conda root]",
   "language": "python",
   "name": "conda-root-py"
  },
  "language_info": {
   "codemirror_mode": {
    "name": "ipython",
    "version": 3
   },
   "file_extension": ".py",
   "mimetype": "text/x-python",
   "name": "python",
   "nbconvert_exporter": "python",
   "pygments_lexer": "ipython3",
   "version": "3.5.2"
  },
  "widgets": {
   "state": {
    "041b89de956147b1931bb93a976da3a8": {
     "views": [
      {
       "cell_index": 13
      }
     ]
    },
    "0604e956f31b4708b52cda19b15f7a95": {
     "views": [
      {
       "cell_index": 13
      }
     ]
    },
    "08f3cdc6979e44118d915354cecf1b8a": {
     "views": [
      {
       "cell_index": 13
      }
     ]
    },
    "0b7df1cd3f0d41078d87842ec4f1ccdc": {
     "views": [
      {
       "cell_index": 11
      }
     ]
    },
    "0e217fd2089c4c37963828a2ac7e64fc": {
     "views": [
      {
       "cell_index": 11
      }
     ]
    },
    "10208baea05549ab8c2732bf120f3350": {
     "views": [
      {
       "cell_index": 13
      }
     ]
    },
    "1090c03033294859900564e824a65684": {
     "views": [
      {
       "cell_index": 13
      }
     ]
    },
    "165098931fa84aeaa7fbc4c1571ab49b": {
     "views": [
      {
       "cell_index": 11
      }
     ]
    },
    "18f0eb468abd48f9860bb139e1b72cb3": {
     "views": [
      {
       "cell_index": 13
      }
     ]
    },
    "1fcee7bd4c46405990e95e24f02e06bf": {
     "views": [
      {
       "cell_index": 13
      }
     ]
    },
    "21d5fd0e2e3b405c8316ca940d67fc0f": {
     "views": [
      {
       "cell_index": 13
      }
     ]
    },
    "2392662872c84781aa03226400269414": {
     "views": [
      {
       "cell_index": 13
      }
     ]
    },
    "23de24b4f7ac4238baaeb24fa56adea5": {
     "views": [
      {
       "cell_index": 13
      }
     ]
    },
    "25496b5b9afb4b759606c9cf468fbcb7": {
     "views": [
      {
       "cell_index": 13
      }
     ]
    },
    "2764864b76b940e2945b54e03b785bba": {
     "views": [
      {
       "cell_index": 13
      }
     ]
    },
    "28875e40bda74f0b8dc8cfa090c36a6d": {
     "views": [
      {
       "cell_index": 13
      }
     ]
    },
    "2a0174d7fa414715a55ce6340cbcf060": {
     "views": [
      {
       "cell_index": 11
      }
     ]
    },
    "2e5eefa4973645068d98f5ae29c2d48c": {
     "views": [
      {
       "cell_index": 13
      }
     ]
    },
    "2eb68b1f659744a0978fe2194f1600c6": {
     "views": [
      {
       "cell_index": 13
      }
     ]
    },
    "31a7b79dd0fc45c8bea39dd88d211ef6": {
     "views": [
      {
       "cell_index": 13
      }
     ]
    },
    "31b4be49915f4fe597a86cec75d8e808": {
     "views": [
      {
       "cell_index": 11
      }
     ]
    },
    "382bc82b5e894004a8940140bfc24dc9": {
     "views": [
      {
       "cell_index": 13
      }
     ]
    },
    "385f12854cb54e639897b6a053d0256b": {
     "views": [
      {
       "cell_index": 13
      }
     ]
    },
    "388273e3579d43b39202371b1a3bec1a": {
     "views": [
      {
       "cell_index": 13
      }
     ]
    },
    "38ce1b9748934806b36fee0d2b8580e3": {
     "views": [
      {
       "cell_index": 13
      }
     ]
    },
    "38f01b7d9d9c403d88c063df42be9d7d": {
     "views": [
      {
       "cell_index": 13
      }
     ]
    },
    "3bedb5c73ff44634a54bfbfe3aa0bf04": {
     "views": [
      {
       "cell_index": 11
      }
     ]
    },
    "3f0a7cf50c4140489b99b6b289f0b46e": {
     "views": [
      {
       "cell_index": 13
      }
     ]
    },
    "40194479671a4cfebfd72befe0d23af3": {
     "views": [
      {
       "cell_index": 10
      }
     ]
    },
    "4b4c6709557548159a182786e141b7ae": {
     "views": [
      {
       "cell_index": 13
      }
     ]
    },
    "4ba04cae5e3740cf864777e48f886774": {
     "views": [
      {
       "cell_index": 13
      }
     ]
    },
    "4fb7c8788d554e9cb592d46ed7d3717f": {
     "views": [
      {
       "cell_index": 13
      }
     ]
    },
    "50723d06572c4069a458fe5e935bcb61": {
     "views": [
      {
       "cell_index": 11
      }
     ]
    },
    "532d7e737b8c458c9785197016461256": {
     "views": [
      {
       "cell_index": 13
      }
     ]
    },
    "5458f45e5a824fd18fc5d57fe05a9ddc": {
     "views": [
      {
       "cell_index": 13
      }
     ]
    },
    "5a79ee0c75d84ec2b3f6375561680338": {
     "views": [
      {
       "cell_index": 13
      }
     ]
    },
    "5bfd313bc09d4a10bede164235c62fc0": {
     "views": [
      {
       "cell_index": 10
      }
     ]
    },
    "5e69d221b8814f30b44df609a6f11b8e": {
     "views": [
      {
       "cell_index": 13
      }
     ]
    },
    "5f68ea61ef9743f38af7f8bf887d25bc": {
     "views": [
      {
       "cell_index": 11
      }
     ]
    },
    "6018c467bc3d4483a0d6395799f0d164": {
     "views": [
      {
       "cell_index": 13
      }
     ]
    },
    "610b134a257e4316a087c2dbb40ad041": {
     "views": [
      {
       "cell_index": 11
      }
     ]
    },
    "6720136f34264844b37458e7e266dfb4": {
     "views": [
      {
       "cell_index": 13
      }
     ]
    },
    "6f7b29df1f8c4aa6a4fa3c9ac36c432a": {
     "views": [
      {
       "cell_index": 11
      }
     ]
    },
    "74d9735f4cad4d058e26f69101eec449": {
     "views": [
      {
       "cell_index": 11
      }
     ]
    },
    "789cd6556d144999b6dd8dfcd66ea066": {
     "views": [
      {
       "cell_index": 13
      }
     ]
    },
    "7a4a13f11cf4493dbd60e0c2534df8dc": {
     "views": [
      {
       "cell_index": 13
      }
     ]
    },
    "7df49b5771514a1e8bdffe94458f089d": {
     "views": [
      {
       "cell_index": 13
      }
     ]
    },
    "817558a8c53c40d1bb24f553b0d054b6": {
     "views": [
      {
       "cell_index": 13
      }
     ]
    },
    "836284dcc23b46c49f33825f49d36f26": {
     "views": [
      {
       "cell_index": 10
      }
     ]
    },
    "8d474abf57704e26a9b7b5940b9e9f61": {
     "views": [
      {
       "cell_index": 13
      }
     ]
    },
    "8deed661eae149639c4b8dfa90d7ba8d": {
     "views": [
      {
       "cell_index": 10
      }
     ]
    },
    "8df50b6d4c5947d3b1ef1ab98a61d50c": {
     "views": [
      {
       "cell_index": 13
      }
     ]
    },
    "8f840c64e4bf4bdc94fe8a77f11475c2": {
     "views": [
      {
       "cell_index": 10
      }
     ]
    },
    "924b50842f2f4585a97152766ad64445": {
     "views": [
      {
       "cell_index": 13
      }
     ]
    },
    "93ceeeaf2d934f9da367f75366ae1db6": {
     "views": [
      {
       "cell_index": 13
      }
     ]
    },
    "97f77951cc5e4bca9232c33ecc51bde2": {
     "views": [
      {
       "cell_index": 13
      }
     ]
    },
    "99e917f52f2543d3b4892bc28bac0225": {
     "views": [
      {
       "cell_index": 13
      }
     ]
    },
    "9cc5b931f9db4dd7a11e750c106377c0": {
     "views": [
      {
       "cell_index": 13
      }
     ]
    },
    "9db9e91605c54a148652f9602fff88d2": {
     "views": [
      {
       "cell_index": 13
      }
     ]
    },
    "9dcac096f31349c38cb973094baab977": {
     "views": [
      {
       "cell_index": 11
      }
     ]
    },
    "9eb4e4e3fd6544c9b69984e4fa4cb0c6": {
     "views": [
      {
       "cell_index": 13
      }
     ]
    },
    "9f8f2abc7a74487ba8cd37505a16cdd2": {
     "views": [
      {
       "cell_index": 13
      }
     ]
    },
    "a06e4f5d1957479dba0d369dc5615334": {
     "views": [
      {
       "cell_index": 13
      }
     ]
    },
    "a118d4305a4c497d824a5f18ecb060ee": {
     "views": [
      {
       "cell_index": 10
      }
     ]
    },
    "a2db3ed832744254abaebc8b9aef9a8a": {
     "views": [
      {
       "cell_index": 13
      }
     ]
    },
    "a92ac0b75fbd4029bb1fbb487d1c27af": {
     "views": [
      {
       "cell_index": 13
      }
     ]
    },
    "b03493482fe74f6993c29c5d43d2e98d": {
     "views": [
      {
       "cell_index": 13
      }
     ]
    },
    "b1fcfe2718eb45d3971370cd097c5d64": {
     "views": [
      {
       "cell_index": 13
      }
     ]
    },
    "b522bbc5a26c46c5bc3bb6a7f87cfa72": {
     "views": [
      {
       "cell_index": 13
      }
     ]
    },
    "b582298fbbec43ef8914a1d83485f451": {
     "views": [
      {
       "cell_index": 13
      }
     ]
    },
    "b753daec8ff94fa18e8c3936486595e0": {
     "views": [
      {
       "cell_index": 13
      }
     ]
    },
    "bb68a76f32284463b2a12115c62142a6": {
     "views": [
      {
       "cell_index": 13
      }
     ]
    },
    "c1f23ccf7d2a4a92a1ff571af02d331d": {
     "views": [
      {
       "cell_index": 13
      }
     ]
    },
    "c27b100b1fae46ceb2306d1b9a6f2110": {
     "views": [
      {
       "cell_index": 13
      }
     ]
    },
    "c92408a384bc42a19dee20e3411dba21": {
     "views": [
      {
       "cell_index": 13
      }
     ]
    },
    "c9b5a1a4f3db4779bdb91d2289d9137e": {
     "views": [
      {
       "cell_index": 13
      }
     ]
    },
    "cb6b3952e8214730a84b805ef095d4ce": {
     "views": [
      {
       "cell_index": 13
      }
     ]
    },
    "d1383625c33146eb976f610c1e9eb176": {
     "views": [
      {
       "cell_index": 10
      }
     ]
    },
    "d1b36d3435c649c39a27051e31f5a66c": {
     "views": [
      {
       "cell_index": 13
      }
     ]
    },
    "d1e06eb385d14049b26fe29e64fb84a5": {
     "views": [
      {
       "cell_index": 11
      }
     ]
    },
    "d24d9ad092104c2db827738f5d18c4c4": {
     "views": [
      {
       "cell_index": 13
      }
     ]
    },
    "d32a0241301240aab43e36491533cefd": {
     "views": [
      {
       "cell_index": 11
      }
     ]
    },
    "d590d117a74d42e78345544420526c28": {
     "views": [
      {
       "cell_index": 13
      }
     ]
    },
    "d696f67776d043cd956b84ddec817f6b": {
     "views": [
      {
       "cell_index": 10
      }
     ]
    },
    "d7e3e234f05e4936887b67df6d1d4ded": {
     "views": [
      {
       "cell_index": 11
      }
     ]
    },
    "da11e767053047ce9bedec12b3fd3512": {
     "views": [
      {
       "cell_index": 13
      }
     ]
    },
    "db54ca9f8e694894aced4b0e2ecd38a1": {
     "views": [
      {
       "cell_index": 13
      }
     ]
    },
    "dc5bbb8c190b4303ac702efa6594e7db": {
     "views": [
      {
       "cell_index": 11
      }
     ]
    },
    "deb311021c474d2592a6673489b8268e": {
     "views": [
      {
       "cell_index": 13
      }
     ]
    },
    "e1207d3eeefb408fa00e33e1a251f978": {
     "views": [
      {
       "cell_index": 13
      }
     ]
    },
    "e3f0ccdee2ac4f35acde3a3ce6cdf169": {
     "views": [
      {
       "cell_index": 10
      }
     ]
    },
    "ecf76d0965914b11b81572fae9bc5d3d": {
     "views": [
      {
       "cell_index": 13
      }
     ]
    },
    "f316ac8758d043398701bfa17b33bd54": {
     "views": [
      {
       "cell_index": 13
      }
     ]
    },
    "f5241c4b33df49159908b5ed68e8de1e": {
     "views": [
      {
       "cell_index": 13
      }
     ]
    },
    "f74aae7979fa47ca99ba06b3d783cdda": {
     "views": [
      {
       "cell_index": 11
      }
     ]
    },
    "fa3ff5049fb64d23915c5680f5ea8bb3": {
     "views": [
      {
       "cell_index": 13
      }
     ]
    },
    "fb9df5860c7e41509dda1bf7f4403d94": {
     "views": [
      {
       "cell_index": 10
      }
     ]
    },
    "fbd268e0a57c4cdab3711723e0c0d9e2": {
     "views": [
      {
       "cell_index": 13
      }
     ]
    },
    "fbdf8a5c2a124362b8d504c35833aefc": {
     "views": [
      {
       "cell_index": 10
      }
     ]
    }
   },
   "version": "1.2.0"
  }
 },
 "nbformat": 4,
 "nbformat_minor": 1
}
